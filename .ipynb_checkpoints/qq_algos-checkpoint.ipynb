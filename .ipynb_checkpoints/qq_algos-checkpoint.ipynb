{
 "cells": [
  {
   "cell_type": "code",
   "execution_count": 1,
   "id": "825dc90f",
   "metadata": {},
   "outputs": [],
   "source": [
    "import numpy as np\n",
    "import ioh"
   ]
  },
  {
   "cell_type": "code",
   "execution_count": 2,
   "id": "01404810",
   "metadata": {},
   "outputs": [
    {
     "data": {
      "text/plain": [
       "{2000: 'MaxCut2000',\n",
       " 2001: 'MaxCut2001',\n",
       " 2002: 'MaxCut2002',\n",
       " 2003: 'MaxCut2003',\n",
       " 2004: 'MaxCut2004',\n",
       " 2100: 'MaxCoverage2100',\n",
       " 2101: 'MaxCoverage2101',\n",
       " 2102: 'MaxCoverage2102',\n",
       " 2103: 'MaxCoverage2103',\n",
       " 2104: 'MaxCoverage2104',\n",
       " 2105: 'MaxCoverage2105',\n",
       " 2106: 'MaxCoverage2106',\n",
       " 2107: 'MaxCoverage2107',\n",
       " 2108: 'MaxCoverage2108',\n",
       " 2109: 'MaxCoverage2109',\n",
       " 2110: 'MaxCoverage2110',\n",
       " 2111: 'MaxCoverage2111',\n",
       " 2112: 'MaxCoverage2112',\n",
       " 2113: 'MaxCoverage2113',\n",
       " 2114: 'MaxCoverage2114',\n",
       " 2115: 'MaxCoverage2115',\n",
       " 2116: 'MaxCoverage2116',\n",
       " 2117: 'MaxCoverage2117',\n",
       " 2118: 'MaxCoverage2118',\n",
       " 2119: 'MaxCoverage2119',\n",
       " 2120: 'MaxCoverage2120',\n",
       " 2121: 'MaxCoverage2121',\n",
       " 2122: 'MaxCoverage2122',\n",
       " 2123: 'MaxCoverage2123',\n",
       " 2124: 'MaxCoverage2124',\n",
       " 2125: 'MaxCoverage2125',\n",
       " 2126: 'MaxCoverage2126',\n",
       " 2127: 'MaxCoverage2127',\n",
       " 2200: 'MaxInfluence2200',\n",
       " 2201: 'MaxInfluence2201',\n",
       " 2202: 'MaxInfluence2202',\n",
       " 2203: 'MaxInfluence2203',\n",
       " 2204: 'MaxInfluence2204',\n",
       " 2205: 'MaxInfluence2205',\n",
       " 2206: 'MaxInfluence2206',\n",
       " 2207: 'MaxInfluence2207',\n",
       " 2208: 'MaxInfluence2208',\n",
       " 2209: 'MaxInfluence2209',\n",
       " 2210: 'MaxInfluence2210',\n",
       " 2211: 'MaxInfluence2211',\n",
       " 2212: 'MaxInfluence2212',\n",
       " 2213: 'MaxInfluence2213',\n",
       " 2214: 'MaxInfluence2214',\n",
       " 2215: 'MaxInfluence2215',\n",
       " 2216: 'MaxInfluence2216',\n",
       " 2217: 'MaxInfluence2217',\n",
       " 2218: 'MaxInfluence2218',\n",
       " 2219: 'MaxInfluence2219',\n",
       " 2220: 'MaxInfluence2220',\n",
       " 2221: 'MaxInfluence2221',\n",
       " 2222: 'MaxInfluence2222',\n",
       " 2223: 'MaxInfluence2223',\n",
       " 2300: 'PackWhileTravel2300',\n",
       " 2301: 'PackWhileTravel2301',\n",
       " 2302: 'PackWhileTravel2302',\n",
       " 2303: 'PackWhileTravel2303',\n",
       " 2304: 'PackWhileTravel2304',\n",
       " 2305: 'PackWhileTravel2305',\n",
       " 2306: 'PackWhileTravel2306',\n",
       " 2307: 'PackWhileTravel2307',\n",
       " 2308: 'PackWhileTravel2308'}"
      ]
     },
     "execution_count": 2,
     "metadata": {},
     "output_type": "execute_result"
    }
   ],
   "source": [
    "ioh.ProblemClass.GRAPH.problems"
   ]
  },
  {
   "cell_type": "code",
   "execution_count": 3,
   "id": "616b30e5",
   "metadata": {},
   "outputs": [],
   "source": [
    "problem = ioh.get_problem(2000,problem_class=ioh.ProblemClass.GRAPH)"
   ]
  },
  {
   "cell_type": "code",
   "execution_count": 4,
   "id": "b96b7b66",
   "metadata": {
    "scrolled": true
   },
   "outputs": [],
   "source": [
    "problem_dim = problem.meta_data.n_variables"
   ]
  },
  {
   "cell_type": "markdown",
   "id": "299c3603",
   "metadata": {},
   "source": [
    "# RLS"
   ]
  },
  {
   "cell_type": "code",
   "execution_count": 5,
   "id": "c64b1486",
   "metadata": {},
   "outputs": [],
   "source": [
    "problem.reset()"
   ]
  },
  {
   "cell_type": "code",
   "execution_count": 6,
   "id": "04949953",
   "metadata": {},
   "outputs": [],
   "source": [
    "sample = np.random.randint(0,2,problem_dim)\n",
    "value = problem(sample)\n",
    "best_sample = sample\n",
    "best_value = value\n",
    "for i in range(0,10000-1):\n",
    "    bitflip = np.random.randint(0,problem_dim)\n",
    "    sample[bitflip] = 0 if sample[bitflip] else 1\n",
    "    value = problem(sample)\n",
    "    if value >= best_value:\n",
    "        best_value = value\n",
    "        best_sample = sample"
   ]
  },
  {
   "cell_type": "code",
   "execution_count": 7,
   "id": "7ca72e38",
   "metadata": {},
   "outputs": [
    {
     "data": {
      "text/plain": [
       "<State evaluations: 10000 optimum_found: false current_best: <Solution x: [0, 1, 1, 1, 1, 1, 0, 1, 0, 0, 1, 1, 0, 0, 0, 1, 1, 1, 0, 1, 0, 1, 1, 0, 1, 0, 0, 1, 0, 1, 0, 0, 1, 0, 1, 0, 1, 0, 1, 1, 0, 1, 0, 1, 0, 1, 0, 0, 1, 1, 1, 0, 1, 0, 1, 1, 0, 0, 1, 1, 1, 0, 1, 1, 0, 0, 0, 1, 0, 0, 0, 1, 0, 0, 1, 1, 0, 1, 1, 0, 1, 1, 1, 0, 1, 1, 1, 0, 0, 0, 1, 1, 0, 1, 0, 0, 1, 0, 1, 0, 0, 1, 1, 0, 0, 0, 1, 0, 1, 0, 0, 0, 1, 1, 1, 1, 1, 1, 1, 1, 0, 0, 1, 1, 1, 0, 1, 0, 1, 0, 0, 0, 1, 0, 1, 1, 1, 0, 1, 0, 0, 0, 0, 0, 1, 0, 1, 1, 0, 1, 0, 0, 0, 1, 0, 0, 1, 0, 0, 1, 1, 1, 0, 0, 0, 0, 0, 1, 1, 0, 0, 0, 1, 1, 1, 0, 0, 1, 0, 1, 1, 0, 1, 0, 0, 0, 0, 1, 0, 0, 1, 1, 1, 0, 1, 0, 1, 1, 1, 0, 1, 0, 1, 1, 1, 0, 0, 0, 0, 1, 1, 0, 1, 1, 1, 0, 0, 0, 1, 0, 1, 1, 0, 0, 0, 0, 0, 0, 0, 1, 0, 0, 1, 1, 0, 1, 0, 1, 1, 0, 0, 0, 1, 1, 0, 1, 1, 0, 1, 1, 1, 0, 1, 1, 1, 0, 1, 1, 0, 1, 1, 1, 1, 1, 0, 1, 0, 1, 1, 1, 1, 0, 0, 1, 0, 0, 1, 0, 0, 1, 0, 0, 0, 1, 1, 1, 1, 1, 1, 0, 0, 1, 0, 0, 1, 1, 1, 0, 0, 1, 0, 1, 1, 0, 1, 1, 1, 0, 0, 1, 1, 1, 0, 1, 0, 1, 1, 0, 1, 0, 1, 1, 1, 0, 0, 1, 1, 1, 1, 0, 0, 1, 1, 0, 1, 0, 0, 0, 1, 0, 0, 0, 0, 1, 1, 0, 0, 1, 0, 0, 1, 1, 1, 1, 1, 1, 1, 0, 1, 0, 0, 0, 0, 0, 1, 0, 0, 1, 1, 1, 0, 1, 1, 1, 0, 0, 0, 0, 1, 1, 1, 1, 0, 1, 0, 0, 0, 1, 1, 1, 1, 0, 0, 1, 0, 1, 1, 0, 0, 0, 0, 0, 1, 1, 1, 1, 1, 0, 0, 0, 0, 0, 0, 1, 1, 0, 1, 0, 1, 1, 0, 1, 1, 0, 0, 1, 1, 1, 0, 1, 1, 1, 1, 1, 1, 1, 0, 0, 0, 1, 1, 1, 0, 1, 1, 1, 0, 0, 1, 1, 0, 1, 0, 1, 0, 1, 1, 0, 1, 0, 1, 0, 1, 0, 1, 1, 0, 1, 0, 1, 1, 0, 1, 1, 0, 0, 1, 0, 0, 1, 0, 1, 0, 0, 1, 1, 1, 0, 1, 0, 0, 1, 1, 1, 0, 0, 1, 1, 0, 1, 1, 0, 1, 0, 1, 0, 1, 1, 1, 1, 0, 0, 0, 0, 0, 1, 1, 1, 1, 1, 0, 1, 1, 1, 0, 1, 1, 0, 0, 1, 1, 0, 1, 1, 1, 1, 1, 1, 0, 0, 0, 0, 0, 1, 0, 0, 1, 1, 1, 1, 1, 1, 0, 1, 0, 1, 1, 0, 0, 1, 0, 0, 0, 1, 0, 1, 1, 0, 0, 0, 1, 0, 0, 1, 0, 1, 0, 0, 1, 0, 1, 0, 1, 0, 0, 0, 1, 0, 0, 1, 0, 1, 0, 0, 0, 0, 1, 0, 0, 0, 0, 1, 1, 1, 0, 0, 1, 0, 1, 0, 1, 0, 0, 0, 1, 0, 1, 1, 0, 0, 1, 0, 1, 0, 0, 0, 1, 0, 0, 0, 1, 0, 0, 0, 1, 0, 0, 1, 1, 1, 0, 0, 1, 0, 0, 1, 0, 1, 0, 1, 0, 1, 1, 0, 1, 0, 0, 0, 1, 1, 0, 0, 1, 1, 1, 0, 0, 0, 1, 1, 1, 1, 0, 1, 0, 0, 1, 0, 0, 1, 0, 0, 1, 0, 1, 0, 1, 1, 0, 1, 0, 1, 0, 0, 1, 1, 1, 1, 1, 1, 1, 1, 0, 0, 1, 0, 0, 1, 1, 1, 1, 0, 0, 1, 1, 1, 0, 0, 0, 0, 1, 0, 0, 1, 1, 0, 0, 0, 0, 0, 0, 1, 0, 0, 1, 0, 1, 1, 0, 0, 0, 1, 1, 0, 0, 1, 1, 0, 1, 0, 0, 0, 0, 0, 0, 0, 0, 1, 1, 1, 0, 1, 1, 0, 1, 1, 0, 0, 1, 1, 1, 1, 0, 1, 1, 0, 0, 1, 0, 0, 1, 1, 1, 1, 0, 0, 1, 0, 0, 0, 0, 0, 1, 0, 0, 1, 0, 1, 0, 1] y: 9759>>"
      ]
     },
     "execution_count": 7,
     "metadata": {},
     "output_type": "execute_result"
    }
   ],
   "source": [
    "problem.state"
   ]
  },
  {
   "cell_type": "markdown",
   "id": "62c84335",
   "metadata": {},
   "source": [
    "# (1+1) EA "
   ]
  },
  {
   "cell_type": "code",
   "execution_count": 8,
   "id": "87c71ee2",
   "metadata": {},
   "outputs": [],
   "source": [
    "problem.reset()"
   ]
  },
  {
   "cell_type": "code",
   "execution_count": 9,
   "id": "6d6d07c5",
   "metadata": {},
   "outputs": [],
   "source": [
    "p=1/3"
   ]
  },
  {
   "cell_type": "code",
   "execution_count": 10,
   "id": "b185e15b",
   "metadata": {},
   "outputs": [],
   "source": [
    "sample = np.random.randint(0,2,problem_dim)\n",
    "value = problem(sample)\n",
    "best_sample = sample\n",
    "best_value = value\n",
    "for i in range(0,10000-1):\n",
    "    for i in range(0,problem_dim):\n",
    "        flip = 1 - np.random.binomial(1,p)\n",
    "        sample[i] = 1 - sample[i] if flip else sample[i]\n",
    "    value = problem(sample)\n",
    "    if value >= best_value:\n",
    "        best_value = value\n",
    "        best_sample = sample"
   ]
  },
  {
   "cell_type": "code",
   "execution_count": 11,
   "id": "405ede91",
   "metadata": {},
   "outputs": [
    {
     "data": {
      "text/plain": [
       "<State evaluations: 10000 optimum_found: false current_best: <Solution x: [1, 1, 0, 1, 1, 0, 0, 0, 1, 1, 0, 0, 1, 0, 1, 1, 0, 1, 1, 0, 0, 1, 1, 0, 0, 0, 0, 1, 0, 1, 0, 0, 1, 0, 1, 0, 1, 1, 1, 0, 0, 0, 1, 0, 1, 1, 0, 1, 1, 1, 0, 0, 0, 1, 1, 1, 0, 1, 1, 1, 0, 0, 1, 0, 1, 1, 0, 0, 1, 1, 1, 0, 0, 0, 1, 1, 1, 1, 0, 1, 1, 0, 0, 0, 1, 0, 0, 1, 1, 0, 0, 1, 0, 0, 1, 0, 1, 0, 0, 0, 0, 0, 1, 0, 0, 1, 1, 1, 0, 1, 0, 1, 1, 1, 0, 1, 0, 1, 0, 0, 0, 1, 0, 0, 1, 1, 0, 0, 0, 1, 0, 0, 1, 1, 0, 1, 1, 1, 0, 0, 1, 0, 0, 1, 0, 0, 0, 1, 0, 1, 1, 1, 0, 0, 0, 1, 1, 1, 0, 0, 1, 0, 1, 1, 1, 0, 1, 1, 1, 1, 0, 1, 1, 0, 1, 1, 0, 0, 1, 1, 0, 0, 0, 0, 1, 1, 0, 1, 0, 1, 0, 0, 0, 0, 0, 1, 1, 0, 1, 1, 1, 1, 1, 1, 1, 0, 0, 0, 0, 0, 1, 1, 0, 1, 1, 0, 1, 1, 1, 0, 1, 0, 1, 1, 1, 0, 0, 0, 1, 0, 0, 1, 1, 0, 0, 1, 0, 0, 0, 1, 1, 1, 1, 0, 0, 1, 1, 1, 0, 0, 1, 0, 1, 1, 1, 0, 0, 1, 0, 0, 0, 0, 0, 0, 0, 0, 1, 1, 0, 1, 0, 0, 0, 0, 0, 0, 1, 1, 0, 1, 0, 1, 0, 0, 0, 0, 1, 1, 0, 1, 1, 1, 1, 1, 0, 1, 1, 0, 1, 1, 0, 1, 1, 1, 1, 0, 0, 0, 1, 0, 1, 1, 1, 0, 0, 1, 1, 1, 1, 0, 0, 1, 0, 0, 0, 1, 0, 1, 1, 1, 0, 1, 0, 1, 1, 1, 0, 0, 0, 0, 0, 0, 1, 0, 0, 1, 0, 0, 1, 0, 0, 0, 1, 1, 0, 0, 0, 0, 1, 1, 0, 0, 0, 1, 1, 0, 1, 0, 0, 0, 0, 1, 1, 1, 1, 0, 1, 1, 1, 0, 1, 1, 1, 0, 1, 1, 0, 1, 1, 0, 0, 0, 0, 1, 0, 1, 0, 1, 0, 1, 0, 1, 0, 1, 1, 0, 1, 1, 1, 1, 1, 1, 1, 0, 1, 0, 1, 1, 1, 1, 0, 0, 1, 1, 1, 0, 1, 0, 0, 1, 0, 1, 1, 0, 1, 1, 1, 1, 1, 0, 0, 0, 1, 0, 1, 0, 0, 1, 1, 1, 1, 1, 0, 1, 1, 0, 0, 0, 1, 1, 1, 1, 1, 1, 0, 1, 0, 0, 0, 0, 0, 1, 0, 0, 1, 0, 0, 0, 0, 1, 1, 0, 0, 1, 0, 1, 1, 1, 0, 1, 1, 1, 0, 1, 1, 0, 0, 1, 0, 1, 1, 0, 1, 1, 0, 1, 0, 0, 0, 1, 0, 0, 0, 1, 1, 0, 1, 1, 1, 1, 1, 1, 1, 1, 0, 0, 1, 0, 0, 1, 0, 1, 0, 1, 0, 1, 1, 0, 1, 1, 1, 0, 1, 0, 0, 0, 0, 1, 1, 0, 1, 0, 1, 1, 1, 0, 0, 1, 0, 0, 1, 1, 0, 1, 0, 1, 1, 1, 0, 1, 0, 1, 0, 1, 1, 0, 1, 0, 1, 1, 1, 1, 0, 0, 1, 1, 1, 1, 1, 0, 0, 1, 0, 1, 1, 0, 0, 1, 1, 0, 1, 0, 1, 1, 1, 0, 1, 1, 1, 1, 0, 1, 1, 0, 1, 0, 0, 1, 0, 0, 1, 1, 0, 0, 0, 1, 1, 0, 1, 1, 1, 1, 1, 1, 0, 1, 1, 0, 1, 1, 0, 1, 1, 1, 1, 1, 0, 1, 0, 1, 0, 0, 0, 1, 1, 1, 1, 1, 0, 0, 0, 1, 1, 0, 0, 0, 0, 0, 0, 1, 1, 0, 1, 0, 1, 1, 0, 1, 1, 1, 0, 0, 1, 1, 0, 0, 1, 0, 1, 1, 1, 0, 1, 1, 1, 1, 1, 0, 0, 1, 1, 1, 1, 0, 0, 1, 0, 0, 0, 0, 0, 0, 0, 0, 0, 0, 1, 0, 0, 1, 0, 0, 0, 1, 0, 0, 0, 0, 0, 1, 0, 0, 1, 1, 1, 1, 1, 0, 1, 1, 0, 0, 0, 1, 0, 1, 1, 0, 1, 0, 0, 0, 0, 0, 1, 0, 1, 1, 1, 0, 0, 1, 0, 1, 0, 1, 1, 1, 0, 0, 1, 1, 1, 1, 1, 0, 1, 1, 0, 0, 1, 0, 0, 1, 1, 0, 0, 0, 1, 0, 0, 0, 0, 1, 1, 1, 0, 0, 1, 0] y: 9840>>"
      ]
     },
     "execution_count": 11,
     "metadata": {},
     "output_type": "execute_result"
    }
   ],
   "source": [
    "problem.state"
   ]
  },
  {
   "cell_type": "markdown",
   "id": "16f12129",
   "metadata": {},
   "source": [
    "# (1+($\\lambda, \\lambda$)) EA "
   ]
  },
  {
   "cell_type": "code",
   "execution_count": 53,
   "id": "c6e94680-f128-473e-a169-8679e3153d6c",
   "metadata": {},
   "outputs": [],
   "source": [
    "problem.reset()"
   ]
  },
  {
   "cell_type": "code",
   "execution_count": 54,
   "id": "e236e672-9fc1-4c5c-80d9-b04c6358dfbf",
   "metadata": {},
   "outputs": [],
   "source": [
    "lmbda = 10 #population size\n",
    "p = 1/3 #mutation rate\n",
    "c = 1/3 #crossover bias"
   ]
  },
  {
   "cell_type": "code",
   "execution_count": 55,
   "id": "350ee420",
   "metadata": {},
   "outputs": [],
   "source": [
    "best_sample = np.random.randint(0,2,problem_dim)\n",
    "best_value = problem(sample)\n",
    "\n",
    "while problem.state.evaluations < 10000 :\n",
    "    #mutation phase\n",
    "    L = np.random.binomial(problem_dim,p)\n",
    "    offsprings = []\n",
    "    for i in range(0,lmbda): \n",
    "        offspring = list(best_sample)\n",
    "        bitflips = np.random.randint(0,problem_dim,L)\n",
    "        for j in range(L):\n",
    "            offspring[bitflips[j]] = 0 if offspring[bitflips[j]] else 1\n",
    "        offsprings.append(offspring)\n",
    "    off_values = problem(offsprings)\n",
    "    best_offspring = offsprings[np.argmax(off_values)]\n",
    "    \n",
    "    #crossover phase\n",
    "    children = []\n",
    "    for i in range(0,lmbda):\n",
    "        child = np.zeros(problem_dim).astype(int)\n",
    "        for j in range(0,problem_dim):\n",
    "            flip = np.random.binomial(1,c)\n",
    "            child[i] = offsprings[i][j] if flip else best_sample[i]\n",
    "        children.append(child)\n",
    "        child_values = problem(children)\n",
    "        \n",
    "        i_best_child = np.argmax(child_values)\n",
    "        best_child_value = np.max(child_values)\n",
    "        best_child = children[i_best_child]\n",
    "        \n",
    "    #selection phase\n",
    "    if best_child_value >= best_value :\n",
    "        best_sample = best_child\n",
    "        best_value = best_child_value"
   ]
  },
  {
   "cell_type": "code",
   "execution_count": 56,
   "id": "3745d6c4-929c-4a6b-9b57-5fc614b3c8ba",
   "metadata": {},
   "outputs": [
    {
     "data": {
      "text/plain": [
       "<State evaluations: 10011 optimum_found: false current_best: <Solution x: [0, 1, 1, 1, 0, 1, 1, 1, 0, 1, 0, 0, 1, 1, 0, 0, 1, 1, 0, 0, 0, 0, 0, 1, 1, 0, 0, 0, 0, 1, 1, 1, 1, 1, 0, 1, 1, 0, 0, 0, 0, 0, 1, 0, 0, 1, 1, 0, 1, 1, 1, 0, 1, 1, 1, 1, 0, 1, 0, 1, 0, 1, 1, 0, 1, 0, 1, 1, 0, 1, 0, 0, 1, 0, 0, 0, 1, 0, 0, 0, 1, 0, 0, 1, 1, 0, 0, 0, 1, 1, 0, 0, 1, 0, 0, 1, 1, 0, 1, 1, 1, 1, 1, 1, 0, 0, 1, 0, 0, 1, 0, 1, 1, 0, 1, 1, 1, 0, 0, 0, 1, 0, 0, 1, 1, 1, 1, 1, 1, 0, 1, 0, 0, 1, 0, 0, 0, 1, 1, 0, 1, 0, 0, 1, 0, 0, 1, 0, 1, 0, 0, 0, 1, 1, 0, 1, 0, 0, 1, 0, 0, 0, 0, 1, 0, 1, 1, 0, 0, 1, 0, 1, 1, 1, 1, 0, 1, 1, 0, 1, 1, 0, 1, 0, 0, 0, 1, 1, 0, 1, 0, 0, 1, 0, 0, 1, 1, 0, 0, 0, 1, 0, 0, 1, 1, 1, 1, 0, 1, 0, 1, 1, 0, 0, 0, 0, 0, 1, 0, 1, 0, 0, 1, 1, 0, 0, 0, 1, 0, 1, 0, 0, 0, 1, 0, 1, 1, 0, 1, 0, 1, 1, 0, 1, 0, 0, 0, 1, 0, 0, 0, 1, 0, 1, 0, 1, 0, 0, 0, 0, 0, 0, 0, 1, 1, 0, 1, 1, 1, 1, 0, 0, 0, 0, 0, 1, 1, 0, 0, 1, 1, 1, 0, 0, 0, 0, 0, 1, 0, 0, 1, 1, 1, 0, 1, 1, 0, 1, 0, 0, 1, 1, 1, 1, 0, 1, 1, 0, 0, 1, 0, 0, 1, 1, 0, 1, 1, 0, 0, 0, 0, 0, 1, 0, 0, 0, 0, 1, 0, 1, 0, 1, 1, 1, 1, 1, 1, 1, 1, 1, 1, 1, 1, 0, 0, 1, 0, 0, 0, 0, 0, 0, 0, 0, 0, 0, 1, 0, 0, 0, 1, 0, 1, 1, 0, 0, 1, 1, 0, 0, 1, 0, 0, 1, 1, 1, 1, 0, 1, 1, 0, 1, 0, 0, 0, 1, 0, 1, 0, 1, 1, 0, 1, 1, 1, 0, 0, 1, 1, 1, 1, 0, 1, 1, 1, 1, 0, 1, 1, 1, 1, 0, 0, 1, 0, 1, 0, 0, 1, 0, 1, 1, 1, 1, 1, 0, 0, 1, 1, 1, 1, 1, 0, 0, 1, 0, 1, 0, 0, 1, 1, 1, 1, 0, 0, 0, 0, 1, 0, 1, 1, 1, 1, 1, 0, 1, 0, 0, 0, 1, 1, 1, 1, 1, 1, 0, 1, 1, 0, 0, 0, 0, 1, 0, 0, 0, 1, 1, 0, 1, 0, 1, 1, 1, 0, 0, 1, 1, 1, 1, 0, 1, 1, 0, 1, 0, 1, 1, 0, 0, 0, 0, 1, 1, 1, 1, 0, 1, 1, 0, 0, 0, 1, 0, 0, 1, 0, 1, 0, 1, 1, 1, 1, 0, 1, 0, 1, 1, 0, 1, 0, 0, 1, 1, 0, 1, 1, 1, 1, 0, 0, 0, 1, 1, 0, 0, 1, 1, 1, 0, 1, 0, 0, 0, 0, 0, 0, 0, 1, 1, 0, 0, 0, 0, 0, 0, 1, 1, 1, 0, 1, 0, 0, 1, 0, 0, 0, 1, 1, 1, 1, 0, 0, 0, 0, 0, 0, 0, 1, 1, 1, 0, 0, 1, 0, 0, 0, 1, 1, 0, 0, 1, 0, 0, 1, 1, 1, 0, 1, 1, 1, 1, 0, 1, 1, 0, 0, 0, 1, 1, 1, 0, 0, 1, 0, 0, 0, 1, 1, 0, 0, 0, 1, 1, 1, 1, 1, 1, 1, 1, 0, 1, 1, 1, 0, 0, 0, 1, 0, 1, 0, 0, 1, 1, 0, 0, 1, 1, 0, 0, 0, 1, 1, 1, 1, 1, 0, 0, 1, 1, 0, 1, 1, 0, 0, 1, 0, 0, 0, 0, 1, 1, 1, 1, 1, 0, 1, 1, 0, 0, 1, 1, 0, 1, 1, 0, 1, 0, 0, 0, 1, 1, 1, 0, 1, 0, 1, 1, 0, 0, 1, 1, 1, 1, 0, 1, 1, 0, 1, 0, 1, 1, 1, 1, 1, 0, 0, 1, 1, 1, 0, 1, 0, 0, 0, 0, 1, 0, 0, 1, 0, 1, 1, 1, 0, 0, 1, 1, 0, 0, 0, 0, 0, 1, 1, 0, 1, 1, 0, 1, 0, 0, 0, 0, 0, 1, 0, 0, 0, 1, 1, 0, 0, 1, 1, 1, 1, 1, 1, 0, 1, 1, 1, 1, 1, 0, 1, 1, 0, 1, 0, 0, 1, 0, 1, 1, 1, 0, 0, 1] y: 9805>>"
      ]
     },
     "execution_count": 56,
     "metadata": {},
     "output_type": "execute_result"
    }
   ],
   "source": [
    "problem.state"
   ]
  }
 ],
 "metadata": {
  "kernelspec": {
   "display_name": "Python 3 (ipykernel)",
   "language": "python",
   "name": "python3"
  },
  "language_info": {
   "codemirror_mode": {
    "name": "ipython",
    "version": 3
   },
   "file_extension": ".py",
   "mimetype": "text/x-python",
   "name": "python",
   "nbconvert_exporter": "python",
   "pygments_lexer": "ipython3",
   "version": "3.8.10"
  }
 },
 "nbformat": 4,
 "nbformat_minor": 5
}
