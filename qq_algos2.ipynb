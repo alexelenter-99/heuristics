{
 "cells": [
  {
   "cell_type": "code",
   "execution_count": 198,
   "id": "825dc90f",
   "metadata": {},
   "outputs": [],
   "source": [
    "import numpy as np\n",
    "import ioh\n",
    "import math\n",
    "import random"
   ]
  },
  {
   "cell_type": "code",
   "execution_count": 199,
   "id": "01404810",
   "metadata": {},
   "outputs": [
    {
     "data": {
      "text/plain": [
       "{2000: 'MaxCut2000',\n",
       " 2001: 'MaxCut2001',\n",
       " 2002: 'MaxCut2002',\n",
       " 2003: 'MaxCut2003',\n",
       " 2004: 'MaxCut2004',\n",
       " 2100: 'MaxCoverage2100',\n",
       " 2101: 'MaxCoverage2101',\n",
       " 2102: 'MaxCoverage2102',\n",
       " 2103: 'MaxCoverage2103',\n",
       " 2104: 'MaxCoverage2104',\n",
       " 2105: 'MaxCoverage2105',\n",
       " 2106: 'MaxCoverage2106',\n",
       " 2107: 'MaxCoverage2107',\n",
       " 2108: 'MaxCoverage2108',\n",
       " 2109: 'MaxCoverage2109',\n",
       " 2110: 'MaxCoverage2110',\n",
       " 2111: 'MaxCoverage2111',\n",
       " 2112: 'MaxCoverage2112',\n",
       " 2113: 'MaxCoverage2113',\n",
       " 2114: 'MaxCoverage2114',\n",
       " 2115: 'MaxCoverage2115',\n",
       " 2116: 'MaxCoverage2116',\n",
       " 2117: 'MaxCoverage2117',\n",
       " 2118: 'MaxCoverage2118',\n",
       " 2119: 'MaxCoverage2119',\n",
       " 2120: 'MaxCoverage2120',\n",
       " 2121: 'MaxCoverage2121',\n",
       " 2122: 'MaxCoverage2122',\n",
       " 2123: 'MaxCoverage2123',\n",
       " 2124: 'MaxCoverage2124',\n",
       " 2125: 'MaxCoverage2125',\n",
       " 2126: 'MaxCoverage2126',\n",
       " 2127: 'MaxCoverage2127',\n",
       " 2200: 'MaxInfluence2200',\n",
       " 2201: 'MaxInfluence2201',\n",
       " 2202: 'MaxInfluence2202',\n",
       " 2203: 'MaxInfluence2203',\n",
       " 2204: 'MaxInfluence2204',\n",
       " 2205: 'MaxInfluence2205',\n",
       " 2206: 'MaxInfluence2206',\n",
       " 2207: 'MaxInfluence2207',\n",
       " 2208: 'MaxInfluence2208',\n",
       " 2209: 'MaxInfluence2209',\n",
       " 2210: 'MaxInfluence2210',\n",
       " 2211: 'MaxInfluence2211',\n",
       " 2212: 'MaxInfluence2212',\n",
       " 2213: 'MaxInfluence2213',\n",
       " 2214: 'MaxInfluence2214',\n",
       " 2215: 'MaxInfluence2215',\n",
       " 2216: 'MaxInfluence2216',\n",
       " 2217: 'MaxInfluence2217',\n",
       " 2218: 'MaxInfluence2218',\n",
       " 2219: 'MaxInfluence2219',\n",
       " 2220: 'MaxInfluence2220',\n",
       " 2221: 'MaxInfluence2221',\n",
       " 2222: 'MaxInfluence2222',\n",
       " 2223: 'MaxInfluence2223',\n",
       " 2300: 'PackWhileTravel2300',\n",
       " 2301: 'PackWhileTravel2301',\n",
       " 2302: 'PackWhileTravel2302',\n",
       " 2303: 'PackWhileTravel2303',\n",
       " 2304: 'PackWhileTravel2304',\n",
       " 2305: 'PackWhileTravel2305',\n",
       " 2306: 'PackWhileTravel2306',\n",
       " 2307: 'PackWhileTravel2307',\n",
       " 2308: 'PackWhileTravel2308'}"
      ]
     },
     "execution_count": 199,
     "metadata": {},
     "output_type": "execute_result"
    }
   ],
   "source": [
    "ioh.ProblemClass.GRAPH.problems"
   ]
  },
  {
   "cell_type": "code",
   "execution_count": 4,
   "id": "616b30e5",
   "metadata": {},
   "outputs": [],
   "source": [
    "max_cut = ioh.get_problem(2000, problem_class=ioh.ProblemClass.GRAPH)\n",
    "max_coverage = ioh.get_problem(2100, problem_class=ioh.ProblemClass.GRAPH)"
   ]
  },
  {
   "cell_type": "code",
   "execution_count": 5,
   "id": "931a6308",
   "metadata": {},
   "outputs": [
    {
     "name": "stdout",
     "output_type": "stream",
     "text": [
      "<MetaData: MaxCut2000 id: 2000 iid: 1 dim: 800>\n",
      "<MetaData: MaxCoverage2100 id: 2100 iid: 1 dim: 450>\n"
     ]
    }
   ],
   "source": [
    "print(max_cut.meta_data)\n",
    "print(max_coverage.meta_data)"
   ]
  },
  {
   "cell_type": "code",
   "execution_count": 6,
   "id": "21158393",
   "metadata": {},
   "outputs": [],
   "source": [
    "nb_it = 10000"
   ]
  },
  {
   "cell_type": "markdown",
   "id": "b45661cf-95e0-4b7c-ab25-c97d846929f5",
   "metadata": {
    "jp-MarkdownHeadingCollapsed": true
   },
   "source": [
    "# Multi-objective optimization"
   ]
  },
  {
   "cell_type": "code",
   "execution_count": 13,
   "id": "3c4a7dbb-ff3a-4c35-a1a3-e3d22cf084cd",
   "metadata": {},
   "outputs": [],
   "source": [
    "import random\n",
    "from typing import Callable"
   ]
  },
  {
   "cell_type": "code",
   "execution_count": 14,
   "id": "f2cf8c1d-bf1c-4443-b462-c74cf1dc3dc5",
   "metadata": {},
   "outputs": [],
   "source": [
    "class POSS:\n",
    "    \n",
    "    def __init__(self, n: int, pflip: int, b: int, I: Callable):\n",
    "        self.n: int = n\n",
    "        self.pflip = pflip #proba flit un bit\n",
    "        self.b: int = b #budget\n",
    "        self.I: Callable = I #isolation function : two solutions are comparable if they have the same I value\n",
    "        \n",
    "    def __call__(self, problem: ioh.ProblemClass.GRAPH) -> None:\n",
    "\n",
    "        def constraint1(s):\n",
    "            nb1 = np.count_nonzero(s[0])\n",
    "            if nb1 >= 2*self.b: return -100000 # -INFINI\n",
    "            return s[1]\n",
    "        \n",
    "        def constraint2(s):\n",
    "            return -np.count_nonzero(s[0])\n",
    "        \n",
    "        def leq(x,y): # <=\n",
    "            if constraint1(x) <= constraint1(y):\n",
    "                if constraint2(x) <= constraint2(y):\n",
    "                    return True\n",
    "                    \n",
    "        def lt(x,y):  # <\n",
    "            if constraint1(x) < constraint1(y):\n",
    "                if constraint2(x) <= constraint2(y):\n",
    "                    return True\n",
    "            if constraint1(x) <= constraint1(y):\n",
    "                if constraint2(x) < constraint2(y):\n",
    "                    return True\n",
    "        \n",
    "        def bitwise_mutation(s):\n",
    "            x = s[0].copy()\n",
    "\n",
    "            for i in range(problem.meta_data.n_variables):\n",
    "                flip = 1 if random.random() < self.pflip else 0\n",
    "                if flip:\n",
    "                    if x[i]: x[i] = 0\n",
    "                    else: x[i] = 1\n",
    "            \n",
    "            return (x,problem(x))\n",
    "        \n",
    "        s0 = np.zeros(problem.meta_data.n_variables).astype(int)\n",
    "        s = (s0,problem(s0))\n",
    "        P = [(s[0].copy(), s[1])]\n",
    "        for t in range(self.n):\n",
    "            if not t%100:\n",
    "                print(\"Iteration : \", t)\n",
    "            s = P[np.random.randint(len(P))] #Select a solution from P uar            \n",
    "            ns = bitwise_mutation(s)\n",
    "            \n",
    "            better_than_ns = [z for z in P if self.I(z[0])==self.I(ns[0]) and lt(ns,z)]\n",
    "\n",
    "            if not better_than_ns :\n",
    "                Q = [z for z in P if self.I(z)==self.I(ns) and leq(z,ns)]\n",
    "                P = [z for z in P if not any(np.array_equal(z, q) for q in Q)]\n",
    "                P.append((ns[0].copy(),ns[1]))"
   ]
  },
  {
   "cell_type": "code",
   "execution_count": 15,
   "id": "712e5d88-c96d-409a-a3f7-f6a3cd57e06d",
   "metadata": {},
   "outputs": [
    {
     "name": "stdout",
     "output_type": "stream",
     "text": [
      "Iteration :  0\n",
      "Iteration :  100\n"
     ]
    },
    {
     "name": "stderr",
     "output_type": "stream",
     "text": [
      "/home/buzetq/.local/lib/python3.8/site-packages/numpy/core/numeric.py:2457: VisibleDeprecationWarning: Creating an ndarray from ragged nested sequences (which is a list-or-tuple of lists-or-tuples-or ndarrays with different lengths or shapes) is deprecated. If you meant to do this, you must specify 'dtype=object' when creating the ndarray.\n",
      "  a1, a2 = asarray(a1), asarray(a2)\n"
     ]
    },
    {
     "name": "stdout",
     "output_type": "stream",
     "text": [
      "Iteration :  200\n",
      "Iteration :  300\n",
      "Iteration :  400\n",
      "Iteration :  500\n",
      "Iteration :  600\n",
      "Iteration :  700\n",
      "Iteration :  800\n",
      "Iteration :  900\n"
     ]
    }
   ],
   "source": [
    "import math\n",
    "max_coverage.reset()\n",
    "dim_pb = max_coverage.meta_data.n_variables\n",
    "poss = POSS(1000, 1/dim_pb, 10, lambda x: np.count_nonzero(x[0]))\n",
    "poss(max_coverage)"
   ]
  },
  {
   "cell_type": "code",
   "execution_count": 16,
   "id": "c877b793-601a-48bc-a058-94cf5893297e",
   "metadata": {},
   "outputs": [
    {
     "data": {
      "text/plain": [
       "<State evaluations: 1001 optimum_found: false current_best: <Solution x: [0, 0, 0, 0, 0, 0, 0, 0, 0, 0, 0, 0, 0, 0, 0, 0, 0, 0, 0, 0, 1, 0, 0, 0, 0, 0, 0, 0, 0, 0, 0, 0, 0, 0, 0, 0, 0, 0, 0, 0, 0, 0, 0, 0, 0, 0, 0, 0, 0, 0, 0, 0, 0, 0, 0, 0, 0, 0, 0, 0, 0, 0, 0, 0, 0, 0, 0, 0, 0, 0, 0, 0, 0, 0, 0, 0, 0, 0, 0, 0, 0, 0, 0, 0, 0, 0, 0, 0, 0, 0, 0, 0, 0, 0, 0, 0, 0, 0, 0, 0, 0, 0, 0, 0, 0, 0, 0, 0, 0, 0, 0, 0, 0, 0, 0, 0, 0, 0, 0, 1, 0, 0, 0, 0, 0, 0, 0, 0, 0, 0, 0, 0, 0, 0, 0, 0, 0, 0, 0, 0, 0, 0, 0, 0, 0, 0, 0, 0, 0, 0, 0, 0, 0, 0, 0, 0, 0, 0, 0, 0, 0, 0, 0, 0, 0, 0, 0, 0, 0, 0, 0, 0, 0, 0, 0, 0, 0, 0, 0, 0, 0, 0, 0, 0, 0, 0, 0, 0, 0, 0, 0, 0, 0, 0, 0, 0, 0, 0, 0, 0, 0, 0, 0, 0, 0, 0, 0, 0, 0, 0, 0, 0, 0, 1, 0, 0, 0, 0, 0, 0, 0, 0, 0, 0, 0, 1, 0, 0, 0, 0, 0, 0, 0, 0, 0, 0, 0, 0, 0, 0, 0, 0, 0, 0, 0, 0, 0, 0, 0, 0, 0, 0, 0, 0, 0, 0, 0, 0, 0, 0, 0, 0, 0, 0, 0, 0, 0, 0, 0, 0, 0, 0, 0, 0, 1, 0, 0, 0, 0, 0, 0, 0, 0, 0, 0, 0, 0, 0, 0, 0, 0, 0, 1, 0, 0, 0, 0, 0, 0, 0, 0, 0, 0, 0, 0, 0, 0, 0, 0, 0, 0, 0, 0, 0, 0, 0, 0, 0, 0, 0, 0, 0, 0, 0, 0, 0, 0, 0, 0, 0, 0, 0, 0, 0, 0, 0, 0, 0, 0, 0, 0, 0, 0, 0, 0, 0, 0, 0, 0, 0, 0, 0, 0, 0, 0, 0, 1, 0, 0, 0, 0, 0, 0, 0, 0, 0, 0, 0, 0, 0, 0, 0, 0, 0, 0, 0, 0, 0, 0, 0, 0, 0, 0, 0, 0, 0, 0, 0, 0, 0, 0, 0, 0, 1, 0, 0, 0, 0, 0, 0, 0, 0, 1, 0, 0, 0, 0, 0, 0, 0, 0, 0, 0, 0, 0, 0, 0, 0, 0, 0, 0, 0, 0, 0, 0, 0, 0, 0, 0, 0, 0, 1, 0, 0, 0, 0, 0, 0, 0, 0, 0, 0, 0, 0, 0, 0, 0, 0, 0, 0] y: 407>>"
      ]
     },
     "execution_count": 16,
     "metadata": {},
     "output_type": "execute_result"
    }
   ],
   "source": [
    "max_coverage.state"
   ]
  },
  {
   "cell_type": "markdown",
   "id": "f0af8fa6-a41b-4e71-b597-2d154c515f37",
   "metadata": {
    "jp-MarkdownHeadingCollapsed": true
   },
   "source": [
    "# Algorithme par croissance"
   ]
  },
  {
   "cell_type": "code",
   "execution_count": 7,
   "id": "d314ddff-653e-4573-b6b9-c35f4a5961a3",
   "metadata": {},
   "outputs": [],
   "source": [
    "def flip(x,l):\n",
    "    positions = np.random.choice(np.arange(0,len(x)), l, replace=False)\n",
    "    y = x.copy()\n",
    "    y[positions] = 1 - y[positions]\n",
    "    return y"
   ]
  },
  {
   "cell_type": "code",
   "execution_count": 284,
   "id": "3415e747-5d98-4596-905f-2e7c5f50a423",
   "metadata": {},
   "outputs": [],
   "source": [
    "class Test:\n",
    "    \n",
    "    def __init__(self, n: int, s: int, k:int):\n",
    "        self.n: int = n #nb d'itérations\n",
    "        self.s: int = s #population size\n",
    "        self.k: int = k #taux de croissance\n",
    "    \n",
    "    def __call__(self, problem: ioh.ProblemClass.GRAPH) -> None:\n",
    "        dim = problem.meta_data.n_variables\n",
    "        \n",
    "        #Initialization\n",
    "        x = np.zeros(dim).astype(int)\n",
    "        y = problem(x)\n",
    "        \n",
    "        #Optimization\n",
    "        for t in range(self.n-1):\n",
    "            #On tire k échantillons et on garde celui qui fait le plus croitre la fonction\n",
    "            pop = []\n",
    "            for i in range(self.s):\n",
    "                xx = flip(x,self.k)\n",
    "                yy = problem(xx)\n",
    "                pop.append((xx,yy))\n",
    "            pop.sort(key=lambda x: x[1])\n",
    "            if pop[self.s-1][1] > y:\n",
    "                x = pop[self.s-1][0]\n",
    "                y = pop[self.s-1][1]\n",
    "            else:\n",
    "                self.k = max(int(self.k*3/4),1)"
   ]
  },
  {
   "cell_type": "code",
   "execution_count": 285,
   "id": "05861eb7-13ee-4b6d-9085-3e2db5132712",
   "metadata": {},
   "outputs": [
    {
     "data": {
      "text/plain": [
       "<State evaluations: 9991 optimum_found: false current_best: <Solution x: [1, 1, 0, 0, 1, 0, 1, 1, 1, 1, 1, 1, 1, 0, 0, 1, 1, 0, 0, 1, 1, 0, 1, 1, 0, 0, 0, 1, 1, 1, 0, 0, 1, 1, 1, 1, 0, 0, 1, 1, 1, 1, 0, 1, 0, 1, 0, 1, 0, 1, 0, 0, 1, 1, 1, 0, 1, 1, 0, 0, 1, 1, 1, 1, 0, 0, 1, 1, 1, 1, 1, 0, 0, 0, 1, 0, 1, 1, 1, 0, 0, 0, 0, 0, 1, 1, 0, 0, 0, 1, 1, 0, 1, 0, 0, 1, 0, 0, 0, 1, 0, 0, 1, 0, 1, 0, 1, 0, 0, 0, 1, 1, 1, 1, 1, 0, 0, 1, 0, 1, 0, 0, 0, 1, 0, 1, 1, 1, 0, 1, 0, 0, 0, 0, 0, 1, 1, 0, 1, 1, 1, 0, 1, 1, 0, 1, 0, 1, 1, 1, 1, 0, 0, 0, 0, 1, 0, 1, 0, 0, 1, 0, 0, 1, 1, 1, 0, 1, 0, 1, 1, 0, 1, 1, 1, 0, 1, 0, 1, 0, 1, 0, 1, 1, 1, 1, 1, 1, 1, 1, 1, 1, 1, 0, 0, 0, 0, 1, 1, 0, 0, 0, 0, 1, 1, 1, 1, 1, 1, 0, 1, 1, 0, 1, 1, 0, 1, 1, 0, 0, 0, 1, 1, 1, 1, 0, 0, 0, 0, 1, 1, 0, 0, 0, 1, 1, 0, 0, 0, 1, 1, 1, 1, 0, 0, 1, 0, 0, 1, 0, 1, 1, 1, 0, 0, 1, 0, 1, 1, 0, 0, 0, 1, 0, 0, 0, 1, 0, 1, 1, 0, 1, 0, 1, 0, 1, 1, 1, 0, 1, 1, 0, 0, 0, 0, 0, 1, 0, 0, 0, 1, 0, 1, 0, 0, 1, 1, 0, 1, 1, 1, 0, 0, 0, 1, 1, 0, 0, 0, 0, 1, 0, 0, 0, 1, 0, 1, 1, 1, 1, 0, 0, 1, 1, 1, 1, 0, 0, 1, 0, 1, 1, 0, 1, 0, 1, 1, 0, 1, 0, 0, 1, 1, 1, 0, 1, 1, 0, 0, 0, 1, 0, 1, 1, 0, 1, 1, 0, 0, 0, 1, 1, 0, 1, 0, 0, 0, 1, 1, 1, 0, 1, 1, 1, 1, 1, 1, 0, 0, 0, 0, 1, 1, 1, 1, 0, 1, 1, 0, 1, 0, 1, 0, 1, 1, 0, 1, 0, 0, 1, 1, 1, 1, 0, 1, 1, 1, 1, 1, 0, 0, 0, 1, 0, 1, 1, 0, 1, 0, 1, 0, 1, 1, 0, 1, 1, 0, 0, 0, 0, 0, 0, 0, 0, 0, 1, 0, 1, 1, 0, 0, 1, 1, 1, 0, 0, 0, 1, 1, 0, 1, 1, 0, 0, 1, 1, 0, 0, 0, 0, 0, 1, 1, 0, 0, 1, 0, 0, 0, 1, 0, 1, 0, 1, 1, 1, 0, 1, 0, 1, 1, 1, 0, 0, 0, 0, 1, 1, 0, 1, 0, 0, 0, 0, 1, 0, 0, 0, 1, 0, 0, 1, 1, 1, 0, 0, 1, 0, 0, 1, 0, 1, 0, 0, 0, 0, 1, 0, 1, 1, 1, 1, 1, 0, 0, 0, 1, 1, 1, 1, 0, 0, 0, 1, 1, 1, 0, 0, 1, 1, 0, 0, 0, 1, 1, 1, 0, 0, 1, 1, 0, 0, 0, 1, 1, 1, 0, 0, 0, 0, 1, 0, 1, 0, 1, 0, 0, 0, 0, 0, 0, 1, 1, 1, 0, 0, 1, 0, 1, 0, 0, 1, 0, 1, 1, 0, 0, 0, 1, 1, 0, 1, 0, 0, 1, 0, 0, 1, 0, 1, 1, 0, 1, 1, 0, 1, 1, 0, 0, 0, 0, 1, 1, 1, 1, 1, 0, 0, 0, 1, 1, 0, 1, 0, 1, 1, 0, 1, 0, 0, 1, 0, 1, 1, 0, 0, 1, 0, 1, 0, 0, 0, 1, 1, 1, 0, 1, 0, 0, 0, 0, 1, 0, 0, 1, 1, 1, 0, 1, 1, 0, 0, 1, 1, 1, 0, 0, 1, 1, 1, 1, 0, 1, 1, 1, 1, 0, 1, 1, 1, 0, 0, 1, 0, 0, 0, 1, 0, 0, 0, 0, 1, 1, 1, 1, 0, 1, 0, 1, 1, 1, 1, 0, 1, 0, 1, 0, 0, 0, 0, 0, 0, 1, 1, 0, 0, 0, 1, 0, 0, 0, 1, 0, 0, 1, 1, 1, 0, 1, 0, 0, 1, 1, 0, 1, 0, 1, 1, 1, 1, 1, 0, 1, 0, 1, 1, 0, 0, 0, 0, 0, 0, 1, 1, 0, 0, 1, 0, 1, 0, 1, 0, 1, 1, 0, 0, 0, 0, 1, 0, 1, 0, 0, 0, 1, 0, 0, 1, 1, 0, 0, 0, 0, 1, 1, 1, 0, 0, 1, 0, 1, 1, 1, 1, 0, 0, 1, 0, 0, 0] y: 11345>>"
      ]
     },
     "execution_count": 285,
     "metadata": {},
     "output_type": "execute_result"
    }
   ],
   "source": [
    "max_cut.reset()\n",
    "dim = max_cut.meta_data.n_variables\n",
    "test = Test(nb_it//10, 10, 25)\n",
    "test(max_cut)\n",
    "max_cut.state"
   ]
  },
  {
   "cell_type": "code",
   "execution_count": 286,
   "id": "7edc84af-338c-4d6b-b5c7-dce71ee8adf5",
   "metadata": {},
   "outputs": [
    {
     "data": {
      "text/plain": [
       "<State evaluations: 9001 optimum_found: false current_best: <Solution x: [0, 0, 0, 0, 0, 0, 0, 0, 0, 0, 0, 0, 0, 0, 0, 0, 0, 0, 0, 0, 1, 0, 0, 0, 0, 0, 1, 0, 0, 0, 0, 0, 0, 0, 0, 0, 0, 0, 0, 0, 0, 0, 0, 0, 0, 0, 0, 0, 0, 0, 0, 0, 0, 0, 0, 0, 0, 0, 0, 0, 0, 0, 0, 0, 0, 0, 0, 0, 0, 0, 0, 0, 0, 0, 0, 0, 0, 0, 0, 0, 0, 0, 0, 0, 0, 0, 0, 0, 0, 0, 0, 0, 0, 0, 0, 0, 0, 0, 0, 0, 0, 0, 0, 0, 0, 0, 0, 0, 0, 0, 0, 0, 0, 0, 0, 0, 0, 0, 0, 0, 0, 0, 0, 0, 0, 0, 0, 0, 0, 0, 0, 0, 0, 0, 0, 0, 0, 0, 0, 0, 0, 0, 0, 1, 0, 0, 0, 0, 0, 0, 0, 0, 0, 0, 0, 0, 0, 0, 0, 0, 0, 0, 0, 0, 0, 0, 0, 0, 0, 0, 0, 0, 0, 0, 0, 0, 0, 0, 0, 0, 0, 0, 0, 0, 0, 0, 1, 0, 0, 0, 0, 0, 0, 0, 0, 0, 0, 0, 0, 0, 0, 0, 0, 0, 0, 0, 0, 0, 0, 0, 0, 0, 0, 0, 0, 0, 0, 0, 0, 0, 0, 0, 0, 0, 0, 0, 0, 0, 0, 0, 0, 0, 0, 0, 0, 0, 0, 0, 0, 1, 0, 0, 0, 0, 0, 0, 0, 0, 0, 0, 0, 0, 0, 0, 0, 0, 0, 0, 0, 0, 1, 0, 0, 0, 0, 0, 0, 0, 0, 0, 0, 0, 0, 0, 0, 0, 0, 0, 0, 0, 0, 0, 0, 0, 0, 0, 0, 0, 0, 0, 0, 0, 0, 0, 0, 0, 0, 0, 0, 0, 0, 0, 0, 0, 1, 0, 0, 0, 0, 0, 0, 0, 0, 0, 0, 0, 0, 0, 0, 0, 0, 0, 0, 0, 0, 0, 0, 1, 0, 0, 0, 0, 0, 0, 0, 0, 0, 0, 0, 0, 0, 0, 0, 0, 0, 0, 0, 0, 0, 0, 0, 0, 0, 0, 0, 0, 0, 0, 0, 0, 0, 0, 0, 0, 0, 0, 0, 0, 0, 0, 0, 0, 0, 0, 0, 0, 0, 0, 0, 0, 0, 0, 0, 1, 0, 0, 0, 0, 0, 0, 0, 0, 0, 0, 0, 0, 0, 0, 0, 0, 0, 0, 0, 0, 0, 0, 0, 0, 0, 0, 0, 0, 0, 0, 0, 0, 0, 0, 0, 0, 0, 0, 0, 0, 0, 0, 0, 0, 0, 0, 1, 0, 0, 0, 0, 0, 0, 0, 0, 0, 0, 0, 0, 0, 0, 0, 0, 0, 0, 0] y: 424>>"
      ]
     },
     "execution_count": 286,
     "metadata": {},
     "output_type": "execute_result"
    }
   ],
   "source": [
    "max_coverage.reset()\n",
    "dim = max_coverage.meta_data.n_variables\n",
    "test = Test(nb_it//1000, 1000, 5)\n",
    "test(max_coverage)\n",
    "max_coverage.state"
   ]
  },
  {
   "cell_type": "markdown",
   "id": "1a6da20f-4916-4784-a360-e2e4dfa50611",
   "metadata": {
    "jp-MarkdownHeadingCollapsed": true
   },
   "source": [
    "# Algorithme par décroissance"
   ]
  },
  {
   "cell_type": "code",
   "execution_count": 281,
   "id": "f66830e5-3547-4664-9fb5-203735017fce",
   "metadata": {},
   "outputs": [],
   "source": [
    "class Test3:\n",
    "    \n",
    "    def __init__(self, n: int, s: int, k:int):\n",
    "        self.n: int = n #nb d'itérations\n",
    "        self.s: int = s #population size\n",
    "        self.k: int = k #taux de croissance\n",
    "    \n",
    "    def __call__(self, problem: ioh.ProblemClass.GRAPH) -> None:\n",
    "        dim = problem.meta_data.n_variables\n",
    "        \n",
    "        #Initialization\n",
    "        x = np.ones(dim).astype(int)\n",
    "        y = problem(x)\n",
    "        \n",
    "        #Optimization\n",
    "        for t in range(self.n-1):\n",
    "            #On tire k échantillons et on garde celui qui fait le plus croitre la fonction\n",
    "            pop = []\n",
    "            for i in range(self.s):\n",
    "                xx = flip(x,self.k)\n",
    "                yy = problem(xx)\n",
    "                pop.append((xx,yy))\n",
    "            pop.sort(key=lambda x: x[1])\n",
    "            if random.random() < self.s/dim or pop[self.s-1][1] > y:\n",
    "                x = pop[self.s-1][0]\n",
    "                y = pop[self.s-1][1]\n",
    "                self.k = min(int(self.k*4/3),dim)\n",
    "            else:\n",
    "                self.k = max(int(self.k*3/4),1)"
   ]
  },
  {
   "cell_type": "code",
   "execution_count": 282,
   "id": "0caa5f81-6340-4bb9-b720-85623fdef23d",
   "metadata": {},
   "outputs": [
    {
     "data": {
      "text/plain": [
       "<State evaluations: 9991 optimum_found: false current_best: <Solution x: [1, 1, 1, 1, 0, 0, 0, 1, 0, 1, 1, 1, 1, 1, 0, 0, 1, 1, 0, 0, 1, 0, 1, 0, 1, 0, 1, 1, 1, 1, 1, 0, 0, 1, 1, 1, 1, 1, 1, 0, 0, 1, 0, 1, 1, 0, 1, 1, 1, 1, 1, 1, 0, 0, 0, 1, 1, 1, 1, 0, 1, 1, 0, 0, 0, 1, 1, 1, 1, 0, 1, 0, 1, 0, 0, 0, 1, 0, 0, 1, 0, 0, 1, 0, 0, 0, 1, 1, 1, 1, 1, 1, 0, 1, 1, 1, 1, 1, 1, 0, 0, 1, 0, 0, 0, 1, 1, 1, 1, 0, 0, 0, 1, 1, 1, 1, 0, 1, 0, 1, 1, 1, 0, 1, 0, 1, 0, 1, 0, 1, 0, 0, 0, 0, 0, 1, 0, 1, 0, 1, 0, 1, 0, 1, 0, 1, 0, 0, 1, 1, 1, 0, 1, 1, 0, 1, 0, 1, 1, 1, 1, 1, 0, 1, 0, 1, 1, 1, 0, 1, 1, 1, 1, 0, 1, 0, 0, 1, 1, 1, 1, 1, 0, 1, 0, 1, 1, 0, 0, 1, 0, 1, 1, 0, 0, 0, 0, 0, 1, 1, 0, 1, 0, 0, 1, 0, 1, 0, 0, 0, 1, 0, 1, 0, 1, 1, 1, 1, 1, 0, 1, 1, 0, 1, 0, 1, 1, 1, 0, 1, 0, 1, 1, 1, 1, 1, 0, 1, 0, 0, 1, 1, 1, 1, 1, 1, 1, 0, 1, 0, 1, 0, 0, 0, 0, 0, 0, 1, 1, 0, 0, 0, 0, 0, 1, 0, 0, 0, 1, 0, 0, 0, 0, 1, 1, 1, 0, 0, 0, 1, 1, 0, 0, 0, 1, 0, 0, 1, 1, 0, 0, 1, 0, 0, 0, 0, 1, 0, 0, 1, 1, 0, 0, 1, 1, 1, 0, 1, 1, 1, 0, 1, 0, 1, 1, 0, 0, 1, 0, 1, 1, 0, 1, 1, 1, 0, 1, 0, 1, 1, 1, 1, 1, 1, 1, 0, 1, 1, 0, 0, 1, 0, 0, 0, 1, 1, 1, 0, 1, 1, 1, 1, 1, 1, 0, 1, 0, 1, 0, 0, 1, 0, 1, 0, 1, 0, 1, 1, 0, 1, 0, 1, 0, 1, 0, 0, 0, 1, 1, 1, 0, 0, 1, 0, 1, 0, 0, 0, 0, 0, 0, 1, 0, 1, 0, 0, 1, 1, 1, 1, 1, 1, 0, 1, 0, 0, 1, 1, 0, 0, 0, 1, 0, 0, 0, 0, 0, 0, 0, 1, 1, 1, 0, 0, 1, 0, 1, 1, 0, 1, 1, 1, 1, 0, 1, 0, 1, 0, 0, 0, 0, 1, 1, 0, 1, 0, 0, 0, 1, 0, 1, 1, 0, 1, 0, 0, 1, 1, 0, 0, 0, 0, 0, 0, 0, 1, 0, 1, 1, 0, 0, 1, 1, 0, 1, 1, 0, 0, 1, 1, 1, 1, 1, 0, 0, 1, 0, 0, 0, 0, 0, 0, 1, 1, 0, 0, 1, 0, 0, 1, 0, 1, 0, 0, 0, 0, 0, 0, 1, 0, 0, 1, 0, 1, 1, 0, 0, 1, 0, 1, 0, 0, 1, 1, 1, 1, 1, 0, 1, 1, 0, 0, 1, 0, 1, 0, 0, 1, 0, 1, 0, 1, 0, 1, 0, 0, 0, 0, 1, 1, 1, 1, 1, 0, 0, 1, 1, 1, 0, 0, 1, 1, 1, 0, 1, 0, 0, 0, 1, 0, 1, 1, 0, 1, 0, 1, 0, 1, 1, 1, 1, 1, 0, 0, 1, 1, 1, 1, 0, 1, 0, 1, 1, 0, 1, 1, 0, 0, 1, 1, 0, 1, 0, 0, 1, 0, 0, 0, 1, 0, 1, 1, 0, 0, 0, 1, 0, 1, 0, 0, 0, 1, 1, 0, 0, 0, 0, 1, 0, 0, 0, 1, 0, 1, 1, 1, 1, 0, 0, 0, 1, 1, 1, 0, 0, 0, 1, 1, 0, 1, 0, 1, 1, 1, 0, 1, 1, 0, 0, 0, 1, 0, 0, 0, 1, 0, 1, 0, 0, 0, 1, 0, 1, 0, 0, 1, 0, 1, 0, 1, 0, 0, 0, 0, 0, 1, 0, 0, 0, 0, 1, 0, 0, 0, 1, 0, 0, 1, 0, 1, 0, 0, 1, 1, 0, 1, 1, 0, 1, 0, 0, 0, 1, 1, 0, 0, 0, 0, 1, 1, 0, 0, 1, 0, 0, 1, 1, 0, 1, 0, 0, 0, 1, 1, 0, 0, 1, 1, 0, 0, 0, 0, 1, 1, 0, 0, 1, 0, 1, 0, 0, 1, 1, 1, 0, 0, 0, 1, 0, 1, 0, 0, 1, 1, 0, 0, 0, 0, 0, 0, 0, 1, 0, 0, 0, 1, 0, 1, 0, 0, 0, 1, 1, 1, 0, 1, 1, 1, 0, 1, 1, 0, 0, 1, 0, 0, 1, 0, 0, 1] y: 11290>>"
      ]
     },
     "execution_count": 282,
     "metadata": {},
     "output_type": "execute_result"
    }
   ],
   "source": [
    "max_cut.reset()\n",
    "dim = max_cut.meta_data.n_variables\n",
    "test3 = Test3(nb_it//10, 10, 25)\n",
    "test3(max_cut)\n",
    "max_cut.state"
   ]
  },
  {
   "cell_type": "code",
   "execution_count": 283,
   "id": "936293f6-29a3-47ef-b5fd-bc4edefa6b4e",
   "metadata": {},
   "outputs": [
    {
     "data": {
      "text/plain": [
       "<State evaluations: 9001 optimum_found: false current_best: <Solution x: [0, 0, 0, 1, 1, 1, 1, 0, 1, 1, 0, 1, 0, 0, 1, 1, 1, 1, 1, 1, 1, 0, 1, 0, 0, 1, 1, 1, 1, 1, 0, 1, 1, 0, 1, 1, 1, 1, 1, 1, 0, 0, 1, 1, 0, 1, 0, 1, 0, 1, 0, 0, 1, 1, 1, 1, 1, 0, 1, 1, 0, 0, 1, 1, 0, 1, 0, 1, 1, 1, 1, 1, 1, 1, 0, 1, 1, 1, 1, 1, 0, 1, 1, 1, 0, 1, 1, 1, 0, 1, 1, 1, 1, 1, 1, 0, 1, 0, 0, 1, 1, 1, 0, 1, 0, 0, 0, 1, 1, 0, 1, 1, 1, 1, 1, 0, 1, 1, 1, 0, 1, 1, 1, 1, 0, 1, 0, 1, 1, 1, 0, 0, 1, 1, 0, 0, 1, 0, 0, 0, 0, 1, 0, 1, 1, 1, 0, 0, 0, 1, 1, 0, 1, 1, 1, 1, 0, 1, 1, 1, 0, 1, 0, 1, 1, 0, 1, 1, 0, 1, 1, 0, 1, 1, 1, 0, 0, 1, 1, 1, 1, 1, 1, 1, 1, 0, 0, 0, 1, 1, 1, 0, 1, 0, 1, 1, 0, 0, 1, 1, 1, 1, 0, 1, 1, 1, 0, 1, 0, 1, 0, 1, 1, 0, 1, 1, 1, 0, 1, 1, 1, 1, 0, 0, 0, 1, 1, 1, 1, 1, 1, 1, 0, 0, 0, 0, 0, 1, 1, 1, 1, 0, 0, 1, 1, 1, 0, 0, 0, 0, 1, 1, 1, 1, 1, 1, 0, 1, 0, 1, 1, 1, 0, 1, 1, 0, 1, 0, 1, 1, 1, 1, 0, 0, 1, 1, 1, 1, 0, 0, 1, 1, 0, 1, 0, 0, 0, 0, 0, 1, 1, 1, 1, 1, 1, 1, 1, 1, 1, 1, 1, 1, 1, 1, 1, 1, 1, 1, 1, 1, 0, 1, 0, 1, 1, 1, 0, 1, 0, 1, 0, 1, 0, 1, 0, 1, 0, 1, 1, 0, 1, 1, 1, 1, 1, 0, 0, 1, 0, 1, 1, 1, 1, 0, 1, 1, 1, 1, 1, 1, 1, 0, 1, 0, 0, 0, 0, 1, 1, 1, 0, 1, 1, 1, 0, 1, 0, 1, 0, 1, 0, 1, 1, 1, 1, 1, 1, 1, 1, 0, 1, 1, 1, 1, 1, 1, 1, 1, 1, 1, 1, 1, 1, 1, 1, 1, 1, 0, 1, 0, 1, 0, 0, 1, 1, 0, 0, 1, 0, 1, 1, 1, 0, 1, 1, 1, 1, 1, 1, 0, 1, 1, 1, 0, 1, 1, 1, 1, 1, 1, 1, 1, 0, 0, 1, 0, 0, 0, 1, 0, 1, 1, 1, 0, 1, 1, 1, 0, 1, 0] y: -294>>"
      ]
     },
     "execution_count": 283,
     "metadata": {},
     "output_type": "execute_result"
    }
   ],
   "source": [
    "max_coverage.reset()\n",
    "dim = max_coverage.meta_data.n_variables\n",
    "test3 = Test3(nb_it//1000, 1000, 5)\n",
    "test3(max_coverage)\n",
    "max_coverage.state"
   ]
  },
  {
   "cell_type": "markdown",
   "id": "7a283880-1c98-437f-b041-262c994953dc",
   "metadata": {
    "jp-MarkdownHeadingCollapsed": true
   },
   "source": [
    "# Combinaison d'algorithmes"
   ]
  },
  {
   "cell_type": "code",
   "execution_count": 261,
   "id": "c6c48712-34ee-4968-9e56-62aa3860ef99",
   "metadata": {},
   "outputs": [],
   "source": [
    "def positive_binomial(n,p,nb_samples):\n",
    "    gen = []\n",
    "    for i in range(nb_samples):\n",
    "        trial = np.random.binomial(n, p, 1)[0]\n",
    "        while trial == 0:\n",
    "            trial = np.random.binomial(n, p, 1)[0]\n",
    "        gen.append(trial)\n",
    "    return gen"
   ]
  },
  {
   "cell_type": "code",
   "execution_count": 256,
   "id": "ba15e754-7c51-41ea-8422-dfa6ceb201ee",
   "metadata": {},
   "outputs": [],
   "source": [
    "def UMDA(problem,n,s):\n",
    "    dim = problem.meta_data.n_variables\n",
    "    \n",
    "    def sample(p):\n",
    "        x = np.zeros(dim,int)\n",
    "        for j in range(dim):\n",
    "            x[j] = 1 if random.random() < p[j] else 0\n",
    "        y = problem(x)\n",
    "        return (x,y)\n",
    "    \n",
    "    #Initialization\n",
    "    z = []\n",
    "    for i in range(s):\n",
    "        x = np.random.randint(0,2,dim)\n",
    "        y = problem(x)\n",
    "        z.append((x,y))\n",
    "    z.sort(key=lambda x: x[1])\n",
    "    P = np.array(z[s-s//2:])\n",
    "    \n",
    "    #Optimization\n",
    "    p = np.zeros(dim)\n",
    "    for t in range(1,n):\n",
    "        for j in range(dim):\n",
    "            count = 0\n",
    "            for k in range(s//2):\n",
    "                if P[k,0][j] == 1: count +=1\n",
    "            \n",
    "            p[j] = 2*count/s\n",
    "            if p[j] < 1/dim: p[j] = 1/dim\n",
    "            if p[j] > 1 - 1/dim: p[j] = 1 - 1/dim\n",
    "    \n",
    "        for i in range(s):\n",
    "            z[i] = sample(p)\n",
    "        z.sort(key=lambda x: x[1])\n",
    "        P = np.array(z[s-s//2:])\n",
    "        \n",
    "    return P"
   ]
  },
  {
   "cell_type": "code",
   "execution_count": 259,
   "id": "ba00c00d-4343-4845-9a46-a7c822cfb3a0",
   "metadata": {},
   "outputs": [],
   "source": [
    "class ULog: #UMDA + EAlog\n",
    "\n",
    "    def __init__(self,n,lamb):\n",
    "        self.n = n\n",
    "        self.lamb = lamb\n",
    "\n",
    "    def __call__(self, problem: ioh.ProblemClass.GRAPH) -> None:\n",
    "        dim = problem.meta_data.n_variables\n",
    "        \n",
    "        #Initialization\n",
    "        U = UMDA(problem,10,5)\n",
    "        x = U[len(U)-1][0]\n",
    "        y = U[len(U)-1][1]\n",
    "        p = 0.2\n",
    "        \n",
    "        #Optimization\n",
    "        for t in range(self.n-1):\n",
    "            pop = []\n",
    "            for i in range(self.lamb):\n",
    "                sample = np.random.normal(0,1)\n",
    "                pp = 1/(1 + (1-p)/p * math.exp(0.22 * sample))\n",
    "                l = positive_binomial(dim,pp,1)[0]\n",
    "                xx = flip(x,l)\n",
    "                yy = problem(xx)\n",
    "                pop.append((xx,yy,pp))\n",
    "                \n",
    "            pop.sort(key=lambda x: x[1])\n",
    "            p = pop[self.lamb-1][2]\n",
    "            if pop[self.lamb-1][1] >= y:\n",
    "                x = pop[self.lamb-1][0]\n",
    "                y = pop[self.lamb-1][1]"
   ]
  },
  {
   "cell_type": "code",
   "execution_count": 263,
   "id": "b3e65e21-e9d8-4c9f-ac41-16925c1afdb2",
   "metadata": {},
   "outputs": [
    {
     "name": "stderr",
     "output_type": "stream",
     "text": [
      "/tmp/ipykernel_15343/782673433.py:18: VisibleDeprecationWarning: Creating an ndarray from ragged nested sequences (which is a list-or-tuple of lists-or-tuples-or ndarrays with different lengths or shapes) is deprecated. If you meant to do this, you must specify 'dtype=object' when creating the ndarray.\n",
      "  P = np.array(z[s-s//2:])\n",
      "/tmp/ipykernel_15343/782673433.py:35: VisibleDeprecationWarning: Creating an ndarray from ragged nested sequences (which is a list-or-tuple of lists-or-tuples-or ndarrays with different lengths or shapes) is deprecated. If you meant to do this, you must specify 'dtype=object' when creating the ndarray.\n",
      "  P = np.array(z[s-s//2:])\n"
     ]
    },
    {
     "data": {
      "text/plain": [
       "<State evaluations: 10040 optimum_found: false current_best: <Solution x: [0, 0, 0, 0, 0, 0, 0, 0, 0, 0, 0, 0, 0, 0, 0, 0, 0, 1, 0, 0, 0, 0, 0, 0, 0, 0, 0, 0, 0, 0, 0, 0, 0, 0, 0, 0, 0, 0, 0, 0, 0, 0, 0, 0, 0, 0, 0, 0, 0, 0, 0, 0, 0, 0, 0, 0, 0, 0, 0, 0, 0, 0, 0, 0, 0, 0, 0, 0, 0, 0, 0, 0, 0, 0, 0, 0, 0, 0, 0, 0, 1, 0, 0, 0, 0, 0, 0, 0, 0, 0, 0, 0, 0, 0, 0, 0, 0, 0, 0, 0, 0, 0, 0, 0, 0, 0, 0, 0, 0, 0, 0, 0, 0, 0, 0, 0, 0, 0, 0, 0, 0, 0, 0, 0, 0, 0, 0, 0, 0, 0, 0, 0, 0, 0, 0, 0, 1, 0, 0, 0, 0, 0, 0, 0, 0, 0, 0, 0, 0, 0, 0, 0, 0, 0, 0, 0, 0, 0, 0, 0, 0, 0, 0, 0, 0, 0, 0, 0, 0, 0, 0, 0, 0, 0, 0, 0, 0, 0, 0, 0, 0, 0, 0, 0, 0, 1, 0, 0, 0, 1, 0, 0, 0, 0, 0, 0, 0, 0, 0, 0, 0, 0, 0, 0, 0, 0, 0, 0, 0, 0, 0, 0, 0, 0, 0, 0, 0, 0, 0, 0, 0, 0, 0, 0, 0, 0, 0, 0, 0, 0, 0, 0, 0, 0, 0, 0, 0, 0, 0, 0, 0, 0, 0, 0, 0, 0, 0, 0, 0, 0, 0, 0, 0, 0, 0, 0, 0, 0, 0, 0, 0, 0, 0, 0, 0, 0, 0, 0, 0, 0, 0, 0, 0, 1, 0, 0, 0, 0, 0, 0, 0, 0, 0, 0, 0, 0, 0, 0, 0, 0, 0, 0, 0, 0, 0, 0, 0, 0, 0, 0, 0, 0, 0, 0, 0, 0, 1, 0, 0, 0, 0, 0, 0, 0, 0, 0, 0, 0, 0, 0, 0, 0, 0, 1, 0, 0, 0, 0, 0, 0, 0, 0, 0, 0, 0, 0, 0, 0, 0, 0, 0, 0, 0, 0, 0, 0, 0, 0, 0, 0, 0, 0, 1, 0, 0, 0, 0, 0, 0, 0, 0, 0, 0, 0, 0, 0, 0, 0, 0, 0, 0, 0, 0, 0, 0, 0, 0, 0, 0, 0, 0, 0, 0, 0, 0, 0, 0, 0, 0, 0, 0, 0, 0, 0, 0, 0, 0, 0, 0, 0, 0, 0, 0, 0, 0, 0, 0, 0, 0, 0, 0, 0, 0, 0, 0, 0, 0, 0, 0, 0, 0, 0, 0, 0, 0, 0, 0, 0, 0, 0, 0, 0, 1, 0, 0, 0, 0, 0, 0, 0, 0, 0, 0, 0, 0, 0, 0, 0, 0, 0] y: 411>>"
      ]
     },
     "execution_count": 263,
     "metadata": {},
     "output_type": "execute_result"
    }
   ],
   "source": [
    "max_coverage.reset()\n",
    "dim = max_coverage.meta_data.n_variables\n",
    "ulog = ULog(nb_it//10, 10)\n",
    "ulog(max_coverage)\n",
    "max_coverage.state"
   ]
  },
  {
   "cell_type": "code",
   "execution_count": 266,
   "id": "d6e81ec2-8998-44b4-b5ad-a968bcc0f355",
   "metadata": {},
   "outputs": [
    {
     "name": "stderr",
     "output_type": "stream",
     "text": [
      "/tmp/ipykernel_15343/782673433.py:18: VisibleDeprecationWarning: Creating an ndarray from ragged nested sequences (which is a list-or-tuple of lists-or-tuples-or ndarrays with different lengths or shapes) is deprecated. If you meant to do this, you must specify 'dtype=object' when creating the ndarray.\n",
      "  P = np.array(z[s-s//2:])\n",
      "/tmp/ipykernel_15343/782673433.py:35: VisibleDeprecationWarning: Creating an ndarray from ragged nested sequences (which is a list-or-tuple of lists-or-tuples-or ndarrays with different lengths or shapes) is deprecated. If you meant to do this, you must specify 'dtype=object' when creating the ndarray.\n",
      "  P = np.array(z[s-s//2:])\n"
     ]
    },
    {
     "data": {
      "text/plain": [
       "<State evaluations: 10040 optimum_found: false current_best: <Solution x: [1, 1, 0, 0, 0, 1, 1, 0, 0, 1, 1, 1, 1, 0, 1, 1, 1, 1, 0, 0, 0, 1, 0, 1, 1, 1, 0, 1, 1, 1, 0, 1, 0, 0, 1, 1, 1, 1, 0, 0, 0, 1, 1, 1, 0, 0, 1, 0, 0, 1, 0, 1, 0, 1, 1, 1, 0, 1, 0, 1, 0, 1, 0, 0, 0, 1, 0, 0, 0, 1, 1, 1, 1, 1, 0, 1, 0, 0, 0, 0, 0, 0, 1, 1, 0, 1, 1, 0, 0, 1, 0, 1, 0, 0, 1, 0, 1, 0, 1, 1, 1, 1, 1, 1, 0, 1, 1, 0, 0, 0, 1, 0, 1, 0, 0, 0, 1, 0, 1, 1, 1, 0, 0, 0, 0, 1, 1, 0, 0, 1, 1, 1, 1, 1, 1, 1, 0, 1, 1, 1, 0, 0, 0, 0, 0, 1, 1, 1, 1, 1, 1, 1, 1, 1, 0, 1, 1, 1, 0, 1, 1, 1, 0, 0, 0, 1, 1, 1, 1, 1, 1, 1, 0, 0, 0, 0, 0, 0, 1, 1, 1, 0, 0, 0, 1, 0, 1, 0, 1, 0, 0, 0, 1, 1, 0, 0, 1, 0, 1, 0, 1, 1, 0, 0, 1, 1, 0, 1, 0, 1, 1, 0, 0, 1, 0, 0, 1, 1, 0, 0, 0, 0, 1, 0, 0, 0, 1, 1, 1, 1, 0, 1, 0, 0, 1, 0, 1, 0, 0, 0, 1, 1, 1, 1, 1, 0, 0, 1, 1, 0, 1, 0, 1, 0, 1, 0, 1, 1, 0, 0, 0, 0, 0, 0, 1, 0, 0, 0, 0, 0, 0, 0, 1, 1, 1, 0, 0, 1, 0, 1, 1, 1, 0, 1, 0, 0, 0, 1, 0, 0, 0, 1, 1, 0, 1, 1, 0, 1, 1, 0, 1, 1, 0, 1, 1, 1, 1, 0, 1, 1, 1, 0, 0, 1, 1, 0, 0, 0, 0, 1, 0, 1, 1, 0, 0, 0, 0, 0, 0, 1, 1, 1, 0, 1, 0, 1, 1, 0, 1, 0, 0, 1, 1, 1, 0, 1, 0, 1, 1, 1, 0, 1, 0, 1, 0, 1, 0, 1, 1, 0, 1, 0, 0, 0, 1, 0, 1, 1, 1, 1, 1, 1, 0, 1, 0, 1, 1, 1, 1, 1, 1, 1, 0, 1, 0, 1, 0, 0, 0, 1, 1, 1, 0, 1, 0, 1, 0, 1, 1, 0, 1, 0, 0, 1, 0, 1, 0, 0, 0, 0, 0, 1, 0, 0, 1, 0, 0, 0, 1, 1, 0, 0, 0, 0, 1, 1, 0, 1, 0, 0, 0, 0, 0, 0, 1, 1, 0, 0, 0, 1, 1, 1, 1, 0, 1, 1, 1, 1, 1, 1, 1, 1, 1, 1, 0, 0, 0, 0, 1, 0, 0, 1, 0, 1, 1, 0, 1, 1, 0, 1, 0, 0, 0, 1, 0, 1, 0, 0, 0, 1, 1, 1, 0, 1, 0, 1, 0, 0, 1, 0, 1, 1, 0, 1, 1, 0, 0, 1, 0, 1, 0, 1, 0, 1, 0, 1, 0, 1, 0, 0, 1, 0, 0, 0, 0, 1, 0, 1, 0, 1, 1, 0, 1, 0, 1, 1, 1, 1, 0, 1, 0, 1, 1, 0, 1, 0, 0, 0, 0, 0, 1, 0, 0, 0, 0, 0, 0, 0, 0, 0, 0, 0, 1, 1, 1, 1, 0, 0, 0, 0, 0, 1, 1, 1, 1, 0, 1, 1, 0, 0, 1, 0, 1, 0, 0, 1, 0, 1, 1, 0, 1, 0, 0, 1, 0, 0, 1, 0, 0, 1, 1, 1, 0, 0, 1, 1, 0, 1, 1, 0, 1, 1, 1, 0, 1, 0, 1, 0, 1, 0, 0, 1, 1, 1, 1, 0, 1, 1, 0, 1, 1, 0, 0, 1, 1, 0, 0, 0, 1, 0, 0, 0, 0, 1, 0, 1, 0, 1, 0, 1, 0, 1, 1, 1, 0, 1, 0, 1, 0, 0, 1, 0, 0, 0, 1, 0, 1, 1, 0, 1, 1, 1, 1, 0, 0, 0, 0, 0, 0, 0, 1, 0, 0, 0, 0, 0, 1, 0, 1, 0, 1, 1, 1, 1, 1, 0, 1, 0, 1, 0, 0, 1, 0, 0, 1, 1, 1, 1, 1, 1, 0, 1, 1, 1, 0, 1, 1, 1, 1, 0, 0, 1, 1, 0, 1, 1, 0, 1, 0, 1, 1, 0, 1, 0, 1, 0, 1, 0, 1, 1, 0, 0, 1, 0, 1, 0, 1, 1, 0, 0, 1, 0, 0, 1, 1, 0, 1, 0, 1, 0, 1, 1, 1, 0, 0, 0, 1, 0, 0, 0, 0, 0, 0, 0, 0, 0, 1, 0, 0, 0, 0, 0, 0, 0, 1, 0, 1, 1, 0, 1, 1, 1, 0, 0, 1, 1, 0, 0, 0, 0, 1, 0, 0, 0, 0, 1, 1, 0, 1, 0] y: 11337>>"
      ]
     },
     "execution_count": 266,
     "metadata": {},
     "output_type": "execute_result"
    }
   ],
   "source": [
    "max_cut.reset()\n",
    "dim = max_cut.meta_data.n_variables\n",
    "ulog = ULog(nb_it//10, 10)\n",
    "ulog(max_cut)\n",
    "max_cut.state"
   ]
  },
  {
   "cell_type": "markdown",
   "id": "d57085c1-4a0f-4d5b-a08c-1f42ac351975",
   "metadata": {
    "jp-MarkdownHeadingCollapsed": true
   },
   "source": [
    "# Crossover par Moyenne"
   ]
  },
  {
   "cell_type": "code",
   "execution_count": 209,
   "id": "42945bc6-129a-46eb-b21a-d9b829a47c30",
   "metadata": {},
   "outputs": [],
   "source": [
    "def gen_budget(b,N):\n",
    "    pop = []\n",
    "    for i in range(N):\n",
    "        x = np.zeros(dim).astype(int)\n",
    "        iflips = np.random.randint(0,dim,b)\n",
    "        x[iflips] = 1\n",
    "        y = problem(x)\n",
    "        z = (x,y)\n",
    "        pop.append(z)\n",
    "    return pop"
   ]
  },
  {
   "cell_type": "code",
   "execution_count": 243,
   "id": "c1d37a2b-787d-4e33-a5fe-85c3cf8d9dc3",
   "metadata": {},
   "outputs": [],
   "source": [
    "class Test2:\n",
    "    def __init__(self, n: int, s: int, p: float):\n",
    "        self.n: int = n #Number of iterations\n",
    "        self.s: int = s #Population size\n",
    "        self.p: float = p #Proba bitflip\n",
    "    \n",
    "    def __call__(self, problem: ioh.ProblemClass.GRAPH) -> None:\n",
    "        dim = problem.meta_data.n_variables\n",
    "        \n",
    "        def mutation(x):\n",
    "            y = x.copy()\n",
    "            for i in range(dim):\n",
    "                y[i] = 1 - y[i] if random.random() < self.p else y[i]\n",
    "            return y\n",
    "            \n",
    "        def crossover(pop):\n",
    "            #Calcul de la distribution de probabilités \n",
    "            dist = np.zeros(dim)\n",
    "            normalization = 0\n",
    "            for i in range(self.s):\n",
    "                dist = dist + pop[i][0] * pop[i][1]\n",
    "                normalization += pop[i][1]\n",
    "            dist = dist / normalization\n",
    "            #Génération de la nouvelle population\n",
    "            npop = []\n",
    "            for t in range(self.s):\n",
    "                x = np.zeros(dim).astype(int)\n",
    "                for i in range(dim):\n",
    "                    x[i] = 1 if random.random() < dist[i] else 0\n",
    "                y = problem(x)\n",
    "                z = (x,y)\n",
    "                npop.append(z)\n",
    "            return npop\n",
    "        \n",
    "        #Initialization\n",
    "        x1 = np.zeros(dim).astype(int)\n",
    "        y1 = problem(x1)\n",
    "        x2 = np.random.randint(0,2,dim)\n",
    "        y2 = problem(x2)\n",
    "        x = x1 if y1 >= y2 else x2\n",
    "        y = y1 if y1 >= y2 else y2\n",
    "\n",
    "        #Optimization\n",
    "        for t in range(self.n-2):\n",
    "            pop = []\n",
    "            for i in range(self.s):\n",
    "                xx = mutation(x)\n",
    "                yy = problem(xx)\n",
    "                pop.append((xx,yy))\n",
    "                \n",
    "            pop = crossover(pop)\n",
    "            \n",
    "            pop.sort(key=lambda x: x[1])\n",
    "            if pop[self.s-1][1] >= y:\n",
    "                x = pop[self.s-1][0]\n",
    "                y = pop[self.s-1][1]\n"
   ]
  },
  {
   "cell_type": "code",
   "execution_count": 244,
   "id": "10640865-ac60-4636-88f2-46cc601a20fb",
   "metadata": {},
   "outputs": [],
   "source": [
    "max_cut.reset()\n",
    "dim = max_cut.meta_data.n_variables\n",
    "test2 = Test2(nb_it//(2*10), 10, 1/dim)\n",
    "test2(max_cut)"
   ]
  },
  {
   "cell_type": "code",
   "execution_count": 245,
   "id": "c675f778-b77f-4af0-a0fa-0d666fd99a5b",
   "metadata": {},
   "outputs": [
    {
     "data": {
      "text/plain": [
       "<State evaluations: 9962 optimum_found: false current_best: <Solution x: [1, 1, 0, 0, 1, 1, 0, 1, 0, 1, 1, 1, 0, 0, 1, 0, 1, 0, 1, 0, 1, 0, 1, 1, 1, 1, 1, 1, 1, 0, 0, 1, 1, 1, 0, 1, 1, 0, 0, 1, 1, 1, 0, 1, 1, 0, 0, 1, 1, 1, 1, 1, 1, 1, 0, 0, 0, 0, 1, 1, 0, 1, 1, 1, 0, 1, 1, 0, 0, 0, 1, 1, 0, 0, 1, 1, 0, 1, 0, 1, 1, 0, 1, 0, 0, 0, 0, 0, 1, 1, 1, 0, 0, 0, 0, 0, 0, 1, 0, 0, 0, 1, 0, 1, 1, 0, 1, 0, 0, 0, 1, 0, 1, 0, 0, 0, 0, 1, 0, 1, 0, 1, 0, 0, 1, 1, 1, 0, 1, 1, 1, 1, 0, 1, 0, 1, 1, 0, 1, 0, 0, 1, 1, 0, 1, 1, 1, 1, 1, 0, 0, 0, 1, 1, 1, 0, 1, 1, 0, 1, 1, 0, 0, 0, 0, 0, 1, 0, 0, 0, 0, 1, 1, 0, 1, 1, 1, 0, 0, 1, 0, 0, 1, 1, 0, 1, 1, 1, 1, 1, 0, 0, 1, 1, 1, 1, 1, 1, 1, 0, 1, 0, 0, 0, 0, 1, 1, 0, 1, 1, 0, 0, 0, 0, 1, 0, 0, 1, 1, 0, 1, 0, 0, 1, 1, 0, 0, 0, 0, 1, 1, 0, 1, 1, 0, 0, 1, 0, 1, 0, 1, 1, 0, 1, 0, 0, 1, 1, 0, 1, 0, 0, 0, 1, 1, 0, 0, 0, 1, 1, 1, 1, 1, 1, 1, 1, 1, 0, 0, 0, 1, 1, 0, 0, 0, 1, 1, 0, 0, 1, 1, 0, 0, 0, 1, 1, 1, 1, 0, 1, 1, 0, 1, 0, 1, 1, 1, 1, 0, 0, 1, 0, 0, 0, 1, 0, 1, 1, 1, 0, 0, 1, 1, 0, 1, 0, 1, 1, 0, 1, 1, 0, 1, 0, 1, 1, 1, 1, 1, 0, 0, 1, 0, 1, 1, 1, 0, 1, 0, 1, 1, 1, 0, 1, 1, 0, 1, 0, 0, 0, 0, 0, 0, 1, 1, 1, 1, 0, 0, 1, 0, 0, 0, 1, 1, 0, 0, 0, 1, 1, 0, 0, 1, 0, 0, 1, 1, 0, 0, 1, 1, 1, 1, 0, 0, 1, 0, 0, 0, 1, 1, 0, 0, 1, 1, 0, 1, 0, 0, 1, 0, 0, 0, 0, 1, 1, 0, 1, 1, 1, 1, 0, 0, 1, 0, 0, 1, 1, 1, 0, 0, 0, 0, 0, 0, 1, 0, 1, 0, 0, 0, 0, 0, 1, 0, 0, 0, 1, 1, 0, 0, 1, 0, 0, 1, 0, 1, 1, 1, 1, 1, 0, 0, 0, 1, 1, 1, 1, 0, 0, 0, 0, 0, 0, 0, 1, 1, 0, 1, 0, 1, 0, 0, 1, 0, 0, 0, 1, 0, 0, 1, 1, 1, 0, 1, 0, 1, 0, 0, 0, 1, 0, 0, 0, 0, 0, 1, 1, 1, 0, 0, 1, 1, 0, 0, 1, 1, 1, 1, 1, 1, 1, 1, 1, 0, 1, 0, 0, 1, 1, 1, 1, 0, 0, 1, 0, 1, 1, 0, 0, 0, 1, 0, 1, 0, 0, 0, 0, 0, 1, 1, 1, 0, 0, 1, 1, 1, 0, 0, 0, 0, 0, 1, 1, 1, 0, 0, 1, 0, 1, 0, 0, 0, 0, 0, 1, 1, 0, 0, 1, 0, 1, 1, 0, 1, 0, 1, 0, 0, 1, 0, 1, 1, 0, 0, 0, 1, 0, 0, 1, 0, 0, 0, 0, 0, 1, 0, 0, 1, 1, 1, 0, 1, 0, 0, 1, 1, 0, 0, 0, 0, 0, 1, 1, 0, 1, 1, 1, 1, 1, 0, 0, 0, 0, 0, 0, 0, 1, 1, 1, 0, 1, 0, 0, 0, 1, 1, 1, 1, 1, 1, 0, 0, 0, 1, 0, 0, 0, 1, 0, 0, 0, 1, 1, 1, 0, 1, 0, 1, 1, 0, 0, 0, 1, 1, 0, 0, 1, 1, 0, 0, 1, 0, 1, 1, 0, 0, 1, 0, 1, 0, 0, 1, 1, 1, 1, 1, 0, 0, 1, 0, 0, 0, 0, 1, 1, 1, 1, 1, 0, 1, 1, 0, 1, 0, 1, 0, 1, 1, 0, 1, 0, 1, 0, 0, 1, 1, 0, 1, 0, 1, 0, 1, 0, 0, 0, 1, 1, 0, 1, 0, 0, 0, 0, 1, 0, 0, 1, 1, 1, 0, 1, 0, 1, 1, 0, 0, 1, 1, 0, 0, 0, 1, 1, 0, 1, 0, 1, 0, 0, 1, 0, 0, 0, 1, 0, 0, 0, 1, 0, 1, 1, 1, 0, 1, 0, 0, 1, 1, 1, 0, 0, 1, 0, 0, 0, 1, 1, 1, 0, 1, 1, 0, 1, 1, 1, 1, 0, 0, 1] y: 11069>>"
      ]
     },
     "execution_count": 245,
     "metadata": {},
     "output_type": "execute_result"
    }
   ],
   "source": [
    "max_cut.state"
   ]
  },
  {
   "cell_type": "code",
   "execution_count": 228,
   "id": "7d8385a8-7836-463e-9622-756b052a016b",
   "metadata": {},
   "outputs": [],
   "source": [
    "max_coverage.reset()\n",
    "dim = max_coverage.meta_data.n_variables\n",
    "test2 = Test2(nb_it//(2*10), 10, 1/dim)\n",
    "test2(max_coverage)"
   ]
  },
  {
   "cell_type": "code",
   "execution_count": 229,
   "id": "4b4c7cbb-35e1-4675-bdf6-cd00e098198d",
   "metadata": {},
   "outputs": [
    {
     "data": {
      "text/plain": [
       "<State evaluations: 9962 optimum_found: false current_best: <Solution x: [0, 0, 0, 0, 0, 0, 0, 0, 0, 0, 0, 0, 0, 0, 0, 0, 0, 0, 0, 0, 0, 0, 0, 0, 0, 0, 0, 0, 0, 0, 0, 0, 0, 0, 0, 0, 0, 0, 0, 0, 0, 0, 0, 0, 0, 0, 0, 0, 0, 0, 0, 0, 0, 0, 0, 0, 0, 0, 0, 0, 0, 0, 0, 0, 0, 0, 0, 0, 0, 0, 0, 0, 0, 0, 0, 1, 0, 0, 0, 0, 0, 0, 0, 0, 0, 0, 0, 0, 0, 0, 0, 0, 0, 0, 0, 0, 0, 0, 1, 0, 0, 0, 0, 0, 0, 0, 0, 0, 0, 0, 0, 0, 0, 0, 0, 0, 0, 0, 0, 0, 0, 0, 0, 0, 0, 0, 0, 0, 0, 0, 0, 0, 0, 0, 0, 0, 0, 0, 0, 0, 0, 0, 0, 0, 0, 0, 0, 0, 0, 0, 0, 0, 0, 0, 0, 0, 0, 0, 0, 0, 0, 0, 0, 0, 0, 0, 0, 0, 1, 0, 0, 0, 0, 0, 0, 0, 0, 0, 0, 0, 0, 0, 0, 0, 0, 0, 0, 0, 0, 0, 0, 0, 0, 0, 0, 0, 0, 0, 1, 0, 0, 0, 0, 0, 0, 0, 0, 0, 0, 0, 0, 0, 0, 0, 0, 0, 0, 0, 0, 0, 0, 0, 0, 0, 0, 0, 0, 0, 0, 0, 0, 0, 0, 0, 0, 0, 0, 0, 0, 0, 0, 0, 0, 0, 0, 0, 0, 0, 0, 0, 0, 0, 0, 0, 0, 0, 0, 0, 0, 0, 0, 0, 0, 0, 0, 0, 0, 0, 1, 0, 0, 0, 0, 0, 0, 0, 0, 0, 0, 0, 0, 0, 0, 0, 0, 0, 0, 0, 0, 0, 0, 0, 0, 0, 0, 0, 0, 0, 0, 0, 0, 0, 1, 0, 0, 0, 0, 0, 0, 0, 0, 0, 0, 0, 0, 0, 0, 0, 0, 0, 0, 0, 0, 0, 0, 0, 0, 0, 1, 0, 0, 0, 0, 0, 0, 0, 0, 0, 0, 0, 0, 0, 0, 0, 0, 0, 0, 0, 0, 0, 0, 0, 0, 0, 0, 0, 0, 0, 0, 0, 0, 0, 0, 0, 0, 0, 1, 0, 0, 0, 0, 0, 0, 0, 0, 0, 0, 0, 0, 0, 0, 0, 0, 0, 0, 0, 0, 0, 0, 0, 0, 0, 0, 0, 0, 0, 0, 0, 0, 0, 1, 0, 0, 0, 0, 0, 0, 0, 0, 0, 0, 0, 0, 0, 0, 0, 0, 0, 0, 0, 0, 0, 0, 0, 0, 0, 0, 0, 0, 0, 0, 0, 0, 0, 0, 0, 0, 0, 0, 0, 0, 0, 0, 0, 0, 1, 0, 0, 0, 0] y: 413>>"
      ]
     },
     "execution_count": 229,
     "metadata": {},
     "output_type": "execute_result"
    }
   ],
   "source": [
    "max_coverage.state"
   ]
  },
  {
   "cell_type": "code",
   "execution_count": null,
   "id": "f9057968-8a29-47d2-b652-697a88c917b2",
   "metadata": {},
   "outputs": [],
   "source": [
    "import math\n",
    "max_cut.reset()\n",
    "dim = max_cut.meta_data.n_variables\n",
    "test2 = Test2(1000, 10, 1/dim, 400)\n",
    "test2(max_cut)"
   ]
  },
  {
   "cell_type": "code",
   "execution_count": null,
   "id": "92098965-3b53-4d62-9a91-dde5e9fa7c88",
   "metadata": {},
   "outputs": [],
   "source": [
    "max_cut.state"
   ]
  },
  {
   "cell_type": "markdown",
   "id": "e4068e8e-95cd-4e97-bfae-b879db42322a",
   "metadata": {
    "jp-MarkdownHeadingCollapsed": true
   },
   "source": [
    "# Big jump"
   ]
  },
  {
   "cell_type": "code",
   "execution_count": 289,
   "id": "9ccfffe0-4f5f-4ed0-867c-5cc9216449a9",
   "metadata": {},
   "outputs": [
    {
     "data": {
      "text/plain": [
       "array([0, 1])"
      ]
     },
     "execution_count": 289,
     "metadata": {},
     "output_type": "execute_result"
    }
   ],
   "source": [
    "np.random.randint(0, 10,2)"
   ]
  },
  {
   "cell_type": "code",
   "execution_count": 291,
   "id": "a9e847bd-1c81-46a8-83f1-f7b7bf247b0e",
   "metadata": {},
   "outputs": [
    {
     "data": {
      "text/plain": [
       "3"
      ]
     },
     "execution_count": 291,
     "metadata": {},
     "output_type": "execute_result"
    }
   ],
   "source": [
    "-1%4"
   ]
  },
  {
   "cell_type": "code",
   "execution_count": 312,
   "id": "357692db-4694-4d82-a207-3c431ddfe23b",
   "metadata": {},
   "outputs": [],
   "source": [
    "def select_distant_indices(array_length, nb, min_dist, proba_pursue):\n",
    "    selected_indices = [np.random.randint(0, array_length)]\n",
    "\n",
    "    while len(selected_indices) < nb :\n",
    "        new_index = np.random.randint(0, array_length)\n",
    "        ok = True\n",
    "        for index in selected_indices:\n",
    "            d1 = abs(new_index - index)\n",
    "            d2 = (-abs(new_index - index))%array_length\n",
    "            if d1 <= min_dist or d2 <= min_dist:\n",
    "                if random.random() > proba_pursue:\n",
    "                    ok = False\n",
    "        if ok: selected_indices.append(new_index)\n",
    "\n",
    "    return selected_indices"
   ]
  },
  {
   "cell_type": "code",
   "execution_count": 324,
   "id": "9660d2f7-e8e4-4ef9-891a-6e3a79697ad0",
   "metadata": {},
   "outputs": [],
   "source": [
    "def flip_set(x,positions):\n",
    "    y = x.copy()\n",
    "    y[positions] = 1 - y[positions]\n",
    "    return y"
   ]
  },
  {
   "cell_type": "code",
   "execution_count": 347,
   "id": "bf9cd040-af53-4fe7-9c2d-2cd420f36da8",
   "metadata": {},
   "outputs": [],
   "source": [
    "class EABJ:\n",
    "\n",
    "    def __init__(self,n,lamb,min_dist,proba_pursue):\n",
    "        self.n = n #nb iterations\n",
    "        self.lamb = lamb #population size\n",
    "        self.min_dist = min_dist\n",
    "        self.proba_pursue = proba_pursue\n",
    "    \n",
    "    def __call__(self, problem: ioh.ProblemClass.GRAPH) -> None:\n",
    "        dim = problem.meta_data.n_variables\n",
    "\n",
    "        #Initialization\n",
    "        x = np.random.randint(0,2,dim)\n",
    "        y = problem(x)\n",
    "\n",
    "        #Optimization\n",
    "        for t in range(self.n-1):\n",
    "            pop = []\n",
    "            for i in range(self.lamb):\n",
    "                l = positive_binomial(dim,3/dim,1)[0]\n",
    "                I = select_distant_indices(dim, l, self.min_dist, self.proba_pursue)\n",
    "                xx = flip_set(x,I)\n",
    "                yy = problem(xx)\n",
    "                pop.append((xx,yy))\n",
    "            pop.sort(key=lambda x: x[1])\n",
    "            if pop[self.lamb-1][1] >= y:\n",
    "                x = pop[self.lamb-1][0]\n",
    "                y = pop[self.lamb-1][1]"
   ]
  },
  {
   "cell_type": "code",
   "execution_count": 350,
   "id": "20e91134-94fc-471b-a874-cc74834d81ba",
   "metadata": {},
   "outputs": [
    {
     "data": {
      "text/plain": [
       "<State evaluations: 9991 optimum_found: false current_best: <Solution x: [1, 0, 1, 0, 0, 1, 1, 1, 0, 0, 0, 1, 1, 1, 1, 1, 1, 0, 1, 1, 1, 1, 0, 1, 1, 1, 1, 0, 0, 1, 0, 0, 1, 1, 1, 1, 0, 0, 1, 0, 1, 1, 1, 1, 1, 0, 1, 0, 1, 1, 1, 0, 0, 0, 0, 1, 1, 1, 0, 1, 1, 0, 1, 0, 0, 1, 0, 1, 1, 0, 0, 1, 1, 1, 0, 0, 1, 1, 0, 1, 1, 0, 1, 1, 0, 1, 0, 1, 1, 0, 1, 0, 0, 0, 1, 1, 0, 1, 0, 0, 0, 1, 1, 1, 1, 1, 0, 0, 0, 0, 1, 0, 1, 0, 1, 1, 0, 0, 1, 1, 1, 1, 0, 0, 0, 1, 0, 0, 0, 1, 0, 1, 1, 1, 0, 1, 0, 1, 0, 0, 0, 1, 1, 0, 1, 1, 1, 0, 1, 0, 0, 1, 1, 1, 1, 1, 1, 1, 1, 0, 1, 1, 0, 1, 0, 0, 1, 0, 0, 1, 0, 1, 0, 0, 0, 1, 0, 1, 1, 0, 0, 1, 1, 1, 0, 0, 1, 0, 0, 0, 0, 0, 0, 1, 1, 1, 1, 0, 1, 1, 1, 1, 0, 1, 0, 0, 0, 0, 0, 1, 0, 0, 1, 1, 0, 0, 1, 1, 0, 1, 0, 0, 0, 1, 0, 0, 1, 0, 1, 0, 1, 0, 0, 1, 0, 0, 0, 1, 0, 0, 0, 1, 0, 1, 1, 0, 0, 0, 0, 0, 0, 0, 1, 1, 1, 1, 1, 1, 1, 1, 1, 1, 0, 0, 0, 0, 1, 0, 0, 1, 1, 1, 1, 1, 0, 0, 1, 0, 1, 0, 1, 1, 1, 1, 0, 0, 0, 1, 0, 0, 0, 1, 0, 0, 1, 0, 1, 1, 0, 0, 1, 1, 1, 0, 0, 1, 1, 1, 1, 0, 1, 1, 1, 1, 1, 0, 0, 0, 0, 0, 0, 1, 1, 0, 1, 0, 0, 1, 1, 0, 0, 1, 1, 0, 1, 1, 0, 1, 0, 1, 1, 1, 1, 0, 1, 0, 1, 1, 1, 0, 0, 1, 0, 1, 0, 0, 0, 0, 0, 0, 0, 1, 1, 0, 0, 1, 0, 0, 0, 0, 1, 1, 0, 0, 0, 1, 0, 1, 0, 0, 1, 0, 0, 1, 1, 1, 1, 0, 0, 0, 1, 1, 1, 0, 1, 1, 1, 0, 0, 0, 0, 0, 0, 1, 0, 1, 0, 1, 0, 0, 1, 1, 0, 1, 0, 1, 1, 1, 0, 0, 0, 0, 0, 0, 1, 0, 1, 0, 1, 0, 1, 1, 0, 0, 0, 0, 0, 1, 0, 1, 1, 0, 1, 0, 1, 1, 1, 0, 1, 1, 1, 1, 0, 1, 1, 0, 1, 1, 1, 1, 1, 1, 0, 0, 0, 0, 0, 0, 1, 0, 1, 0, 1, 0, 1, 1, 1, 0, 1, 1, 1, 1, 1, 0, 1, 0, 0, 1, 1, 1, 1, 1, 0, 0, 0, 0, 1, 0, 1, 1, 1, 1, 0, 0, 0, 0, 0, 1, 1, 0, 1, 0, 0, 0, 1, 0, 0, 1, 1, 1, 0, 1, 0, 0, 1, 1, 0, 1, 0, 1, 0, 0, 0, 0, 1, 0, 0, 0, 0, 0, 1, 1, 1, 0, 0, 1, 1, 1, 1, 1, 0, 1, 1, 0, 1, 0, 1, 1, 0, 0, 0, 1, 0, 0, 1, 1, 1, 0, 1, 1, 1, 1, 1, 0, 1, 1, 0, 0, 0, 1, 0, 1, 1, 0, 0, 0, 1, 1, 0, 1, 0, 0, 1, 0, 0, 1, 0, 0, 0, 0, 1, 1, 1, 0, 1, 0, 1, 0, 0, 0, 1, 0, 0, 0, 1, 0, 0, 0, 1, 1, 0, 0, 0, 0, 1, 1, 1, 1, 1, 1, 0, 0, 0, 0, 0, 1, 1, 1, 0, 0, 0, 1, 1, 0, 1, 1, 1, 1, 1, 0, 0, 0, 0, 0, 0, 0, 0, 0, 0, 0, 1, 0, 0, 1, 1, 1, 0, 0, 0, 1, 0, 1, 0, 1, 0, 0, 0, 0, 1, 1, 1, 0, 0, 1, 1, 0, 0, 0, 1, 0, 1, 0, 1, 1, 1, 1, 1, 1, 1, 0, 0, 0, 0, 1, 1, 1, 0, 0, 0, 1, 0, 0, 1, 0, 1, 1, 0, 1, 1, 1, 0, 0, 1, 1, 0, 1, 0, 1, 0, 0, 0, 0, 1, 0, 0, 0, 1, 1, 1, 1, 0, 0, 0, 1, 0, 1, 1, 0, 0, 0, 1, 1, 0, 0, 0, 1, 0, 1, 0, 1, 1, 0, 0, 1, 0, 0, 0, 1, 0, 0, 1, 0, 0, 0, 0, 0, 1, 1, 0, 1, 0, 0, 1, 0, 0, 0, 1, 0, 0, 0, 1, 1, 1, 1, 0, 0, 1, 0, 0, 0] y: 11224>>"
      ]
     },
     "execution_count": 350,
     "metadata": {},
     "output_type": "execute_result"
    }
   ],
   "source": [
    "max_cut.reset()\n",
    "dim = max_cut.meta_data.n_variables\n",
    "eabj = EABJ(nb_it//10, 10, 4, 1/dim)\n",
    "eabj(max_cut)\n",
    "max_cut.state"
   ]
  },
  {
   "cell_type": "code",
   "execution_count": 351,
   "id": "b82d7279-ff8a-4a86-a6a3-e04b30e742d6",
   "metadata": {},
   "outputs": [
    {
     "data": {
      "text/plain": [
       "<State evaluations: 9991 optimum_found: false current_best: <Solution x: [0, 0, 0, 0, 0, 0, 1, 0, 0, 0, 0, 0, 0, 0, 0, 0, 0, 0, 0, 0, 0, 1, 0, 0, 0, 0, 0, 0, 0, 0, 0, 0, 0, 0, 0, 0, 0, 0, 0, 0, 0, 0, 0, 0, 0, 0, 0, 0, 0, 0, 0, 0, 0, 0, 0, 0, 0, 0, 0, 0, 0, 0, 0, 0, 0, 0, 0, 1, 0, 0, 0, 0, 0, 0, 0, 0, 0, 0, 0, 0, 0, 0, 0, 0, 0, 0, 0, 0, 0, 0, 0, 0, 0, 0, 0, 0, 0, 0, 0, 0, 0, 0, 0, 0, 0, 0, 0, 0, 0, 0, 0, 0, 0, 0, 0, 0, 0, 0, 0, 0, 0, 0, 0, 0, 0, 0, 0, 0, 0, 0, 0, 0, 0, 0, 0, 0, 0, 0, 0, 0, 0, 0, 0, 0, 0, 0, 0, 0, 0, 0, 0, 0, 0, 0, 0, 0, 0, 0, 0, 0, 0, 0, 0, 0, 0, 0, 0, 0, 0, 0, 0, 0, 0, 0, 0, 0, 0, 0, 0, 0, 0, 0, 0, 0, 0, 0, 0, 0, 0, 0, 0, 0, 0, 0, 0, 0, 0, 0, 0, 0, 0, 0, 0, 0, 0, 0, 0, 0, 0, 0, 0, 0, 0, 0, 0, 0, 0, 0, 0, 0, 0, 0, 0, 0, 0, 0, 0, 0, 0, 0, 0, 0, 0, 0, 0, 0, 0, 0, 0, 0, 0, 0, 0, 0, 0, 0, 0, 0, 0, 1, 0, 0, 0, 0, 0, 0, 0, 0, 0, 0, 0, 0, 1, 0, 0, 0, 0, 0, 0, 0, 0, 0, 0, 0, 0, 0, 0, 0, 0, 0, 0, 0, 0, 0, 0, 0, 0, 0, 0, 0, 0, 0, 0, 0, 0, 0, 0, 0, 0, 0, 0, 0, 0, 0, 0, 0, 0, 0, 0, 0, 0, 0, 0, 0, 0, 0, 0, 0, 0, 0, 0, 0, 1, 0, 0, 0, 0, 0, 0, 0, 1, 0, 0, 0, 0, 0, 0, 0, 0, 0, 0, 0, 0, 0, 0, 0, 0, 0, 0, 0, 1, 0, 0, 0, 0, 0, 0, 0, 0, 0, 0, 0, 0, 0, 0, 0, 0, 0, 0, 0, 0, 0, 0, 0, 0, 0, 0, 0, 0, 0, 0, 0, 0, 0, 0, 1, 0, 0, 0, 0, 0, 0, 0, 0, 0, 0, 0, 0, 0, 0, 0, 0, 0, 0, 0, 0, 0, 0, 0, 0, 0, 0, 0, 0, 0, 0, 0, 0, 0, 0, 0, 0, 0, 0, 0, 0, 0, 1, 0, 0, 0, 0, 0, 0, 0, 0, 0, 0, 0, 0, 0, 0, 0, 0, 0, 0, 0, 0, 0, 0] y: 421>>"
      ]
     },
     "execution_count": 351,
     "metadata": {},
     "output_type": "execute_result"
    }
   ],
   "source": [
    "max_coverage.reset()\n",
    "dim = max_coverage.meta_data.n_variables\n",
    "eabj = EABJ(nb_it//10, 10, 5, 10/dim)\n",
    "eabj(max_coverage)\n",
    "max_coverage.state"
   ]
  },
  {
   "cell_type": "markdown",
   "id": "3314321e-5290-4e1e-81e3-fb11ac7cbdda",
   "metadata": {},
   "source": [
    "# Bloc-note"
   ]
  },
  {
   "cell_type": "markdown",
   "id": "3356b109-2385-48ff-9e99-425706bb98c7",
   "metadata": {},
   "source": [
    "Tester budget max et diminuer  \n",
    "Descente de gradient stochastique // Relaxation  "
   ]
  }
 ],
 "metadata": {
  "kernelspec": {
   "display_name": "Python 3 (ipykernel)",
   "language": "python",
   "name": "python3"
  },
  "language_info": {
   "codemirror_mode": {
    "name": "ipython",
    "version": 3
   },
   "file_extension": ".py",
   "mimetype": "text/x-python",
   "name": "python",
   "nbconvert_exporter": "python",
   "pygments_lexer": "ipython3",
   "version": "3.8.10"
  }
 },
 "nbformat": 4,
 "nbformat_minor": 5
}
