{
 "cells": [
  {
   "cell_type": "code",
   "execution_count": 3,
   "id": "825dc90f",
   "metadata": {},
   "outputs": [],
   "source": [
    "import numpy as np\n",
    "import ioh"
   ]
  },
  {
   "cell_type": "code",
   "execution_count": 4,
   "id": "01404810",
   "metadata": {},
   "outputs": [
    {
     "data": {
      "text/plain": [
       "{2000: 'MaxCut2000',\n",
       " 2001: 'MaxCut2001',\n",
       " 2002: 'MaxCut2002',\n",
       " 2003: 'MaxCut2003',\n",
       " 2004: 'MaxCut2004',\n",
       " 2100: 'MaxCoverage2100',\n",
       " 2101: 'MaxCoverage2101',\n",
       " 2102: 'MaxCoverage2102',\n",
       " 2103: 'MaxCoverage2103',\n",
       " 2104: 'MaxCoverage2104',\n",
       " 2105: 'MaxCoverage2105',\n",
       " 2106: 'MaxCoverage2106',\n",
       " 2107: 'MaxCoverage2107',\n",
       " 2108: 'MaxCoverage2108',\n",
       " 2109: 'MaxCoverage2109',\n",
       " 2110: 'MaxCoverage2110',\n",
       " 2111: 'MaxCoverage2111',\n",
       " 2112: 'MaxCoverage2112',\n",
       " 2113: 'MaxCoverage2113',\n",
       " 2114: 'MaxCoverage2114',\n",
       " 2115: 'MaxCoverage2115',\n",
       " 2116: 'MaxCoverage2116',\n",
       " 2117: 'MaxCoverage2117',\n",
       " 2118: 'MaxCoverage2118',\n",
       " 2119: 'MaxCoverage2119',\n",
       " 2120: 'MaxCoverage2120',\n",
       " 2121: 'MaxCoverage2121',\n",
       " 2122: 'MaxCoverage2122',\n",
       " 2123: 'MaxCoverage2123',\n",
       " 2124: 'MaxCoverage2124',\n",
       " 2125: 'MaxCoverage2125',\n",
       " 2126: 'MaxCoverage2126',\n",
       " 2127: 'MaxCoverage2127',\n",
       " 2200: 'MaxInfluence2200',\n",
       " 2201: 'MaxInfluence2201',\n",
       " 2202: 'MaxInfluence2202',\n",
       " 2203: 'MaxInfluence2203',\n",
       " 2204: 'MaxInfluence2204',\n",
       " 2205: 'MaxInfluence2205',\n",
       " 2206: 'MaxInfluence2206',\n",
       " 2207: 'MaxInfluence2207',\n",
       " 2208: 'MaxInfluence2208',\n",
       " 2209: 'MaxInfluence2209',\n",
       " 2210: 'MaxInfluence2210',\n",
       " 2211: 'MaxInfluence2211',\n",
       " 2212: 'MaxInfluence2212',\n",
       " 2213: 'MaxInfluence2213',\n",
       " 2214: 'MaxInfluence2214',\n",
       " 2215: 'MaxInfluence2215',\n",
       " 2216: 'MaxInfluence2216',\n",
       " 2217: 'MaxInfluence2217',\n",
       " 2218: 'MaxInfluence2218',\n",
       " 2219: 'MaxInfluence2219',\n",
       " 2220: 'MaxInfluence2220',\n",
       " 2221: 'MaxInfluence2221',\n",
       " 2222: 'MaxInfluence2222',\n",
       " 2223: 'MaxInfluence2223',\n",
       " 2300: 'PackWhileTravel2300',\n",
       " 2301: 'PackWhileTravel2301',\n",
       " 2302: 'PackWhileTravel2302',\n",
       " 2303: 'PackWhileTravel2303',\n",
       " 2304: 'PackWhileTravel2304',\n",
       " 2305: 'PackWhileTravel2305',\n",
       " 2306: 'PackWhileTravel2306',\n",
       " 2307: 'PackWhileTravel2307',\n",
       " 2308: 'PackWhileTravel2308'}"
      ]
     },
     "execution_count": 4,
     "metadata": {},
     "output_type": "execute_result"
    }
   ],
   "source": [
    "ioh.ProblemClass.GRAPH.problems"
   ]
  },
  {
   "cell_type": "code",
   "execution_count": 5,
   "id": "616b30e5",
   "metadata": {},
   "outputs": [],
   "source": [
    "max_cut = ioh.get_problem(2000, problem_class=ioh.ProblemClass.GRAPH)\n",
    "max_coverage = ioh.get_problem(2100, problem_class=ioh.ProblemClass.GRAPH)"
   ]
  },
  {
   "cell_type": "code",
   "execution_count": 6,
   "id": "931a6308",
   "metadata": {},
   "outputs": [
    {
     "name": "stdout",
     "output_type": "stream",
     "text": [
      "<MetaData: MaxCut2000 id: 2000 iid: 1 dim: 800>\n",
      "<MetaData: MaxCoverage2100 id: 2100 iid: 1 dim: 450>\n"
     ]
    }
   ],
   "source": [
    "print(max_cut.meta_data)\n",
    "print(max_coverage.meta_data)"
   ]
  },
  {
   "cell_type": "code",
   "execution_count": 7,
   "id": "21158393",
   "metadata": {},
   "outputs": [],
   "source": [
    "nb_it = 10000"
   ]
  },
  {
   "cell_type": "code",
   "execution_count": 8,
   "id": "bcc6354e",
   "metadata": {},
   "outputs": [],
   "source": [
    "x_mcov = cut = np.random.randint(0,2,max_coverage.meta_data.n_variables)\n",
    "val = max_coverage(x_mcov)\n",
    "# help(max_coverage.optimum)\n",
    "for ind in ioh.ProblemClass.GRAPH.problems:\n",
    "    p = ioh.get_problem(ind, problem_class=ioh.ProblemClass.GRAPH)\n",
    "    if np.any(p.optimum.x):\n",
    "        print(p.meta_data)"
   ]
  },
  {
   "cell_type": "markdown",
   "id": "71183e84-451f-4cf1-a382-250fea68ac4d",
   "metadata": {},
   "source": [
    "# 1/2-approximation for MaxCut"
   ]
  },
  {
   "cell_type": "markdown",
   "id": "75700e20-5143-4c4c-b45e-e4ffeabd13f0",
   "metadata": {},
   "source": [
    "Proof in Bertrand Meyer's Advanced Algorithms lecture"
   ]
  },
  {
   "cell_type": "code",
   "execution_count": 7,
   "id": "9109a21f-84fc-4af2-b665-131af94ad99c",
   "metadata": {},
   "outputs": [],
   "source": [
    "max_cut.reset()"
   ]
  },
  {
   "cell_type": "code",
   "execution_count": 8,
   "id": "e558ad49-fee1-4839-9db5-c9fce347f7cf",
   "metadata": {},
   "outputs": [
    {
     "name": "stdout",
     "output_type": "stream",
     "text": [
      "<State evaluations: 1 optimum_found: false current_best: <Solution x: [0, 1, 0, 0, 0, 0, 0, 0, 0, 1, 1, 1, 1, 1, 0, 1, 1, 1, 1, 1, 1, 1, 0, 0, 0, 1, 1, 0, 1, 1, 0, 0, 0, 1, 0, 1, 0, 1, 1, 1, 1, 0, 0, 0, 0, 0, 0, 1, 0, 0, 0, 1, 0, 0, 0, 0, 0, 0, 1, 1, 0, 1, 0, 0, 0, 1, 1, 1, 0, 0, 1, 0, 0, 1, 0, 0, 1, 0, 1, 1, 0, 1, 1, 0, 0, 1, 1, 1, 1, 0, 1, 1, 1, 1, 0, 0, 1, 1, 0, 0, 1, 0, 1, 1, 0, 0, 0, 0, 1, 1, 0, 1, 1, 1, 1, 1, 1, 0, 1, 0, 0, 0, 1, 1, 1, 0, 1, 0, 0, 0, 1, 0, 1, 0, 0, 0, 0, 1, 0, 1, 1, 0, 1, 1, 1, 1, 1, 0, 1, 1, 1, 0, 1, 1, 0, 0, 0, 0, 0, 0, 0, 1, 0, 1, 1, 1, 1, 0, 1, 1, 1, 0, 0, 0, 1, 0, 0, 0, 1, 0, 0, 0, 0, 0, 1, 1, 0, 0, 1, 1, 1, 1, 1, 1, 0, 0, 1, 1, 1, 0, 1, 0, 0, 0, 0, 0, 1, 0, 1, 0, 1, 1, 1, 1, 0, 0, 0, 1, 0, 0, 1, 1, 1, 1, 0, 0, 1, 0, 1, 1, 0, 1, 1, 1, 1, 0, 0, 1, 0, 1, 0, 1, 1, 1, 0, 0, 0, 0, 1, 0, 1, 0, 0, 1, 1, 1, 0, 1, 1, 0, 1, 1, 1, 1, 1, 0, 0, 1, 1, 0, 0, 1, 1, 1, 1, 1, 1, 1, 0, 0, 1, 1, 1, 1, 1, 0, 0, 0, 0, 0, 1, 1, 1, 1, 1, 0, 1, 1, 1, 1, 0, 0, 0, 0, 1, 1, 1, 1, 0, 0, 1, 0, 0, 0, 0, 1, 1, 0, 0, 1, 1, 1, 1, 0, 0, 0, 0, 1, 0, 1, 1, 1, 0, 0, 0, 1, 0, 1, 1, 0, 1, 1, 0, 1, 0, 0, 0, 0, 1, 1, 0, 1, 0, 0, 0, 0, 1, 1, 1, 0, 0, 1, 1, 1, 0, 1, 1, 1, 1, 1, 1, 1, 1, 1, 1, 1, 1, 1, 0, 1, 0, 1, 0, 0, 0, 1, 0, 0, 1, 0, 1, 0, 0, 1, 1, 0, 1, 1, 1, 0, 1, 0, 1, 0, 1, 1, 1, 1, 1, 0, 0, 1, 1, 1, 0, 0, 1, 0, 1, 1, 1, 0, 1, 1, 0, 1, 1, 1, 1, 0, 0, 0, 0, 0, 0, 1, 0, 1, 1, 0, 1, 0, 0, 0, 1, 0, 1, 1, 1, 1, 0, 0, 0, 0, 1, 1, 0, 0, 1, 0, 1, 0, 0, 1, 0, 0, 1, 0, 1, 0, 0, 0, 1, 0, 1, 1, 1, 1, 1, 1, 1, 1, 1, 0, 1, 1, 0, 1, 0, 1, 1, 1, 0, 1, 0, 1, 1, 1, 1, 1, 0, 0, 0, 0, 0, 1, 0, 0, 0, 1, 1, 0, 0, 0, 1, 0, 0, 1, 0, 0, 0, 1, 0, 1, 1, 0, 1, 1, 0, 1, 1, 0, 1, 0, 0, 0, 0, 0, 0, 0, 0, 1, 1, 0, 0, 0, 1, 0, 1, 0, 0, 0, 0, 0, 1, 0, 0, 0, 0, 1, 0, 1, 0, 0, 1, 0, 0, 1, 1, 1, 0, 0, 1, 0, 0, 1, 0, 1, 1, 1, 0, 1, 1, 0, 0, 0, 0, 0, 0, 1, 1, 0, 1, 0, 1, 1, 0, 0, 1, 1, 1, 1, 0, 1, 1, 1, 0, 1, 1, 0, 0, 0, 0, 0, 0, 0, 1, 1, 0, 1, 0, 0, 1, 1, 1, 0, 0, 1, 1, 1, 1, 1, 0, 1, 0, 0, 0, 0, 1, 0, 1, 0, 1, 1, 1, 1, 1, 0, 1, 1, 0, 1, 1, 0, 0, 0, 0, 0, 1, 0, 0, 1, 0, 1, 1, 0, 0, 0, 1, 1, 1, 0, 0, 1, 1, 0, 1, 1, 1, 0, 1, 1, 1, 0, 0, 0, 1, 0, 0, 1, 1, 0, 0, 1, 0, 1, 0, 0, 0, 1, 1, 1, 0, 0, 1, 1, 0, 0, 0, 1, 0, 1, 1, 1, 1, 0, 0, 0, 0, 1, 0, 0, 1, 1, 1, 1, 0, 1, 0, 0, 0, 1, 1, 0, 0, 1, 0, 1, 0, 0, 1, 1, 0, 0, 0, 0, 1, 0, 0, 0, 1, 0, 0, 1, 1, 0, 1, 1, 0, 1, 0, 1, 1, 0, 0, 1, 0, 1, 0, 1, 0, 1, 0, 1, 0, 0, 1, 1, 0, 0, 0, 1, 1, 1, 0, 0, 0, 1, 1, 1, 1, 1, 1, 1, 0, 1, 0, 0, 1, 1] y: 9543>>\n"
     ]
    }
   ],
   "source": [
    "cut = np.random.randint(0,2,max_cut.meta_data.n_variables)\n",
    "max_cut(cut)\n",
    "print(max_cut.state)"
   ]
  },
  {
   "cell_type": "markdown",
   "id": "299c3603",
   "metadata": {},
   "source": [
    "# RLS"
   ]
  },
  {
   "cell_type": "code",
   "execution_count": 9,
   "id": "c64b1486",
   "metadata": {},
   "outputs": [],
   "source": [
    "import numpy as np\n",
    "\n",
    "class RandomLocalSearch:\n",
    "    'Random local search algorithm'\n",
    "    def __init__(self, n: int):\n",
    "        self.n: int = n\n",
    "        \n",
    "    def __call__(self, problem: ioh.ProblemClass.GRAPH) -> None:\n",
    "        'For each it flip 1 bit chosen uar and keep the best of both'\n",
    "        \n",
    "        x = np.random.randint(0,2,problem.meta_data.n_variables)\n",
    "        val = problem(x)\n",
    "        for _ in range(self.n):\n",
    "            index_to_flip = np.random.randint(0,problem.meta_data.n_variables)\n",
    "            y = x\n",
    "            y[index_to_flip] = 1 - y[index_to_flip]\n",
    "            val_y = problem(y)\n",
    "            if val_y > val:\n",
    "                x = y\n",
    "                val = val_y"
   ]
  },
  {
   "cell_type": "code",
   "execution_count": 10,
   "id": "7ca72e38",
   "metadata": {},
   "outputs": [
    {
     "name": "stdout",
     "output_type": "stream",
     "text": [
      "10001 -213.0 -188.0\n"
     ]
    }
   ],
   "source": [
    "max_coverage.reset()\n",
    "r = RandomLocalSearch(nb_it)\n",
    "r(max_coverage)\n",
    "print(max_coverage.state.evaluations, max_coverage.state.y_unconstrained, max_coverage.state.y_unconstrained_best)"
   ]
  },
  {
   "cell_type": "code",
   "execution_count": 11,
   "id": "8e5e816c",
   "metadata": {},
   "outputs": [
    {
     "name": "stdout",
     "output_type": "stream",
     "text": [
      "10001 9603.0 9784.0\n"
     ]
    }
   ],
   "source": [
    "max_cut.reset()\n",
    "r = RandomLocalSearch(nb_it)\n",
    "r(max_cut)\n",
    "print(max_cut.state.evaluations, max_cut.state.y_unconstrained, max_cut.state.y_unconstrained_best)"
   ]
  },
  {
   "cell_type": "markdown",
   "id": "62c84335",
   "metadata": {},
   "source": [
    "# (1+1) EA "
   ]
  },
  {
   "cell_type": "code",
   "execution_count": 12,
   "id": "d563e4a1",
   "metadata": {},
   "outputs": [],
   "source": [
    "class EA_1p1:\n",
    "    '(1+1)-EA'\n",
    "    def __init__(self, n: int, p : float):\n",
    "        self.n: int = n\n",
    "        self.p: float = p\n",
    "        \n",
    "    def __call__(self, problem: ioh.ProblemClass.GRAPH) -> None:\n",
    "        x = np.random.randint(0,2,problem.meta_data.n_variables)\n",
    "        val = problem(x)\n",
    "        for _ in range(self.n):\n",
    "            y = x.copy()\n",
    "            for ind in range(len(x)):\n",
    "                y[ind] = 1 - y[ind] if np.random.binomial(1,self.p) else y[ind]\n",
    "            val_y = problem(y)\n",
    "            if val_y > val:\n",
    "                x = y\n",
    "                val = val_y"
   ]
  },
  {
   "cell_type": "code",
   "execution_count": 13,
   "id": "405ede91",
   "metadata": {},
   "outputs": [
    {
     "name": "stdout",
     "output_type": "stream",
     "text": [
      "10001 9603.0 9784.0\n"
     ]
    }
   ],
   "source": [
    "max_coverage.reset()\n",
    "ea_11 = EA_1p1(nb_it, 1/max_coverage.meta_data.n_variables)\n",
    "ea_11(max_coverage)\n",
    "print(max_cut.state.evaluations, max_cut.state.y_unconstrained, max_cut.state.y_unconstrained_best)"
   ]
  },
  {
   "cell_type": "code",
   "execution_count": 14,
   "id": "ea318881",
   "metadata": {},
   "outputs": [
    {
     "name": "stdout",
     "output_type": "stream",
     "text": [
      "<State evaluations: 10001 optimum_found: false current_best: <Solution x: [0, 1, 0, 0, 0, 0, 0, 1, 0, 1, 1, 0, 0, 1, 1, 0, 0, 1, 0, 0, 0, 1, 1, 1, 0, 1, 1, 0, 1, 1, 1, 0, 0, 1, 0, 0, 1, 0, 0, 1, 0, 1, 0, 0, 1, 1, 1, 0, 0, 0, 1, 1, 0, 0, 0, 0, 1, 0, 1, 1, 0, 0, 1, 0, 1, 0, 1, 0, 1, 0, 0, 1, 0, 0, 0, 1, 0, 1, 0, 0, 0, 1, 1, 0, 0, 0, 1, 1, 1, 1, 1, 1, 0, 1, 1, 1, 1, 1, 1, 0, 0, 1, 1, 0, 0, 0, 1, 0, 1, 0, 0, 1, 0, 0, 0, 1, 0, 0, 1, 0, 1, 0, 0, 1, 1, 0, 0, 1, 1, 0, 1, 0, 1, 0, 0, 1, 0, 0, 1, 1, 0, 1, 1, 1, 0, 0, 0, 1, 0, 1, 0, 1, 0, 0, 1, 0, 0, 0, 1, 0, 1, 0, 1, 1, 0, 0, 0, 0, 0, 0, 0, 1, 1, 1, 0, 1, 1, 0, 1, 1, 1, 1, 0, 0, 1, 0, 0, 1, 0, 0, 0, 1, 1, 1, 0, 1, 0, 0, 0, 1, 0, 0, 1, 0, 1, 1, 1, 0, 0, 0, 1, 1, 1, 1, 0, 1, 0, 0, 1, 1, 1, 1, 0, 0, 1, 1, 1, 1, 1, 0, 0, 1, 1, 0, 1, 1, 1, 0, 0, 1, 1, 0, 0, 0, 1, 0, 1, 0, 0, 1, 1, 1, 1, 0, 0, 1, 0, 1, 1, 0, 1, 0, 0, 1, 1, 0, 0, 1, 0, 0, 0, 0, 0, 0, 1, 1, 1, 1, 0, 0, 0, 1, 1, 0, 1, 1, 1, 0, 1, 0, 0, 1, 0, 1, 0, 0, 0, 0, 0, 1, 0, 0, 1, 0, 1, 0, 0, 1, 1, 1, 1, 1, 1, 0, 1, 0, 0, 0, 0, 0, 1, 0, 0, 0, 1, 0, 1, 1, 1, 1, 1, 0, 1, 0, 0, 1, 0, 0, 0, 0, 0, 0, 1, 1, 1, 1, 1, 0, 1, 1, 0, 1, 0, 0, 0, 1, 1, 1, 1, 0, 0, 0, 0, 1, 1, 1, 1, 0, 0, 1, 0, 0, 0, 1, 1, 0, 0, 1, 1, 1, 1, 0, 0, 0, 1, 0, 1, 1, 0, 1, 0, 1, 1, 1, 0, 0, 0, 1, 0, 1, 1, 1, 0, 0, 0, 0, 0, 0, 0, 1, 0, 1, 1, 1, 0, 0, 1, 0, 1, 0, 1, 0, 0, 1, 0, 0, 1, 1, 1, 1, 1, 1, 0, 1, 1, 0, 1, 0, 1, 1, 1, 1, 0, 0, 0, 0, 0, 1, 1, 1, 0, 1, 1, 1, 0, 1, 0, 1, 0, 0, 0, 0, 1, 0, 1, 1, 1, 0, 1, 0, 1, 1, 1, 1, 0, 0, 0, 0, 1, 1, 0, 1, 0, 1, 0, 1, 0, 0, 1, 0, 1, 1, 1, 1, 0, 0, 0, 1, 1, 1, 0, 0, 0, 0, 1, 1, 1, 0, 1, 0, 0, 0, 1, 0, 1, 1, 0, 1, 1, 0, 0, 1, 1, 1, 0, 0, 0, 0, 0, 1, 1, 1, 0, 1, 0, 1, 1, 1, 1, 0, 1, 0, 1, 1, 0, 0, 0, 0, 1, 0, 1, 1, 0, 1, 1, 1, 1, 0, 1, 1, 0, 1, 1, 1, 1, 0, 1, 0, 1, 1, 1, 0, 0, 1, 1, 1, 0, 1, 1, 1, 0, 0, 0, 1, 0, 1, 1, 1, 1, 0, 1, 0, 1, 1, 1, 1, 1, 0, 0, 1, 0, 0, 1, 1, 1, 1, 0, 1, 1, 1, 1, 0, 0, 0, 0, 1, 1, 0, 0, 1, 1, 1, 1, 1, 1, 1, 1, 0, 1, 0, 0, 0, 0, 1, 1, 1, 1, 1, 1, 0, 0, 1, 1, 0, 1, 1, 1, 1, 0, 1, 1, 0, 0, 1, 0, 1, 0, 1, 1, 0, 1, 0, 1, 0, 0, 0, 0, 0, 0, 1, 0, 0, 1, 0, 0, 1, 0, 0, 0, 0, 1, 1, 0, 0, 0, 1, 0, 1, 1, 1, 1, 0, 1, 1, 0, 0, 1, 1, 0, 0, 1, 0, 1, 0, 0, 0, 0, 1, 0, 0, 0, 0, 1, 0, 1, 1, 1, 1, 1, 1, 1, 0, 1, 0, 0, 0, 0, 1, 0, 1, 1, 0, 0, 1, 0, 1, 0, 0, 0, 1, 1, 1, 0, 1, 0, 1, 0, 0, 0, 0, 0, 1, 1, 1, 0, 0, 1, 0, 0, 0, 0, 1, 0, 0, 0, 1, 1, 0, 0, 1, 1, 1, 1, 1, 0, 1, 1, 1, 1, 0, 1, 0, 0, 0, 0, 0, 0, 0, 1, 1, 1, 0, 0, 1, 1, 0, 0, 0, 1, 1] y: 11016>>\n"
     ]
    }
   ],
   "source": [
    "max_cut.reset()\n",
    "ea_11 = EA_1p1(nb_it, np.log(max_cut.meta_data.n_variables)/max_cut.meta_data.n_variables)\n",
    "ea_11(max_cut)\n",
    "print(max_cut.state)"
   ]
  },
  {
   "cell_type": "markdown",
   "id": "16f12129",
   "metadata": {},
   "source": [
    "# (1+($\\lambda, \\lambda$)) EA "
   ]
  },
  {
   "cell_type": "code",
   "execution_count": 15,
   "id": "c6e94680-f128-473e-a169-8679e3153d6c",
   "metadata": {},
   "outputs": [],
   "source": [
    "max_cut.reset()"
   ]
  },
  {
   "cell_type": "code",
   "execution_count": 16,
   "id": "8accd9ad",
   "metadata": {},
   "outputs": [],
   "source": [
    "import random\n",
    "\n",
    "class EA_1plamlam:\n",
    "    '(1+(lam,lam))-EA'\n",
    "    def __init__(self, n: int, lam : int, p : float, c : float):\n",
    "        self.n: int = n\n",
    "        self.lam: int = lam\n",
    "        self.p: float = p\n",
    "        self.c: float = c\n",
    "        \n",
    "    def __call__(self, problem: ioh.ProblemClass.GRAPH) -> None:\n",
    "        length_x = problem.meta_data.n_variables\n",
    "        x = np.random.randint(0,2,length_x)\n",
    "        val = problem(x)\n",
    "        for _ in range(self.n):\n",
    "            L = np.random.binomial(length_x, self.p)\n",
    "            xp = None\n",
    "            best_val = None # we allow for worse values than x\n",
    "            for _ in range(self.lam):\n",
    "                bits_to_flip = random.sample(range(length_x), L)\n",
    "                new_xp = x.copy()\n",
    "                for i in bits_to_flip:\n",
    "                    new_xp[i] = 1 - new_xp[i] if np.random.binomial(1, self.p) else new_xp[i]\n",
    "            val_new_xp = problem(new_xp)\n",
    "            if best_val is None or val_new_xp > best_val:\n",
    "                xp = new_xp\n",
    "                best_val = val_new_xp \n",
    "            y = x.copy()\n",
    "            best_val = None\n",
    "            for _ in range(self.lam):\n",
    "                new_y = x.copy()\n",
    "                for i in range(length_x):\n",
    "                    if np.random.binomial(1,self.c):\n",
    "                        new_y[i] = xp[i]\n",
    "                val_new_y = problem(new_y)\n",
    "                if best_val is None or val_new_y > best_val:\n",
    "                    y = new_y\n",
    "                    best_val = val_new_y\n",
    "            if best_val > val:\n",
    "                x = y\n",
    "                val = best_val"
   ]
  },
  {
   "cell_type": "code",
   "execution_count": 17,
   "id": "e3c305bd",
   "metadata": {},
   "outputs": [
    {
     "name": "stdout",
     "output_type": "stream",
     "text": [
      "11001 -200.0 -199.0\n"
     ]
    }
   ],
   "source": [
    "import math\n",
    "max_coverage.reset()\n",
    "dim_pb = max_coverage.meta_data.n_variables\n",
    "ea_1lamlam = EA_1plamlam(math.ceil(nb_it / (10)), 10, 1/dim_pb, 1/dim_pb)\n",
    "ea_1lamlam(max_coverage)\n",
    "print(max_coverage.state.evaluations, max_coverage.state.y_unconstrained, max_coverage.state.y_unconstrained_best)"
   ]
  },
  {
   "cell_type": "code",
   "execution_count": 18,
   "id": "77714957",
   "metadata": {},
   "outputs": [
    {
     "name": "stdout",
     "output_type": "stream",
     "text": [
      "11001 9604.0 9607.0\n"
     ]
    }
   ],
   "source": [
    "import math\n",
    "max_cut.reset()\n",
    "dim_pb = max_cut.meta_data.n_variables\n",
    "ea_1lamlam = EA_1plamlam(math.ceil(nb_it / (10)), 10, 1/dim_pb, 1/dim_pb)\n",
    "ea_1lamlam(max_cut)\n",
    "print(max_cut.state.evaluations, max_cut.state.y_unconstrained, max_cut.state.y_unconstrained_best)"
   ]
  },
  {
   "cell_type": "markdown",
   "id": "5c1585f2",
   "metadata": {},
   "source": [
    "# First idea \n",
    "as dealing with submodular functions, we may want to select the arguments that make it grow \"the most at first\" --> as when adding more elements we face diminishing returns\n",
    "so from a solution x -> we build lam xs turning off L bits of uar and keeping the best -> we then build lam ys by flipping on L' bits of the best xs uniformly at random and keeping the best y --> then we turn on each bit present in y and not in x\n",
    "\n",
    "problem: solution x keeps growing?\n",
    "how to stop that?"
   ]
  },
  {
   "cell_type": "code",
   "execution_count": 19,
   "id": "0ed627ea",
   "metadata": {},
   "outputs": [],
   "source": [
    "class OffAndOn:\n",
    "    def __init__(self, n: int, lam : int, p_off : float, p_on : float, x_init_0 : bool):\n",
    "        self.n: int = n\n",
    "        self.p_off: int = p_off\n",
    "        self.p_on: int = p_on\n",
    "        self.lam: float = lam\n",
    "        self.x_init_0: bool = x_init_0\n",
    "        \n",
    "        \n",
    "    def __call__(self, problem: ioh.ProblemClass.GRAPH) -> None:\n",
    "        if self.x_init_0:\n",
    "            x = np.zeros(problem.meta_data.n_variables, dtype=int)\n",
    "        else:\n",
    "            x = np.random.randint(0,2,problem.meta_data.n_variables)\n",
    "        val = problem(x)\n",
    "        for _ in range(self.n):\n",
    "            L = np.random.binomial(problem.meta_data.n_variables, self.p_off)\n",
    "            xp = None\n",
    "            best_val = None \n",
    "            for _ in range(self.lam):\n",
    "                # mutation 1 : we turn off L bits \n",
    "                bits_to_flip = random.sample(range(problem.meta_data.n_variables), L)\n",
    "                new_xp = x.copy()\n",
    "                for i in bits_to_flip:\n",
    "                    new_xp[i] = 0\n",
    "            val_new_xp = problem(new_xp)\n",
    "            if best_val is None or val_new_xp > best_val:\n",
    "                xp = new_xp\n",
    "                best_val = val_new_xp \n",
    "            L = np.random.binomial(problem.meta_data.n_variables, self.p_on)\n",
    "            y = xp.copy()\n",
    "            best_val = None\n",
    "            for _ in range(self.lam):\n",
    "                # mutation 2 : we turn on L bits\n",
    "                new_y = x.copy()\n",
    "                bits_to_flip = random.sample(range(problem.meta_data.n_variables), L)\n",
    "                for i in bits_to_flip:\n",
    "                    new_y[i] = 1\n",
    "                val_new_y = problem(new_y)\n",
    "                if best_val is None or val_new_y > best_val:\n",
    "                    y = new_y\n",
    "                    best_val = val_new_y\n",
    "            # mix:\n",
    "            # if bit in y and not in x then I turn it on \n",
    "            mix = x.copy()\n",
    "            for i in range(problem.meta_data.n_variables):\n",
    "                if y[i] and not x[i]:\n",
    "                    mix[i] = 1\n",
    "            val_new = problem(mix)\n",
    "            if val_new > val:\n",
    "                x = mix\n",
    "                val = best_val\n",
    "            "
   ]
  },
  {
   "cell_type": "code",
   "execution_count": 20,
   "id": "2654b399",
   "metadata": {},
   "outputs": [
    {
     "name": "stdout",
     "output_type": "stream",
     "text": [
      "10921 10052.0\n"
     ]
    }
   ],
   "source": [
    "import math\n",
    "max_cut.reset()\n",
    "dim_pb = max_cut.meta_data.n_variables\n",
    "lam = 10\n",
    "offandon = OffAndOn(math.ceil(nb_it / (lam + 1)), lam, lam/dim_pb, 1/dim_pb, False)\n",
    "offandon(max_cut)\n",
    "print(max_cut.state.evaluations, max_cut.state.y_unconstrained_best)"
   ]
  },
  {
   "cell_type": "code",
   "execution_count": 21,
   "id": "adbbaa52",
   "metadata": {},
   "outputs": [
    {
     "name": "stdout",
     "output_type": "stream",
     "text": [
      "10921 415.0\n"
     ]
    }
   ],
   "source": [
    "import math\n",
    "max_coverage.reset()\n",
    "dim_pb = max_coverage.meta_data.n_variables\n",
    "lam = 10\n",
    "offandon = OffAndOn(math.ceil(nb_it / (lam + 1)), lam, lam/dim_pb, 1/dim_pb, True)\n",
    "offandon(max_coverage)\n",
    "print(max_coverage.state.evaluations, max_coverage.state.y_unconstrained_best)"
   ]
  },
  {
   "cell_type": "code",
   "execution_count": 22,
   "id": "26ed353e-c970-45ca-91f6-5cfde44e76f7",
   "metadata": {},
   "outputs": [],
   "source": [
    "class OffAndOn2:\n",
    "    def __init__(self, n: int, lam : int, p_off : float, p_on : float, x_init_0 : bool):\n",
    "        self.n: int = n\n",
    "        self.p_off: int = p_off\n",
    "        self.p_on: int = p_on\n",
    "        self.lam: float = lam\n",
    "        self.x_init_0: bool = x_init_0\n",
    "        \n",
    "        \n",
    "    def __call__(self, problem: ioh.ProblemClass.GRAPH) -> None:\n",
    "        if self.x_init_0:\n",
    "            x = np.zeros(problem.meta_data.n_variables, dtype=int)\n",
    "        else:\n",
    "            x = np.random.randint(0,2,problem.meta_data.n_variables)\n",
    "        val = problem(x)\n",
    "        \n",
    "        for _ in range(self.n):\n",
    "            L = np.random.binomial(problem.meta_data.n_variables, self.p_off)\n",
    "            xp = None\n",
    "            best_val = None \n",
    "            for _ in range(self.lam):\n",
    "                # mutation 1 : we turn off L bits \n",
    "                bits_to_flip = random.sample(range(problem.meta_data.n_variables), L)\n",
    "                new_xp = x.copy()\n",
    "                for i in bits_to_flip:\n",
    "                    new_xp[i] = 0\n",
    "            val_new_xp = problem(new_xp)\n",
    "            if best_val is None or val_new_xp > best_val:\n",
    "                xp = new_xp\n",
    "                best_val = val_new_xp\n",
    "                \n",
    "            L = np.random.binomial(problem.meta_data.n_variables, self.p_on)\n",
    "            y = xp.copy()\n",
    "            best_val = None\n",
    "            for _ in range(self.lam):\n",
    "                # mutation 2 : we turn on L bits\n",
    "                new_y = x.copy()\n",
    "                bits_to_flip = random.sample(range(problem.meta_data.n_variables), L)\n",
    "                for i in bits_to_flip:\n",
    "                    new_y[i] = 1\n",
    "                val_new_y = problem(new_y)\n",
    "                if best_val is None or val_new_y > best_val:\n",
    "                    y = new_y\n",
    "                    best_val = val_new_y\n",
    "                    \n",
    "            # mix:\n",
    "            # if bit in y and not in x then I turn it on \n",
    "            mix = x.copy()\n",
    "            for i in range(problem.meta_data.n_variables):\n",
    "                if y[i] and not x[i]:\n",
    "                    mix[i] = 1\n",
    "            val_new = problem(mix)\n",
    "            if val_new > val:\n",
    "                self.p_off *= 1/(math.log(val_new - val+1)**(1/7))\n",
    "                x = mix\n",
    "                val = best_val            "
   ]
  },
  {
   "cell_type": "code",
   "execution_count": 23,
   "id": "7f3e1a98-417d-4c3f-a668-ad729a06ace8",
   "metadata": {},
   "outputs": [
    {
     "name": "stdout",
     "output_type": "stream",
     "text": [
      "10921 9990.0\n"
     ]
    }
   ],
   "source": [
    "import math\n",
    "max_cut.reset()\n",
    "dim_pb = max_cut.meta_data.n_variables\n",
    "lam = 10\n",
    "offandon = OffAndOn2(math.ceil(nb_it / (lam + 1)), lam, lam/dim_pb, 1/dim_pb, False)\n",
    "offandon(max_cut)\n",
    "print(max_cut.state.evaluations, max_cut.state.y_unconstrained_best)"
   ]
  },
  {
   "cell_type": "code",
   "execution_count": 24,
   "id": "3205e142-5de3-4c49-a922-6b368efe0d31",
   "metadata": {},
   "outputs": [
    {
     "name": "stdout",
     "output_type": "stream",
     "text": [
      "10921 412.0\n"
     ]
    }
   ],
   "source": [
    "import math\n",
    "max_coverage.reset()\n",
    "dim_pb = max_coverage.meta_data.n_variables\n",
    "lam = 10\n",
    "offandon = OffAndOn2(math.ceil(nb_it / (lam + 1)), lam, lam/dim_pb, 1/dim_pb, True)\n",
    "offandon(max_coverage)\n",
    "print(max_coverage.state.evaluations, max_coverage.state.y_unconstrained_best)"
   ]
  },
  {
   "cell_type": "code",
   "execution_count": 25,
   "id": "c1184227-9edb-4eeb-bd49-6417b629a59d",
   "metadata": {},
   "outputs": [
    {
     "data": {
      "text/plain": [
       "<bound method PyCapsule.violation of <ConstraintSet: <GraphConstraint 11>>>"
      ]
     },
     "execution_count": 25,
     "metadata": {},
     "output_type": "execute_result"
    }
   ],
   "source": [
    "max_coverage.constraints.violation"
   ]
  },
  {
   "cell_type": "code",
   "execution_count": 26,
   "id": "4e01c583-468e-434b-bf2e-96649b9bf23c",
   "metadata": {},
   "outputs": [
    {
     "data": {
      "text/plain": [
       "<State evaluations: 10921 optimum_found: false current_best: <Solution x: [0, 0, 0, 0, 0, 0, 0, 0, 0, 0, 0, 0, 0, 0, 0, 0, 0, 0, 0, 0, 0, 0, 0, 0, 0, 0, 0, 1, 0, 0, 0, 0, 0, 0, 0, 0, 0, 0, 0, 0, 0, 0, 0, 0, 0, 0, 0, 0, 0, 0, 0, 0, 0, 0, 0, 0, 0, 0, 0, 0, 0, 0, 0, 0, 0, 0, 0, 0, 0, 0, 0, 0, 0, 0, 0, 0, 0, 0, 0, 0, 0, 0, 0, 0, 0, 0, 0, 0, 0, 0, 0, 0, 0, 0, 0, 0, 0, 0, 0, 0, 0, 0, 0, 0, 1, 0, 0, 0, 0, 0, 0, 0, 0, 0, 0, 0, 0, 0, 0, 0, 0, 0, 0, 0, 0, 0, 0, 0, 0, 0, 0, 0, 0, 0, 0, 0, 0, 0, 0, 0, 0, 0, 0, 0, 0, 0, 0, 0, 0, 0, 0, 0, 0, 0, 0, 0, 0, 0, 0, 0, 0, 0, 0, 0, 0, 0, 0, 0, 1, 0, 0, 0, 0, 0, 0, 0, 0, 1, 0, 0, 1, 0, 0, 0, 0, 0, 0, 0, 0, 0, 0, 0, 0, 0, 0, 0, 0, 0, 0, 0, 0, 0, 0, 0, 0, 0, 0, 0, 0, 0, 0, 0, 0, 0, 0, 0, 0, 0, 0, 0, 0, 0, 0, 0, 0, 0, 1, 0, 0, 0, 0, 0, 0, 0, 0, 0, 0, 0, 0, 0, 0, 0, 0, 0, 0, 0, 0, 0, 0, 0, 0, 0, 0, 0, 0, 0, 0, 0, 0, 0, 0, 0, 0, 0, 0, 0, 0, 0, 0, 0, 0, 0, 0, 0, 0, 0, 0, 0, 0, 0, 0, 0, 0, 0, 0, 0, 0, 0, 0, 0, 0, 0, 0, 0, 0, 0, 0, 0, 0, 0, 0, 0, 0, 0, 0, 0, 0, 0, 0, 0, 0, 0, 0, 0, 0, 0, 0, 0, 0, 0, 0, 0, 0, 0, 0, 0, 0, 0, 0, 0, 0, 0, 0, 0, 0, 0, 0, 1, 0, 0, 0, 0, 0, 1, 0, 0, 0, 0, 0, 0, 0, 0, 0, 0, 0, 0, 0, 0, 0, 0, 0, 0, 0, 0, 0, 0, 0, 0, 0, 0, 0, 0, 0, 0, 0, 0, 0, 0, 0, 0, 0, 0, 0, 0, 0, 0, 0, 0, 0, 0, 0, 0, 0, 0, 0, 0, 0, 0, 0, 0, 0, 0, 0, 0, 0, 0, 0, 0, 0, 0, 0, 0, 0, 0, 0, 0, 0, 0, 0, 0, 1, 0, 0, 0, 0, 0, 0, 0, 0, 0, 0, 0, 0, 0, 0, 0, 0, 0, 0, 0, 1, 0, 0, 0, 0, 0, 0, 0, 0, 0] y: 412>>"
      ]
     },
     "execution_count": 26,
     "metadata": {},
     "output_type": "execute_result"
    }
   ],
   "source": [
    "max_coverage.state"
   ]
  },
  {
   "cell_type": "markdown",
   "id": "b45661cf-95e0-4b7c-ab25-c97d846929f5",
   "metadata": {},
   "source": [
    "# Multi-objective optimization"
   ]
  },
  {
   "cell_type": "code",
   "execution_count": 13,
   "id": "3c4a7dbb-ff3a-4c35-a1a3-e3d22cf084cd",
   "metadata": {},
   "outputs": [],
   "source": [
    "import random\n",
    "from typing import Callable"
   ]
  },
  {
   "cell_type": "code",
   "execution_count": 14,
   "id": "f2cf8c1d-bf1c-4443-b462-c74cf1dc3dc5",
   "metadata": {},
   "outputs": [],
   "source": [
    "class POSS:\n",
    "    \n",
    "    def __init__(self, n: int, pflip: int, b: int, I: Callable):\n",
    "        self.n: int = n\n",
    "        self.pflip = pflip #proba flit un bit\n",
    "        self.b: int = b #budget\n",
    "        self.I: Callable = I #isolation function : two solutions are comparable if they have the same I value\n",
    "        \n",
    "    def __call__(self, problem: ioh.ProblemClass.GRAPH) -> None:\n",
    "\n",
    "        def constraint1(s):\n",
    "            nb1 = np.count_nonzero(s[0])\n",
    "            if nb1 >= 2*self.b: return -100000 # -INFINI\n",
    "            return s[1]\n",
    "        \n",
    "        def constraint2(s):\n",
    "            return -np.count_nonzero(s[0])\n",
    "        \n",
    "        def leq(x,y): # <=\n",
    "            if constraint1(x) <= constraint1(y):\n",
    "                if constraint2(x) <= constraint2(y):\n",
    "                    return True\n",
    "                    \n",
    "        def lt(x,y):  # <\n",
    "            if constraint1(x) < constraint1(y):\n",
    "                if constraint2(x) <= constraint2(y):\n",
    "                    return True\n",
    "            if constraint1(x) <= constraint1(y):\n",
    "                if constraint2(x) < constraint2(y):\n",
    "                    return True\n",
    "        \n",
    "        def bitwise_mutation(s):\n",
    "            x = s[0].copy()\n",
    "\n",
    "            for i in range(problem.meta_data.n_variables):\n",
    "                flip = 1 if random.random() < self.pflip else 0\n",
    "                if flip:\n",
    "                    if x[i]: x[i] = 0\n",
    "                    else: x[i] = 1\n",
    "            \n",
    "            return (x,problem(x))\n",
    "        \n",
    "        s0 = np.zeros(problem.meta_data.n_variables).astype(int)\n",
    "        s = (s0,problem(s0))\n",
    "        P = [(s[0].copy(), s[1])]\n",
    "        for t in range(self.n):\n",
    "            if not t%100:\n",
    "                print(\"Iteration : \", t)\n",
    "            s = P[np.random.randint(len(P))] #Select a solution from P uar            \n",
    "            ns = bitwise_mutation(s)\n",
    "            \n",
    "            better_than_ns = [z for z in P if self.I(z[0])==self.I(ns[0]) and lt(ns,z)]\n",
    "\n",
    "            if not better_than_ns :\n",
    "                Q = [z for z in P if self.I(z)==self.I(ns) and leq(z,ns)]\n",
    "                P = [z for z in P if not any(np.array_equal(z, q) for q in Q)]\n",
    "                P.append((ns[0].copy(),ns[1]))"
   ]
  },
  {
   "cell_type": "code",
   "execution_count": 15,
   "id": "712e5d88-c96d-409a-a3f7-f6a3cd57e06d",
   "metadata": {},
   "outputs": [
    {
     "name": "stdout",
     "output_type": "stream",
     "text": [
      "Iteration :  0\n",
      "Iteration :  100\n"
     ]
    },
    {
     "name": "stderr",
     "output_type": "stream",
     "text": [
      "/home/buzetq/.local/lib/python3.8/site-packages/numpy/core/numeric.py:2457: VisibleDeprecationWarning: Creating an ndarray from ragged nested sequences (which is a list-or-tuple of lists-or-tuples-or ndarrays with different lengths or shapes) is deprecated. If you meant to do this, you must specify 'dtype=object' when creating the ndarray.\n",
      "  a1, a2 = asarray(a1), asarray(a2)\n"
     ]
    },
    {
     "name": "stdout",
     "output_type": "stream",
     "text": [
      "Iteration :  200\n",
      "Iteration :  300\n",
      "Iteration :  400\n",
      "Iteration :  500\n",
      "Iteration :  600\n",
      "Iteration :  700\n",
      "Iteration :  800\n",
      "Iteration :  900\n"
     ]
    }
   ],
   "source": [
    "import math\n",
    "max_coverage.reset()\n",
    "dim_pb = max_coverage.meta_data.n_variables\n",
    "poss = POSS(1000, 1/dim_pb, 10, lambda x: np.count_nonzero(x[0]))\n",
    "poss(max_coverage)"
   ]
  },
  {
   "cell_type": "code",
   "execution_count": 16,
   "id": "c877b793-601a-48bc-a058-94cf5893297e",
   "metadata": {},
   "outputs": [
    {
     "data": {
      "text/plain": [
       "<State evaluations: 1001 optimum_found: false current_best: <Solution x: [0, 0, 0, 0, 0, 0, 0, 0, 0, 0, 0, 0, 0, 0, 0, 0, 0, 0, 0, 0, 1, 0, 0, 0, 0, 0, 0, 0, 0, 0, 0, 0, 0, 0, 0, 0, 0, 0, 0, 0, 0, 0, 0, 0, 0, 0, 0, 0, 0, 0, 0, 0, 0, 0, 0, 0, 0, 0, 0, 0, 0, 0, 0, 0, 0, 0, 0, 0, 0, 0, 0, 0, 0, 0, 0, 0, 0, 0, 0, 0, 0, 0, 0, 0, 0, 0, 0, 0, 0, 0, 0, 0, 0, 0, 0, 0, 0, 0, 0, 0, 0, 0, 0, 0, 0, 0, 0, 0, 0, 0, 0, 0, 0, 0, 0, 0, 0, 0, 0, 1, 0, 0, 0, 0, 0, 0, 0, 0, 0, 0, 0, 0, 0, 0, 0, 0, 0, 0, 0, 0, 0, 0, 0, 0, 0, 0, 0, 0, 0, 0, 0, 0, 0, 0, 0, 0, 0, 0, 0, 0, 0, 0, 0, 0, 0, 0, 0, 0, 0, 0, 0, 0, 0, 0, 0, 0, 0, 0, 0, 0, 0, 0, 0, 0, 0, 0, 0, 0, 0, 0, 0, 0, 0, 0, 0, 0, 0, 0, 0, 0, 0, 0, 0, 0, 0, 0, 0, 0, 0, 0, 0, 0, 0, 1, 0, 0, 0, 0, 0, 0, 0, 0, 0, 0, 0, 1, 0, 0, 0, 0, 0, 0, 0, 0, 0, 0, 0, 0, 0, 0, 0, 0, 0, 0, 0, 0, 0, 0, 0, 0, 0, 0, 0, 0, 0, 0, 0, 0, 0, 0, 0, 0, 0, 0, 0, 0, 0, 0, 0, 0, 0, 0, 0, 0, 1, 0, 0, 0, 0, 0, 0, 0, 0, 0, 0, 0, 0, 0, 0, 0, 0, 0, 1, 0, 0, 0, 0, 0, 0, 0, 0, 0, 0, 0, 0, 0, 0, 0, 0, 0, 0, 0, 0, 0, 0, 0, 0, 0, 0, 0, 0, 0, 0, 0, 0, 0, 0, 0, 0, 0, 0, 0, 0, 0, 0, 0, 0, 0, 0, 0, 0, 0, 0, 0, 0, 0, 0, 0, 0, 0, 0, 0, 0, 0, 0, 0, 1, 0, 0, 0, 0, 0, 0, 0, 0, 0, 0, 0, 0, 0, 0, 0, 0, 0, 0, 0, 0, 0, 0, 0, 0, 0, 0, 0, 0, 0, 0, 0, 0, 0, 0, 0, 0, 1, 0, 0, 0, 0, 0, 0, 0, 0, 1, 0, 0, 0, 0, 0, 0, 0, 0, 0, 0, 0, 0, 0, 0, 0, 0, 0, 0, 0, 0, 0, 0, 0, 0, 0, 0, 0, 0, 1, 0, 0, 0, 0, 0, 0, 0, 0, 0, 0, 0, 0, 0, 0, 0, 0, 0, 0] y: 407>>"
      ]
     },
     "execution_count": 16,
     "metadata": {},
     "output_type": "execute_result"
    }
   ],
   "source": [
    "max_coverage.state"
   ]
  },
  {
   "cell_type": "markdown",
   "id": "fd1d63f7-8bcc-4626-b1ff-d9f39a95937a",
   "metadata": {},
   "source": [
    "Tester budget max et diminuer "
   ]
  },
  {
   "cell_type": "markdown",
   "id": "0f603280-d484-4a4d-ac01-6f59fa3621f4",
   "metadata": {},
   "source": [
    "# UMDA"
   ]
  },
  {
   "cell_type": "code",
   "execution_count": 88,
   "id": "5d8f129c-1190-4570-acc1-dfed4e1733dd",
   "metadata": {},
   "outputs": [],
   "source": [
    "class UMDA:\n",
    "    \n",
    "    def __init__(self, n: int, s: int):\n",
    "        self.n: int = n\n",
    "        self.s: int = s #population size\n",
    "    \n",
    "    def __call__(self, problem: ioh.ProblemClass.GRAPH) -> None:\n",
    "        dim = problem.meta_data.n_variables\n",
    "        \n",
    "        def sample(p):\n",
    "            x = np.zeros(dim,int)\n",
    "            for j in range(dim):\n",
    "                x[j] = 1 if random.random() < p[j] else 0\n",
    "            y = problem(x)\n",
    "            return (x,y)\n",
    "\n",
    "        #Initialization\n",
    "        z = []\n",
    "        for i in range(self.s):\n",
    "            x = np.random.randint(0,2,dim)\n",
    "            y = problem(x)\n",
    "            z.append((x,y))\n",
    "        z.sort(key=lambda x: x[1])\n",
    "        P = np.array(z[:self.s//2])\n",
    "\n",
    "        #Optimization\n",
    "        p = np.zeros(dim)\n",
    "        for t in range(1,self.n):\n",
    "            for j in range(dim):\n",
    "                count = 0\n",
    "                for k in range(self.s//2):\n",
    "                    if P[k,0][j] == 1: count +=1\n",
    "                \n",
    "                p[j] = 2*count/self.s\n",
    "                if p[j] < 1/dim: p[j] = 1/dim\n",
    "                if p[j] > 1 - 1/dim: p[j] = 1 - 1/dim\n",
    "\n",
    "            for i in range(self.s):\n",
    "                z[i] = sample(p)\n",
    "            z.sort(key=lambda x: x[1])\n",
    "            P = np.array(z[:self.s//2])\n",
    "\n",
    "        print(P)"
   ]
  },
  {
   "cell_type": "code",
   "execution_count": 89,
   "id": "cacd0ceb-e092-4793-8337-258e8b49c8e9",
   "metadata": {},
   "outputs": [
    {
     "name": "stdout",
     "output_type": "stream",
     "text": [
      "[[array([1, 0, 1, 0, 0, 0, 0, 1, 0, 0, 1, 0, 0, 0, 1, 0, 0, 1, 1, 0, 1, 0,\n",
      "         0, 1, 0, 0, 0, 0, 1, 0, 0, 1, 0, 1, 1, 0, 1, 1, 1, 0, 1, 0, 0, 1,\n",
      "         1, 0, 1, 1, 1, 0, 1, 1, 0, 1, 0, 1, 0, 0, 1, 1, 0, 1, 0, 1, 1, 0,\n",
      "         0, 0, 1, 0, 1, 1, 0, 1, 0, 0, 1, 0, 1, 0, 1, 0, 1, 1, 0, 0, 1, 1,\n",
      "         1, 0, 0, 1, 0, 0, 0, 0, 0, 0, 0, 0, 0, 1, 1, 1, 1, 0, 0, 0, 1, 1,\n",
      "         0, 1, 0, 0, 1, 0, 1, 1, 1, 0, 1, 1, 0, 1, 0, 1, 0, 0, 1, 1, 0, 0,\n",
      "         0, 0, 0, 1, 1, 0, 1, 0, 0, 1, 0, 0, 1, 0, 1, 0, 1, 1, 0, 1, 1, 0,\n",
      "         1, 1, 1, 1, 0, 0, 1, 0, 1, 0, 0, 1, 0, 0, 1, 0, 0, 0, 0, 0, 0, 1,\n",
      "         1, 1, 0, 1, 1, 1, 0, 0, 1, 1, 0, 0, 1, 1, 1, 1, 0, 1, 0, 0, 0, 1,\n",
      "         1, 1, 0, 0, 0, 1, 1, 0, 0, 1, 0, 0, 0, 0, 0, 1, 0, 0, 1, 1, 1, 0,\n",
      "         0, 0, 0, 1, 0, 0, 0, 0, 1, 0, 1, 1, 0, 0, 0, 0, 0, 1, 1, 1, 0, 1,\n",
      "         1, 0, 1, 1, 0, 1, 1, 1, 0, 0, 0, 1, 0, 0, 0, 0, 0, 0, 0, 1, 0, 0,\n",
      "         1, 1, 1, 0, 0, 1, 0, 0, 0, 0, 1, 0, 0, 1, 0, 0, 0, 0, 1, 1, 0, 1,\n",
      "         0, 1, 0, 0, 1, 1, 1, 1, 1, 0, 0, 0, 1, 0, 0, 1, 0, 1, 0, 0, 1, 0,\n",
      "         1, 1, 1, 0, 0, 0, 0, 1, 1, 1, 1, 0, 0, 1, 1, 0, 0, 1, 0, 1, 1, 0,\n",
      "         0, 1, 0, 0, 1, 0, 1, 0, 1, 1, 1, 0, 1, 1, 1, 0, 1, 0, 0, 1, 0, 1,\n",
      "         1, 0, 1, 0, 0, 0, 1, 1, 0, 0, 1, 0, 0, 1, 0, 1, 0, 1, 1, 1, 0, 1,\n",
      "         0, 0, 1, 1, 1, 0, 0, 1, 1, 0, 1, 0, 1, 0, 0, 0, 1, 0, 0, 0, 0, 0,\n",
      "         1, 0, 0, 1, 1, 1, 1, 0, 1, 0, 0, 1, 0, 0, 0, 1, 0, 1, 1, 0, 1, 1,\n",
      "         1, 0, 1, 1, 0, 1, 1, 0, 1, 0, 1, 1, 1, 1, 0, 1, 1, 0, 1, 0, 0, 0,\n",
      "         1, 1, 0, 0, 1, 1, 0, 0, 0, 1, 1, 1, 0, 0, 0, 1, 1, 1, 1, 1, 1, 0,\n",
      "         0, 1, 0, 1, 1, 1, 1, 1, 0, 0, 0, 1, 1, 0, 0, 0, 0, 1, 1, 0, 0, 0,\n",
      "         0, 1, 0, 1, 1, 1, 0, 1, 0, 0, 1, 1, 1, 0, 0, 1, 1, 0, 1, 0, 0, 1,\n",
      "         1, 1, 0, 0, 1, 1, 0, 0, 0, 0, 1, 0, 0, 1, 1, 1, 0, 1, 0, 0, 1, 1,\n",
      "         0, 0, 1, 1, 0, 0, 1, 0, 0, 1, 0, 0, 0, 0, 0, 0, 1, 0, 0, 0, 0, 1,\n",
      "         0, 0, 0, 1, 0, 1, 1, 0, 1, 0, 1, 0, 1, 1, 1, 1, 0, 1, 1, 1, 1, 0,\n",
      "         0, 0, 0, 0, 0, 1, 0, 0, 1, 1, 0, 1, 1, 1, 0, 0, 0, 1, 0, 1, 1, 1,\n",
      "         0, 0, 1, 1, 0, 0, 1, 0, 1, 1, 0, 0, 1, 0, 1, 1, 0, 1, 1, 0, 0, 1,\n",
      "         0, 0, 0, 0, 1, 1, 0, 0, 1, 0, 1, 0, 0, 1, 1, 1, 0, 0, 1, 0, 1, 1,\n",
      "         1, 1, 1, 0, 1, 1, 1, 1, 0, 0, 0, 1, 0, 0, 1, 1, 0, 1, 0, 1, 1, 1,\n",
      "         0, 0, 1, 0, 1, 0, 0, 1, 1, 0, 0, 1, 0, 0, 0, 1, 0, 1, 0, 0, 0, 0,\n",
      "         0, 0, 0, 0, 1, 0, 1, 1, 0, 0, 0, 1, 0, 0, 0, 1, 0, 1, 1, 1, 1, 0,\n",
      "         0, 1, 1, 0, 0, 0, 0, 1, 0, 0, 1, 1, 0, 0, 0, 0, 1, 1, 1, 1, 1, 0,\n",
      "         1, 1, 1, 1, 0, 1, 1, 0, 1, 1, 0, 1, 0, 1, 0, 0, 0, 0, 1, 0, 1, 0,\n",
      "         1, 0, 0, 1, 0, 1, 1, 1, 0, 1, 1, 1, 0, 1, 0, 0, 0, 0, 0, 0, 1, 0,\n",
      "         0, 1, 1, 0, 0, 1, 0, 0, 0, 1, 1, 0, 0, 0, 0, 1, 0, 0, 0, 0, 1, 0,\n",
      "         0, 1, 1, 1, 0, 1, 1, 1])\n",
      "  9218.0]\n",
      " [array([1, 0, 0, 0, 0, 0, 0, 1, 0, 0, 0, 0, 0, 0, 1, 0, 0, 1, 1, 0, 1, 0,\n",
      "         0, 1, 0, 1, 0, 0, 1, 0, 0, 1, 0, 1, 1, 0, 1, 1, 1, 0, 1, 0, 0, 1,\n",
      "         1, 0, 1, 1, 1, 0, 1, 1, 0, 1, 0, 0, 0, 0, 1, 1, 0, 1, 0, 1, 1, 0,\n",
      "         0, 0, 1, 0, 0, 1, 0, 1, 0, 0, 0, 0, 1, 0, 1, 0, 1, 1, 0, 0, 1, 1,\n",
      "         1, 0, 0, 1, 0, 0, 0, 0, 0, 0, 0, 1, 0, 1, 1, 1, 1, 0, 0, 0, 1, 1,\n",
      "         0, 1, 0, 0, 1, 0, 0, 1, 1, 0, 1, 0, 0, 1, 0, 1, 0, 1, 1, 1, 1, 0,\n",
      "         0, 0, 0, 1, 1, 0, 1, 0, 1, 1, 0, 0, 1, 0, 1, 0, 1, 0, 0, 1, 1, 0,\n",
      "         1, 1, 0, 1, 0, 0, 1, 0, 1, 0, 0, 1, 0, 0, 1, 0, 0, 0, 0, 0, 0, 1,\n",
      "         1, 0, 0, 1, 1, 1, 0, 0, 1, 1, 0, 0, 1, 1, 1, 0, 0, 1, 0, 0, 0, 1,\n",
      "         1, 1, 0, 0, 1, 1, 1, 0, 0, 0, 0, 0, 0, 0, 0, 1, 1, 0, 1, 1, 1, 0,\n",
      "         0, 0, 0, 1, 0, 1, 0, 0, 1, 0, 1, 1, 0, 0, 0, 0, 0, 1, 1, 0, 0, 1,\n",
      "         0, 0, 1, 1, 0, 1, 1, 0, 0, 0, 0, 1, 0, 1, 0, 0, 0, 1, 0, 1, 0, 1,\n",
      "         1, 1, 1, 0, 0, 0, 0, 0, 0, 0, 1, 0, 0, 1, 0, 0, 0, 0, 1, 1, 0, 1,\n",
      "         0, 1, 0, 0, 1, 1, 1, 1, 1, 0, 0, 0, 1, 0, 0, 1, 0, 1, 0, 0, 1, 0,\n",
      "         1, 1, 1, 0, 1, 0, 0, 1, 1, 1, 1, 0, 0, 1, 1, 0, 0, 1, 0, 0, 1, 0,\n",
      "         0, 1, 0, 0, 1, 0, 1, 0, 1, 1, 1, 0, 0, 1, 1, 0, 1, 0, 0, 1, 0, 1,\n",
      "         1, 0, 1, 0, 0, 0, 1, 1, 0, 0, 1, 1, 0, 1, 0, 1, 1, 1, 1, 1, 0, 1,\n",
      "         0, 1, 1, 1, 1, 0, 0, 1, 1, 0, 1, 0, 1, 0, 0, 1, 1, 0, 0, 0, 0, 0,\n",
      "         1, 0, 0, 1, 1, 1, 1, 0, 1, 0, 0, 1, 0, 0, 0, 1, 0, 1, 1, 1, 1, 1,\n",
      "         1, 0, 1, 0, 0, 1, 1, 0, 1, 0, 1, 1, 1, 1, 0, 1, 1, 0, 1, 0, 0, 0,\n",
      "         1, 1, 0, 0, 1, 1, 0, 0, 0, 1, 1, 1, 0, 0, 0, 1, 1, 1, 1, 1, 1, 0,\n",
      "         0, 1, 0, 1, 1, 1, 1, 1, 0, 0, 0, 0, 1, 0, 0, 0, 0, 1, 1, 0, 0, 0,\n",
      "         0, 1, 0, 1, 1, 1, 0, 0, 0, 0, 1, 0, 1, 0, 0, 1, 1, 0, 1, 0, 1, 1,\n",
      "         1, 1, 0, 0, 1, 1, 1, 0, 0, 0, 1, 0, 0, 1, 1, 1, 0, 1, 0, 0, 1, 1,\n",
      "         0, 0, 1, 1, 1, 0, 1, 0, 0, 1, 0, 0, 0, 0, 0, 0, 0, 0, 0, 0, 0, 1,\n",
      "         0, 1, 0, 1, 0, 1, 1, 0, 1, 0, 1, 0, 1, 1, 1, 1, 0, 0, 1, 1, 1, 0,\n",
      "         0, 0, 0, 0, 0, 1, 0, 0, 1, 1, 0, 1, 1, 1, 0, 0, 0, 1, 0, 1, 1, 1,\n",
      "         0, 0, 1, 0, 0, 0, 1, 0, 1, 1, 0, 0, 1, 0, 1, 1, 0, 1, 0, 0, 1, 1,\n",
      "         0, 0, 0, 1, 1, 0, 0, 0, 1, 0, 1, 1, 1, 0, 1, 1, 1, 0, 1, 0, 1, 1,\n",
      "         1, 1, 1, 0, 1, 1, 1, 0, 0, 0, 0, 1, 0, 0, 1, 1, 0, 1, 0, 1, 1, 1,\n",
      "         0, 0, 1, 0, 1, 0, 0, 1, 1, 0, 0, 1, 0, 0, 0, 1, 0, 1, 0, 0, 0, 0,\n",
      "         0, 0, 0, 0, 1, 0, 1, 1, 1, 0, 0, 1, 0, 0, 0, 1, 1, 1, 1, 1, 0, 0,\n",
      "         0, 1, 1, 0, 0, 0, 0, 1, 0, 0, 1, 1, 0, 0, 0, 0, 0, 1, 1, 1, 1, 0,\n",
      "         1, 1, 0, 1, 0, 1, 1, 0, 1, 1, 0, 1, 0, 1, 0, 0, 0, 0, 1, 0, 1, 0,\n",
      "         1, 1, 0, 1, 0, 1, 0, 1, 0, 1, 1, 1, 0, 1, 0, 0, 0, 0, 0, 0, 1, 0,\n",
      "         0, 1, 1, 0, 0, 1, 0, 0, 1, 1, 1, 0, 0, 0, 0, 1, 0, 0, 0, 0, 1, 1,\n",
      "         0, 1, 1, 1, 0, 1, 0, 1])\n",
      "  9223.0]\n",
      " [array([1, 0, 1, 1, 0, 0, 0, 1, 0, 0, 0, 0, 0, 0, 1, 0, 0, 1, 1, 0, 1, 0,\n",
      "         0, 1, 0, 0, 0, 0, 1, 0, 0, 1, 0, 1, 1, 0, 1, 1, 1, 0, 1, 0, 0, 1,\n",
      "         1, 1, 1, 1, 1, 0, 1, 1, 0, 1, 0, 1, 0, 0, 1, 1, 0, 1, 0, 1, 1, 0,\n",
      "         0, 0, 1, 1, 0, 1, 0, 1, 0, 0, 0, 0, 1, 0, 1, 0, 1, 1, 0, 0, 1, 1,\n",
      "         1, 0, 0, 1, 0, 0, 0, 0, 0, 0, 0, 0, 0, 1, 1, 1, 1, 0, 0, 0, 1, 1,\n",
      "         0, 1, 0, 0, 1, 0, 0, 1, 1, 0, 1, 1, 0, 1, 0, 1, 0, 0, 1, 1, 0, 0,\n",
      "         0, 0, 0, 1, 1, 0, 1, 0, 0, 1, 0, 0, 1, 0, 1, 0, 1, 0, 0, 1, 1, 0,\n",
      "         1, 1, 1, 1, 0, 0, 1, 0, 1, 0, 0, 1, 0, 0, 1, 0, 0, 0, 0, 0, 0, 1,\n",
      "         1, 1, 0, 1, 1, 1, 0, 0, 1, 1, 0, 0, 1, 1, 1, 0, 0, 1, 0, 0, 0, 0,\n",
      "         1, 0, 0, 0, 1, 1, 1, 0, 0, 1, 0, 0, 0, 0, 0, 1, 0, 0, 1, 1, 1, 0,\n",
      "         0, 0, 0, 1, 0, 0, 1, 0, 1, 0, 1, 1, 0, 0, 0, 0, 0, 1, 1, 1, 0, 1,\n",
      "         1, 0, 1, 1, 1, 1, 1, 1, 0, 0, 0, 1, 0, 0, 0, 0, 0, 0, 0, 1, 0, 1,\n",
      "         1, 1, 1, 0, 0, 1, 0, 0, 0, 0, 1, 0, 1, 1, 0, 0, 0, 0, 1, 1, 0, 1,\n",
      "         0, 1, 0, 0, 1, 1, 1, 1, 1, 0, 0, 0, 1, 0, 0, 0, 0, 1, 0, 0, 1, 0,\n",
      "         1, 1, 1, 0, 1, 0, 0, 1, 1, 1, 1, 0, 0, 1, 1, 0, 0, 0, 0, 0, 1, 0,\n",
      "         0, 1, 0, 0, 1, 0, 1, 0, 1, 1, 1, 0, 0, 1, 1, 1, 1, 0, 0, 1, 0, 1,\n",
      "         1, 0, 1, 0, 0, 0, 1, 1, 1, 0, 1, 1, 0, 0, 0, 1, 0, 1, 1, 1, 0, 1,\n",
      "         0, 0, 1, 1, 1, 0, 0, 1, 1, 0, 1, 0, 1, 0, 0, 1, 1, 0, 0, 0, 0, 0,\n",
      "         1, 0, 0, 1, 1, 1, 1, 0, 1, 0, 0, 1, 0, 0, 0, 1, 0, 1, 1, 1, 1, 1,\n",
      "         1, 0, 1, 1, 0, 1, 1, 0, 1, 0, 1, 1, 1, 1, 0, 1, 1, 0, 1, 0, 0, 0,\n",
      "         1, 1, 0, 0, 1, 1, 0, 1, 0, 1, 1, 1, 0, 1, 0, 1, 1, 1, 1, 1, 1, 0,\n",
      "         0, 1, 0, 1, 1, 0, 1, 1, 0, 0, 0, 0, 1, 0, 0, 0, 0, 1, 1, 0, 0, 0,\n",
      "         0, 1, 0, 1, 1, 1, 0, 1, 0, 1, 1, 1, 1, 0, 0, 1, 1, 0, 1, 0, 0, 1,\n",
      "         1, 1, 0, 0, 1, 1, 1, 0, 0, 0, 1, 0, 0, 1, 1, 1, 0, 1, 0, 0, 1, 1,\n",
      "         0, 0, 1, 1, 1, 0, 1, 0, 0, 1, 0, 0, 0, 0, 0, 0, 1, 0, 0, 0, 0, 1,\n",
      "         0, 1, 0, 1, 0, 1, 1, 0, 1, 0, 0, 0, 1, 1, 1, 1, 0, 1, 1, 1, 1, 0,\n",
      "         0, 0, 0, 0, 0, 1, 0, 0, 1, 1, 0, 1, 1, 1, 0, 0, 0, 1, 0, 1, 1, 1,\n",
      "         0, 0, 1, 0, 0, 0, 1, 0, 1, 1, 0, 0, 1, 0, 1, 1, 0, 1, 1, 0, 1, 1,\n",
      "         0, 0, 0, 1, 1, 0, 0, 0, 1, 0, 1, 1, 0, 0, 1, 1, 1, 0, 1, 0, 1, 0,\n",
      "         1, 1, 1, 0, 1, 1, 1, 0, 0, 0, 0, 1, 0, 1, 1, 1, 0, 1, 0, 1, 1, 1,\n",
      "         0, 0, 1, 1, 1, 0, 0, 1, 1, 0, 0, 1, 0, 0, 1, 1, 0, 1, 0, 0, 0, 0,\n",
      "         0, 0, 0, 0, 1, 0, 1, 0, 1, 0, 0, 1, 0, 0, 0, 1, 1, 1, 1, 1, 0, 0,\n",
      "         0, 1, 1, 0, 0, 0, 0, 1, 0, 0, 1, 1, 0, 0, 0, 0, 0, 1, 1, 1, 1, 0,\n",
      "         1, 1, 1, 1, 0, 1, 1, 0, 1, 1, 1, 1, 0, 1, 0, 0, 0, 0, 1, 0, 1, 0,\n",
      "         1, 0, 0, 1, 0, 1, 0, 1, 0, 1, 1, 1, 0, 1, 0, 0, 0, 0, 0, 0, 1, 0,\n",
      "         0, 1, 1, 0, 0, 1, 0, 0, 0, 1, 1, 0, 0, 0, 0, 0, 0, 0, 0, 0, 1, 1,\n",
      "         0, 1, 1, 1, 0, 1, 1, 1])\n",
      "  9241.0]\n",
      " [array([1, 0, 0, 0, 0, 0, 0, 1, 0, 0, 1, 0, 0, 0, 1, 0, 0, 1, 1, 0, 1, 0,\n",
      "         0, 1, 0, 0, 0, 0, 1, 0, 0, 1, 0, 1, 1, 0, 1, 1, 1, 0, 1, 0, 0, 1,\n",
      "         1, 1, 1, 1, 1, 0, 1, 1, 0, 1, 0, 0, 0, 0, 1, 1, 0, 1, 0, 1, 1, 0,\n",
      "         0, 0, 1, 0, 1, 1, 0, 1, 0, 0, 1, 0, 1, 0, 1, 0, 1, 1, 0, 0, 1, 1,\n",
      "         0, 0, 0, 1, 0, 0, 0, 0, 0, 0, 0, 0, 0, 1, 1, 1, 1, 0, 0, 0, 1, 1,\n",
      "         0, 1, 0, 0, 1, 1, 0, 1, 1, 0, 1, 0, 0, 1, 0, 1, 0, 1, 1, 1, 0, 0,\n",
      "         0, 0, 0, 1, 1, 0, 1, 0, 1, 1, 0, 0, 1, 0, 1, 0, 1, 0, 0, 1, 1, 0,\n",
      "         1, 1, 0, 1, 0, 0, 1, 0, 1, 0, 0, 1, 0, 0, 1, 0, 0, 0, 0, 0, 0, 1,\n",
      "         1, 1, 0, 1, 1, 1, 0, 0, 1, 1, 0, 0, 1, 1, 1, 1, 0, 1, 0, 0, 0, 0,\n",
      "         1, 0, 0, 0, 0, 1, 1, 0, 0, 1, 0, 0, 0, 0, 0, 1, 1, 0, 1, 1, 1, 0,\n",
      "         0, 0, 0, 1, 0, 0, 1, 0, 1, 0, 1, 1, 0, 0, 0, 0, 0, 1, 1, 1, 0, 1,\n",
      "         1, 0, 1, 1, 0, 1, 1, 0, 0, 0, 0, 1, 0, 0, 0, 0, 0, 0, 0, 1, 0, 1,\n",
      "         1, 1, 1, 0, 1, 1, 0, 1, 0, 0, 1, 0, 0, 1, 0, 0, 0, 0, 1, 1, 0, 1,\n",
      "         0, 1, 0, 0, 1, 1, 1, 1, 1, 0, 1, 0, 1, 0, 0, 0, 0, 1, 0, 0, 1, 0,\n",
      "         1, 1, 1, 0, 1, 0, 0, 1, 1, 1, 1, 0, 0, 1, 1, 0, 0, 0, 0, 0, 1, 0,\n",
      "         0, 1, 0, 0, 1, 0, 1, 0, 1, 1, 1, 0, 0, 1, 1, 0, 1, 0, 0, 1, 0, 1,\n",
      "         1, 0, 1, 0, 0, 0, 1, 1, 0, 0, 1, 0, 0, 0, 0, 1, 1, 1, 1, 1, 0, 1,\n",
      "         0, 0, 1, 1, 1, 0, 0, 0, 1, 0, 1, 0, 1, 0, 0, 1, 1, 0, 0, 0, 0, 0,\n",
      "         1, 1, 0, 1, 1, 1, 1, 0, 1, 0, 0, 1, 0, 0, 0, 1, 0, 1, 1, 0, 1, 1,\n",
      "         1, 0, 1, 1, 0, 1, 1, 0, 1, 0, 1, 1, 1, 1, 0, 1, 1, 0, 1, 0, 0, 0,\n",
      "         0, 0, 0, 0, 1, 1, 0, 0, 0, 1, 1, 1, 0, 1, 0, 1, 1, 1, 1, 1, 1, 0,\n",
      "         0, 1, 0, 1, 0, 0, 1, 1, 0, 0, 0, 0, 1, 0, 0, 1, 0, 1, 1, 0, 0, 0,\n",
      "         0, 1, 0, 1, 1, 1, 0, 0, 0, 0, 1, 0, 1, 0, 0, 1, 1, 0, 1, 0, 1, 1,\n",
      "         1, 1, 0, 0, 1, 1, 1, 0, 0, 0, 1, 0, 0, 1, 1, 1, 0, 1, 0, 0, 1, 1,\n",
      "         0, 0, 1, 1, 0, 0, 1, 0, 0, 1, 0, 0, 0, 0, 0, 0, 1, 0, 0, 0, 0, 1,\n",
      "         0, 0, 0, 1, 0, 1, 1, 0, 1, 0, 0, 0, 1, 1, 1, 1, 0, 0, 1, 1, 1, 0,\n",
      "         0, 0, 0, 0, 0, 1, 0, 0, 1, 1, 0, 1, 1, 1, 0, 0, 0, 1, 0, 1, 1, 1,\n",
      "         0, 0, 1, 0, 0, 0, 1, 0, 0, 1, 0, 0, 1, 0, 1, 1, 0, 1, 0, 0, 1, 1,\n",
      "         0, 0, 0, 1, 1, 1, 0, 0, 1, 0, 1, 0, 0, 1, 1, 1, 0, 0, 1, 0, 1, 1,\n",
      "         1, 1, 1, 0, 1, 1, 1, 0, 0, 0, 0, 1, 0, 0, 1, 1, 0, 1, 0, 1, 1, 1,\n",
      "         0, 0, 1, 0, 1, 0, 0, 1, 0, 0, 0, 1, 0, 0, 1, 1, 0, 1, 0, 0, 0, 0,\n",
      "         0, 0, 0, 0, 1, 0, 1, 1, 1, 0, 0, 1, 0, 0, 0, 1, 0, 1, 1, 1, 0, 0,\n",
      "         0, 1, 1, 0, 0, 0, 0, 0, 0, 0, 1, 1, 0, 0, 0, 0, 1, 1, 1, 1, 1, 0,\n",
      "         1, 1, 0, 1, 0, 1, 1, 0, 1, 1, 0, 1, 0, 1, 0, 0, 1, 0, 1, 0, 1, 0,\n",
      "         1, 1, 0, 1, 1, 1, 0, 1, 0, 1, 1, 1, 0, 1, 0, 0, 0, 0, 0, 0, 1, 0,\n",
      "         0, 1, 1, 0, 0, 1, 0, 0, 0, 1, 1, 0, 0, 0, 0, 0, 0, 0, 0, 0, 0, 0,\n",
      "         0, 1, 1, 1, 0, 1, 1, 1])\n",
      "  9242.0]\n",
      " [array([1, 0, 1, 1, 0, 0, 0, 1, 0, 0, 1, 0, 0, 0, 1, 0, 0, 1, 1, 0, 1, 0,\n",
      "         0, 1, 0, 0, 0, 0, 1, 0, 0, 1, 0, 1, 1, 0, 1, 1, 1, 0, 1, 0, 0, 1,\n",
      "         1, 0, 1, 1, 1, 0, 1, 1, 0, 1, 0, 1, 0, 0, 1, 1, 0, 1, 0, 1, 1, 0,\n",
      "         0, 0, 1, 1, 0, 1, 0, 1, 0, 0, 1, 0, 1, 0, 1, 0, 1, 1, 0, 0, 1, 1,\n",
      "         0, 0, 0, 1, 0, 0, 0, 0, 0, 0, 0, 0, 0, 1, 1, 1, 1, 0, 0, 0, 1, 1,\n",
      "         0, 1, 0, 0, 1, 0, 0, 1, 1, 0, 1, 0, 0, 1, 0, 1, 0, 0, 1, 1, 0, 0,\n",
      "         0, 0, 0, 1, 1, 0, 1, 0, 0, 1, 0, 0, 1, 0, 1, 0, 1, 1, 0, 1, 1, 0,\n",
      "         1, 1, 0, 1, 0, 0, 1, 0, 1, 0, 0, 1, 0, 0, 1, 0, 0, 0, 0, 0, 0, 1,\n",
      "         1, 1, 0, 1, 1, 1, 0, 0, 1, 1, 0, 0, 1, 1, 1, 0, 0, 1, 0, 0, 0, 1,\n",
      "         1, 0, 0, 0, 0, 1, 1, 0, 0, 0, 0, 0, 0, 0, 0, 1, 0, 0, 1, 1, 1, 0,\n",
      "         0, 0, 0, 1, 0, 0, 0, 0, 1, 0, 0, 1, 0, 0, 0, 0, 0, 1, 1, 1, 0, 1,\n",
      "         0, 0, 1, 1, 0, 1, 1, 0, 0, 0, 0, 1, 0, 0, 0, 0, 0, 1, 0, 1, 1, 0,\n",
      "         1, 1, 1, 0, 0, 1, 0, 0, 0, 0, 1, 0, 0, 1, 0, 0, 0, 0, 1, 1, 0, 1,\n",
      "         0, 1, 0, 0, 1, 1, 1, 1, 1, 0, 1, 0, 1, 0, 0, 0, 0, 1, 0, 0, 1, 0,\n",
      "         1, 1, 1, 0, 1, 0, 0, 1, 1, 1, 1, 0, 0, 1, 1, 0, 0, 1, 0, 0, 1, 0,\n",
      "         0, 1, 0, 0, 1, 0, 1, 0, 1, 1, 1, 0, 0, 1, 0, 1, 1, 0, 0, 1, 0, 1,\n",
      "         1, 0, 1, 0, 0, 0, 1, 1, 1, 0, 1, 1, 0, 1, 0, 1, 1, 1, 1, 1, 0, 1,\n",
      "         0, 0, 1, 1, 1, 0, 0, 1, 1, 0, 1, 0, 1, 0, 0, 1, 1, 0, 0, 0, 0, 0,\n",
      "         1, 1, 0, 1, 1, 1, 1, 0, 1, 0, 0, 1, 0, 0, 0, 1, 0, 1, 1, 1, 1, 1,\n",
      "         1, 0, 1, 1, 0, 1, 1, 0, 1, 0, 1, 1, 1, 1, 0, 1, 1, 0, 1, 0, 0, 0,\n",
      "         1, 0, 0, 0, 1, 1, 0, 0, 0, 1, 1, 1, 0, 1, 0, 1, 1, 1, 1, 1, 1, 0,\n",
      "         0, 1, 0, 1, 1, 0, 1, 1, 0, 0, 0, 0, 1, 0, 0, 0, 0, 1, 1, 0, 0, 0,\n",
      "         0, 1, 0, 1, 0, 1, 0, 1, 0, 1, 0, 1, 1, 0, 0, 1, 1, 0, 1, 0, 1, 1,\n",
      "         1, 1, 0, 0, 1, 1, 0, 0, 0, 0, 1, 0, 0, 1, 1, 1, 0, 0, 0, 0, 1, 1,\n",
      "         0, 0, 1, 1, 0, 0, 1, 0, 0, 1, 0, 0, 0, 0, 0, 0, 1, 0, 0, 0, 0, 1,\n",
      "         0, 0, 0, 1, 0, 1, 1, 0, 1, 0, 0, 0, 1, 1, 1, 1, 0, 0, 1, 1, 1, 0,\n",
      "         0, 0, 0, 0, 0, 1, 0, 0, 1, 1, 0, 1, 1, 1, 0, 0, 0, 1, 0, 1, 1, 1,\n",
      "         0, 0, 1, 0, 0, 0, 1, 0, 0, 1, 0, 0, 1, 0, 1, 1, 0, 1, 1, 0, 0, 1,\n",
      "         0, 0, 0, 1, 1, 1, 0, 0, 1, 0, 1, 1, 0, 1, 1, 1, 1, 0, 1, 0, 1, 0,\n",
      "         1, 1, 1, 0, 1, 1, 1, 0, 0, 0, 0, 1, 0, 1, 1, 1, 0, 1, 0, 1, 1, 1,\n",
      "         0, 0, 1, 0, 1, 0, 0, 1, 0, 0, 0, 1, 0, 0, 0, 1, 1, 1, 0, 0, 0, 0,\n",
      "         0, 0, 0, 0, 1, 0, 1, 1, 1, 0, 0, 1, 0, 0, 0, 1, 0, 1, 1, 1, 0, 0,\n",
      "         0, 1, 1, 0, 1, 0, 0, 1, 0, 0, 1, 1, 0, 0, 0, 0, 1, 1, 1, 1, 1, 0,\n",
      "         1, 1, 1, 1, 0, 1, 1, 0, 1, 1, 0, 1, 0, 1, 0, 0, 0, 0, 1, 0, 1, 0,\n",
      "         1, 1, 0, 1, 0, 1, 0, 1, 0, 1, 1, 1, 0, 1, 0, 0, 0, 0, 0, 0, 1, 0,\n",
      "         0, 1, 1, 0, 0, 1, 0, 0, 0, 1, 1, 0, 0, 0, 0, 1, 0, 0, 0, 0, 1, 0,\n",
      "         0, 1, 1, 1, 0, 1, 1, 1])\n",
      "  9265.0]]\n"
     ]
    },
    {
     "name": "stderr",
     "output_type": "stream",
     "text": [
      "/tmp/ipykernel_2678/2724024649.py:24: VisibleDeprecationWarning: Creating an ndarray from ragged nested sequences (which is a list-or-tuple of lists-or-tuples-or ndarrays with different lengths or shapes) is deprecated. If you meant to do this, you must specify 'dtype=object' when creating the ndarray.\n",
      "  P = np.array(z[:self.s//2])\n",
      "/tmp/ipykernel_2678/2724024649.py:41: VisibleDeprecationWarning: Creating an ndarray from ragged nested sequences (which is a list-or-tuple of lists-or-tuples-or ndarrays with different lengths or shapes) is deprecated. If you meant to do this, you must specify 'dtype=object' when creating the ndarray.\n",
      "  P = np.array(z[:self.s//2])\n"
     ]
    }
   ],
   "source": [
    "import math\n",
    "max_cut.reset()\n",
    "dim_pb = max_cut.meta_data.n_variables\n",
    "umda = UMDA(10, 10)\n",
    "umda(max_cut)"
   ]
  },
  {
   "cell_type": "code",
   "execution_count": 90,
   "id": "50c048aa-35f1-4116-ae1b-551fc064a45a",
   "metadata": {},
   "outputs": [
    {
     "data": {
      "text/plain": [
       "<State evaluations: 100 optimum_found: false current_best: <Solution x: [0, 0, 1, 1, 0, 0, 0, 1, 0, 1, 1, 0, 0, 0, 1, 1, 1, 1, 1, 0, 0, 0, 0, 1, 0, 0, 0, 0, 1, 1, 0, 1, 0, 1, 1, 0, 1, 1, 0, 0, 1, 1, 0, 0, 1, 0, 0, 1, 1, 1, 1, 1, 0, 0, 1, 1, 0, 0, 1, 1, 0, 0, 0, 0, 0, 0, 1, 0, 1, 0, 0, 1, 1, 0, 0, 0, 0, 0, 1, 0, 1, 0, 1, 1, 0, 0, 0, 1, 1, 1, 1, 1, 0, 0, 0, 0, 0, 1, 1, 1, 0, 0, 1, 1, 1, 0, 0, 0, 1, 0, 0, 1, 0, 0, 1, 1, 0, 0, 1, 0, 1, 0, 0, 1, 1, 1, 0, 0, 1, 1, 1, 0, 0, 0, 0, 1, 1, 1, 1, 1, 1, 1, 1, 0, 1, 0, 1, 1, 1, 0, 1, 1, 1, 0, 1, 1, 1, 0, 0, 0, 1, 0, 1, 0, 1, 1, 0, 0, 1, 1, 1, 1, 0, 0, 0, 1, 0, 0, 0, 1, 1, 1, 0, 1, 1, 1, 0, 0, 1, 0, 1, 1, 1, 1, 0, 1, 0, 1, 1, 1, 0, 0, 1, 0, 0, 0, 1, 0, 0, 0, 1, 0, 1, 0, 1, 0, 0, 1, 1, 0, 0, 0, 0, 1, 0, 0, 0, 1, 1, 1, 1, 1, 0, 0, 1, 1, 0, 1, 1, 1, 1, 1, 1, 0, 1, 1, 0, 1, 0, 0, 0, 1, 0, 1, 1, 0, 0, 1, 1, 0, 0, 1, 1, 1, 0, 1, 1, 0, 0, 0, 1, 0, 0, 0, 0, 0, 0, 0, 1, 0, 0, 0, 1, 1, 1, 1, 0, 0, 0, 0, 1, 1, 0, 1, 1, 1, 0, 1, 1, 0, 0, 1, 0, 0, 0, 0, 0, 1, 1, 1, 1, 1, 1, 1, 0, 0, 1, 0, 1, 0, 0, 0, 0, 1, 1, 1, 1, 0, 0, 0, 0, 0, 0, 0, 0, 0, 0, 0, 0, 1, 1, 1, 1, 1, 0, 1, 1, 0, 1, 0, 1, 0, 0, 0, 1, 0, 0, 0, 1, 1, 0, 0, 1, 0, 0, 0, 1, 0, 0, 1, 1, 1, 0, 1, 0, 0, 1, 0, 1, 0, 0, 1, 1, 0, 0, 0, 1, 0, 0, 1, 1, 0, 0, 0, 0, 0, 0, 1, 0, 0, 1, 1, 1, 0, 1, 0, 0, 1, 1, 0, 1, 1, 0, 1, 1, 0, 0, 0, 1, 1, 1, 1, 0, 1, 0, 1, 0, 0, 0, 0, 1, 0, 1, 1, 1, 1, 1, 0, 0, 1, 1, 0, 0, 1, 1, 0, 0, 0, 0, 1, 0, 1, 0, 0, 0, 1, 1, 1, 0, 0, 0, 0, 1, 1, 0, 0, 1, 1, 1, 1, 0, 0, 1, 1, 1, 0, 0, 0, 0, 0, 1, 0, 0, 0, 0, 1, 1, 0, 0, 1, 0, 1, 0, 1, 0, 1, 1, 1, 0, 1, 1, 0, 0, 0, 1, 1, 1, 1, 0, 1, 1, 1, 0, 1, 0, 0, 0, 1, 0, 1, 1, 1, 0, 1, 0, 0, 1, 1, 0, 0, 1, 1, 0, 0, 1, 1, 0, 1, 0, 0, 0, 1, 0, 0, 1, 0, 0, 0, 0, 1, 0, 1, 0, 1, 0, 1, 1, 0, 1, 0, 1, 0, 1, 1, 1, 1, 1, 0, 1, 1, 0, 0, 0, 0, 0, 0, 1, 1, 1, 0, 0, 0, 0, 1, 0, 1, 0, 1, 1, 1, 0, 1, 1, 1, 1, 1, 0, 0, 1, 0, 0, 0, 0, 1, 1, 0, 1, 0, 1, 1, 1, 1, 0, 0, 1, 1, 0, 0, 1, 0, 1, 1, 0, 0, 1, 0, 1, 1, 0, 1, 1, 1, 0, 1, 1, 0, 1, 0, 1, 1, 0, 1, 0, 0, 0, 1, 0, 1, 0, 0, 1, 1, 1, 1, 1, 1, 0, 0, 1, 0, 0, 1, 1, 0, 1, 0, 1, 1, 0, 1, 0, 1, 0, 0, 1, 1, 1, 0, 0, 0, 0, 0, 1, 0, 1, 0, 0, 0, 1, 0, 1, 0, 0, 0, 0, 0, 1, 1, 1, 1, 1, 1, 1, 0, 0, 1, 1, 0, 0, 0, 0, 1, 0, 0, 1, 1, 0, 1, 0, 0, 1, 1, 1, 1, 1, 0, 1, 1, 0, 1, 0, 0, 1, 0, 1, 1, 0, 1, 1, 1, 1, 0, 1, 1, 0, 1, 1, 0, 1, 0, 1, 1, 0, 1, 1, 0, 1, 1, 1, 1, 0, 0, 0, 0, 0, 1, 0, 0, 1, 0, 1, 1, 1, 0, 0, 1, 0, 0, 1, 1, 1, 0, 0, 0, 0, 1, 0, 0, 1, 1, 1, 1, 1, 1, 1, 1, 0, 1, 0, 0] y: 9705>>"
      ]
     },
     "execution_count": 90,
     "metadata": {},
     "output_type": "execute_result"
    }
   ],
   "source": [
    "max_cut.state"
   ]
  },
  {
   "cell_type": "markdown",
   "id": "c790db8e-de23-49c5-a2bd-664da44fe5fa",
   "metadata": {},
   "source": [
    "Descente de gradient"
   ]
  },
  {
   "cell_type": "code",
   "execution_count": null,
   "id": "3415e747-5d98-4596-905f-2e7c5f50a423",
   "metadata": {},
   "outputs": [],
   "source": [
    "class Test:\n",
    "    \n",
    "    def __init__(self, n: int, s: int, k:int):\n",
    "        self.n: int = n\n",
    "        self.s: int = s #population size\n",
    "        self.k: int = k\n",
    "    \n",
    "    def __call__(self, problem: ioh.ProblemClass.GRAPH) -> None:\n",
    "        dim = problem.meta_data.n_variables\n",
    "        \n",
    "        def sample(p):\n",
    "\n",
    "\n",
    "        #Initialization\n",
    "        x0 = np.zeros(dim)\n",
    "        e0 = problem(x0)\n",
    "        x1 = np.random.randint(0,2,dim)\n",
    "        e1 = problem(x)\n",
    "\n",
    "        x = x0\n",
    "        ex = e0\n",
    "        if e1 > e0:\n",
    "            x = x1\n",
    "            ex = e1\n",
    "\n",
    "        L = []\n",
    "        #Optimization\n",
    "        for  in range(s):\n",
    "            \n",
    "            for j in range(s)\n",
    "                y = x.copy()\n",
    "                flips = np.random.randint(0,dim,k)\n",
    "                for i in flips:\n",
    "                    y[i] = 0 if x[i] else 1\n",
    "                L.append((x)\n",
    "            \n",
    "            \n",
    "            \n",
    "            tire s échantillons avec k bits aléatoires\n",
    "            on identifie celui qui fait le plus croitre la fonction\n",
    "            on le garde\n",
    "            on recommence \n",
    "            \n",
    "            bruit ??? = mutation\n",
    "            \n",
    "            "
   ]
  },
  {
   "cell_type": "code",
   "execution_count": null,
   "id": "88a5d1b4-523a-467c-8d0f-ba569bdf19f2",
   "metadata": {},
   "outputs": [],
   "source": []
  },
  {
   "cell_type": "code",
   "execution_count": 175,
   "id": "c1d37a2b-787d-4e33-a5fe-85c3cf8d9dc3",
   "metadata": {},
   "outputs": [],
   "source": [
    "class Test2:\n",
    "    def __init__(self, n: int, s: int, p: float, b: int):\n",
    "        self.n: int = n #Number of iterations\n",
    "        self.s: int = s #Population size\n",
    "        self.p: float = p #Proba bitflip\n",
    "        self.b: float = b #Budget\n",
    "    \n",
    "    def __call__(self, problem: ioh.ProblemClass.GRAPH) -> None:\n",
    "        dim = problem.meta_data.n_variables\n",
    "\n",
    "        def gen_budget(b,N):\n",
    "            pop = []\n",
    "            for i in range(N):\n",
    "                x = np.zeros(dim).astype(int)\n",
    "                iflips = np.random.randint(0,dim,b)\n",
    "                x[iflips] = 1\n",
    "                y = problem(x)\n",
    "                z = (x,y)\n",
    "                pop.append(z)\n",
    "            return pop\n",
    "        \n",
    "        def mutation(z):\n",
    "            x = z[0].copy()\n",
    "            for i in range(dim):\n",
    "                x[i] = 1 - x[i] if random.random() < self.p else x[i]\n",
    "            y = problem(x)\n",
    "            return (x,y)\n",
    "            \n",
    "        def crossover(pop,N1,N2):\n",
    "            #Calcul de la distribution de probabilités \n",
    "            dist = np.zeros(dim)\n",
    "            normalization = 0\n",
    "            for i in range(self.s):\n",
    "                dist = dist + pop[i][0] * pop[i][1]\n",
    "                normalization += pop[i][1]\n",
    "            dist = dist / normalization\n",
    "            #Génération de la nouvelle population\n",
    "            npop = []\n",
    "            for t in range(N1):\n",
    "                x = np.zeros(dim).astype(int)\n",
    "                for i in range(dim):\n",
    "                    x[i] = 1 if random.random() < dist[i] else 0\n",
    "                y = problem(x)\n",
    "                z = (x,y)\n",
    "                npop.append(z)\n",
    "            #Elitisme\n",
    "            npop.sort(key=lambda x: x[1])\n",
    "            npop = npop[:N2]\n",
    "            return npop\n",
    "\n",
    "        \n",
    "        #Initialization\n",
    "        pop = gen_budget(self.b,self.s)\n",
    "\n",
    "        #Optimization\n",
    "        for t in range(self.n):\n",
    "            for i in range(self.s):\n",
    "                pop[i] = mutation(pop[i])\n",
    "                \n",
    "            pop = crossover(pop,2*self.s,self.s)"
   ]
  },
  {
   "cell_type": "code",
   "execution_count": 176,
   "id": "7d8385a8-7836-463e-9622-756b052a016b",
   "metadata": {},
   "outputs": [],
   "source": [
    "import math\n",
    "max_coverage.reset()\n",
    "dim = max_coverage.meta_data.n_variables\n",
    "test2 = Test2(1000, 10, 1/dim, 10)\n",
    "test2(max_coverage)"
   ]
  },
  {
   "cell_type": "code",
   "execution_count": 177,
   "id": "4b4c7cbb-35e1-4675-bdf6-cd00e098198d",
   "metadata": {},
   "outputs": [
    {
     "data": {
      "text/plain": [
       "<State evaluations: 30010 optimum_found: false current_best: <Solution x: [0, 0, 0, 0, 0, 0, 0, 0, 0, 0, 0, 0, 0, 0, 0, 0, 0, 0, 0, 0, 0, 0, 0, 0, 0, 0, 0, 0, 0, 0, 0, 0, 0, 0, 0, 0, 0, 0, 0, 0, 0, 0, 0, 0, 0, 0, 0, 0, 0, 0, 0, 0, 0, 1, 0, 0, 0, 0, 0, 0, 0, 0, 0, 0, 0, 0, 0, 1, 0, 0, 0, 0, 0, 0, 0, 0, 0, 0, 0, 0, 0, 0, 0, 0, 0, 0, 0, 0, 0, 0, 0, 0, 0, 0, 0, 0, 0, 0, 0, 0, 0, 0, 0, 0, 0, 0, 0, 0, 0, 0, 0, 0, 0, 0, 0, 0, 0, 0, 0, 0, 0, 0, 0, 0, 0, 0, 0, 0, 0, 0, 0, 0, 0, 0, 0, 0, 0, 0, 1, 0, 0, 0, 0, 0, 0, 0, 0, 0, 0, 0, 0, 0, 0, 0, 0, 0, 0, 0, 0, 0, 1, 0, 0, 0, 0, 0, 0, 0, 0, 0, 0, 0, 0, 0, 0, 0, 0, 1, 0, 0, 0, 0, 0, 0, 0, 0, 0, 0, 0, 0, 0, 0, 0, 0, 0, 0, 0, 0, 0, 0, 0, 0, 0, 0, 0, 0, 0, 0, 0, 0, 0, 0, 0, 0, 0, 0, 0, 0, 0, 0, 0, 0, 0, 0, 0, 0, 0, 0, 0, 0, 0, 0, 0, 0, 0, 0, 0, 0, 0, 0, 0, 0, 0, 1, 0, 0, 0, 0, 0, 0, 0, 0, 0, 0, 0, 0, 0, 0, 0, 0, 0, 0, 0, 0, 0, 0, 0, 0, 0, 0, 0, 0, 0, 0, 0, 0, 0, 0, 0, 0, 0, 0, 0, 0, 0, 0, 0, 0, 0, 0, 0, 0, 0, 0, 1, 0, 0, 0, 0, 0, 0, 0, 0, 0, 0, 0, 0, 0, 0, 0, 0, 0, 0, 0, 0, 0, 0, 0, 0, 0, 0, 0, 0, 0, 0, 0, 0, 0, 0, 0, 0, 0, 1, 0, 0, 0, 0, 0, 0, 0, 0, 0, 0, 0, 0, 0, 0, 0, 0, 0, 0, 0, 0, 0, 0, 0, 0, 0, 0, 0, 0, 0, 0, 0, 0, 0, 0, 0, 0, 0, 0, 0, 0, 0, 0, 0, 1, 0, 0, 0, 0, 0, 0, 0, 0, 0, 0, 0, 0, 0, 0, 0, 0, 0, 0, 0, 0, 0, 0, 0, 0, 0, 0, 0, 0, 0, 0, 0, 0, 0, 1, 0, 0, 0, 0, 0, 0, 0, 0, 0, 0, 0, 0, 0, 0, 0, 0, 0, 0, 0, 0, 0, 0, 0, 0, 0, 0, 0, 0, 0, 0, 0, 0, 0, 0, 0, 0, 0, 0, 0] y: 400>>"
      ]
     },
     "execution_count": 177,
     "metadata": {},
     "output_type": "execute_result"
    }
   ],
   "source": [
    "max_coverage.state"
   ]
  },
  {
   "cell_type": "code",
   "execution_count": 186,
   "id": "f9057968-8a29-47d2-b652-697a88c917b2",
   "metadata": {},
   "outputs": [],
   "source": [
    "import math\n",
    "max_cut.reset()\n",
    "dim = max_cut.meta_data.n_variables\n",
    "test2 = Test2(1000, 10, 1/dim, 400)\n",
    "test2(max_cut)"
   ]
  },
  {
   "cell_type": "code",
   "execution_count": 187,
   "id": "92098965-3b53-4d62-9a91-dde5e9fa7c88",
   "metadata": {},
   "outputs": [
    {
     "data": {
      "text/plain": [
       "<State evaluations: 30010 optimum_found: false current_best: <Solution x: [0, 0, 0, 1, 0, 0, 1, 0, 1, 0, 0, 0, 1, 1, 0, 0, 0, 0, 0, 0, 1, 1, 0, 0, 0, 1, 1, 0, 0, 0, 0, 0, 0, 0, 0, 0, 1, 1, 0, 0, 1, 1, 1, 0, 1, 1, 1, 0, 0, 1, 0, 1, 0, 0, 1, 1, 0, 1, 0, 1, 1, 0, 0, 0, 1, 1, 0, 0, 0, 0, 1, 0, 1, 0, 0, 0, 1, 0, 1, 0, 1, 0, 0, 0, 1, 1, 0, 1, 1, 0, 1, 0, 0, 0, 1, 1, 1, 0, 1, 1, 1, 1, 0, 0, 0, 1, 0, 1, 1, 0, 1, 0, 1, 0, 0, 1, 0, 1, 0, 0, 1, 1, 0, 1, 0, 0, 1, 0, 1, 0, 0, 1, 1, 1, 1, 0, 1, 0, 1, 0, 0, 1, 0, 1, 0, 1, 0, 0, 0, 1, 0, 1, 0, 1, 1, 0, 1, 1, 1, 0, 1, 1, 0, 1, 1, 0, 1, 1, 0, 0, 1, 1, 1, 0, 0, 0, 0, 0, 1, 1, 1, 0, 1, 0, 1, 0, 1, 0, 0, 0, 0, 1, 1, 0, 0, 0, 0, 1, 0, 0, 0, 1, 0, 0, 1, 0, 1, 0, 1, 1, 1, 0, 1, 0, 1, 0, 1, 1, 0, 0, 1, 0, 0, 1, 0, 0, 1, 0, 1, 0, 1, 0, 1, 1, 1, 0, 0, 1, 0, 0, 0, 1, 1, 0, 1, 1, 0, 0, 1, 1, 0, 1, 0, 0, 0, 0, 0, 0, 0, 0, 0, 0, 0, 1, 1, 0, 0, 1, 0, 0, 0, 1, 0, 1, 0, 1, 1, 0, 0, 1, 1, 1, 1, 0, 1, 0, 1, 1, 0, 1, 1, 1, 1, 0, 1, 1, 1, 0, 0, 1, 1, 1, 0, 0, 0, 0, 0, 0, 1, 0, 0, 1, 0, 1, 1, 1, 1, 0, 0, 0, 0, 1, 0, 1, 0, 1, 1, 1, 0, 0, 1, 0, 0, 1, 0, 1, 1, 0, 0, 1, 0, 0, 0, 1, 0, 1, 1, 0, 0, 1, 0, 0, 1, 0, 0, 0, 0, 1, 1, 0, 1, 0, 0, 0, 1, 1, 1, 1, 0, 1, 0, 1, 1, 0, 0, 0, 0, 0, 0, 0, 1, 0, 0, 1, 1, 0, 1, 1, 0, 1, 1, 0, 0, 1, 0, 0, 0, 0, 0, 1, 1, 0, 1, 1, 1, 1, 1, 0, 1, 0, 1, 0, 1, 1, 1, 1, 0, 0, 0, 0, 0, 0, 0, 1, 0, 0, 1, 1, 1, 0, 0, 0, 1, 0, 0, 1, 1, 1, 0, 0, 0, 0, 0, 1, 0, 1, 0, 0, 0, 1, 1, 0, 0, 0, 1, 0, 0, 1, 1, 1, 0, 0, 1, 0, 1, 1, 1, 1, 1, 0, 0, 0, 1, 0, 0, 1, 0, 0, 1, 0, 1, 1, 0, 1, 0, 0, 1, 1, 0, 1, 1, 1, 0, 0, 0, 0, 0, 1, 1, 1, 1, 1, 0, 0, 0, 0, 0, 0, 0, 1, 0, 1, 0, 0, 0, 1, 1, 1, 0, 0, 1, 0, 0, 0, 0, 0, 0, 0, 0, 1, 1, 0, 0, 0, 1, 0, 0, 0, 1, 0, 0, 0, 0, 1, 1, 0, 0, 0, 0, 1, 1, 0, 1, 0, 1, 0, 1, 0, 1, 0, 0, 1, 0, 0, 1, 1, 0, 0, 0, 1, 0, 0, 0, 0, 0, 0, 0, 0, 0, 0, 0, 0, 1, 1, 0, 1, 0, 1, 0, 1, 0, 0, 0, 1, 1, 1, 1, 1, 0, 1, 0, 0, 1, 0, 0, 0, 1, 0, 1, 1, 1, 0, 1, 0, 0, 0, 0, 1, 1, 1, 0, 0, 0, 1, 0, 1, 0, 1, 0, 0, 1, 0, 0, 0, 0, 0, 1, 0, 1, 0, 0, 1, 0, 1, 0, 0, 0, 0, 0, 1, 0, 0, 0, 0, 0, 1, 1, 0, 1, 0, 0, 0, 1, 0, 1, 1, 0, 1, 1, 1, 0, 1, 0, 0, 0, 1, 1, 1, 0, 0, 0, 1, 1, 1, 0, 0, 0, 0, 0, 0, 0, 0, 0, 0, 0, 0, 0, 0, 1, 1, 0, 0, 1, 1, 0, 1, 0, 1, 0, 1, 0, 0, 0, 0, 1, 0, 0, 0, 0, 0, 0, 1, 0, 0, 0, 0, 1, 0, 1, 0, 1, 1, 1, 1, 1, 1, 0, 1, 0, 0, 0, 1, 0, 0, 1, 0, 0, 0, 0, 0, 1, 1, 0, 0, 1, 1, 0, 0, 1, 1, 1, 0, 0, 0, 1, 0, 0, 0, 0, 1, 1, 1, 1, 0, 0, 1, 0, 0, 0, 0, 1, 1, 1, 0, 1, 0, 0, 0, 1, 0, 0, 0, 0, 1, 1, 0, 0, 1, 1, 0] y: 9457>>"
      ]
     },
     "execution_count": 187,
     "metadata": {},
     "output_type": "execute_result"
    }
   ],
   "source": [
    "max_cut.state"
   ]
  },
  {
   "cell_type": "code",
   "execution_count": null,
   "id": "36b1a94c-93bf-42d2-9f3c-639de803dc38",
   "metadata": {},
   "outputs": [],
   "source": []
  }
 ],
 "metadata": {
  "kernelspec": {
   "display_name": "Python 3 (ipykernel)",
   "language": "python",
   "name": "python3"
  },
  "language_info": {
   "codemirror_mode": {
    "name": "ipython",
    "version": 3
   },
   "file_extension": ".py",
   "mimetype": "text/x-python",
   "name": "python",
   "nbconvert_exporter": "python",
   "pygments_lexer": "ipython3",
   "version": "3.8.10"
  }
 },
 "nbformat": 4,
 "nbformat_minor": 5
}
