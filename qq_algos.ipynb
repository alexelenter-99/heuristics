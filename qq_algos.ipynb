{
 "cells": [
  {
   "cell_type": "code",
   "execution_count": null,
   "id": "825dc90f",
   "metadata": {},
   "outputs": [],
   "source": [
    "import numpy as np\n",
    "import ioh"
   ]
  },
  {
   "cell_type": "code",
   "execution_count": null,
   "id": "01404810",
   "metadata": {},
   "outputs": [],
   "source": [
    "ioh.ProblemClass.GRAPH.problems"
   ]
  },
  {
   "cell_type": "code",
   "execution_count": null,
   "id": "616b30e5",
   "metadata": {},
   "outputs": [],
   "source": [
    "max_cut = ioh.get_problem(2000, problem_class=ioh.ProblemClass.GRAPH)\n",
    "max_coverage = ioh.get_problem(2100, problem_class=ioh.ProblemClass.GRAPH)"
   ]
  },
  {
   "cell_type": "code",
   "execution_count": null,
   "id": "931a6308",
   "metadata": {},
   "outputs": [],
   "source": [
    "print(max_cut.meta_data)\n",
    "print(max_coverage.meta_data)"
   ]
  },
  {
   "cell_type": "code",
   "execution_count": null,
   "id": "21158393",
   "metadata": {},
   "outputs": [],
   "source": [
    "nb_it = 10000"
   ]
  },
  {
   "cell_type": "code",
   "execution_count": null,
   "id": "bcc6354e",
   "metadata": {},
   "outputs": [],
   "source": [
    "x_mcov = cut = np.random.randint(0,2,max_coverage.meta_data.n_variables)\n",
    "val = max_coverage(x_mcov)\n",
    "# help(max_coverage.optimum)\n",
    "for ind in ioh.ProblemClass.GRAPH.problems:\n",
    "    p = ioh.get_problem(ind, problem_class=ioh.ProblemClass.GRAPH)\n",
    "    if np.any(p.optimum.x):\n",
    "        print(p.meta_data)"
   ]
  },
  {
   "cell_type": "markdown",
   "id": "71183e84-451f-4cf1-a382-250fea68ac4d",
   "metadata": {},
   "source": [
    "# 1/2-approximation for MaxCut"
   ]
  },
  {
   "cell_type": "markdown",
   "id": "75700e20-5143-4c4c-b45e-e4ffeabd13f0",
   "metadata": {},
   "source": [
    "Proof in Bertrand Meyer's Advanced Algorithms lecture"
   ]
  },
  {
   "cell_type": "code",
   "execution_count": null,
   "id": "9109a21f-84fc-4af2-b665-131af94ad99c",
   "metadata": {},
   "outputs": [],
   "source": [
    "max_cut.reset()"
   ]
  },
  {
   "cell_type": "code",
   "execution_count": null,
   "id": "e558ad49-fee1-4839-9db5-c9fce347f7cf",
   "metadata": {},
   "outputs": [],
   "source": [
    "cut = np.random.randint(0,2,max_cut.meta_data.n_variables)\n",
    "max_cut(cut)\n",
    "print(max_cut.state)"
   ]
  },
  {
   "cell_type": "markdown",
   "id": "299c3603",
   "metadata": {},
   "source": [
    "# RLS"
   ]
  },
  {
   "cell_type": "code",
   "execution_count": null,
   "id": "c64b1486",
   "metadata": {},
   "outputs": [],
   "source": [
    "import numpy as np\n",
    "\n",
    "class RandomLocalSearch:\n",
    "    'Random local search algorithm'\n",
    "    def __init__(self, n: int):\n",
    "        self.n: int = n\n",
    "        \n",
    "    def __call__(self, problem: ioh.ProblemClass.GRAPH) -> None:\n",
    "        'For each it flip 1 bit chosen uar and keep the best of both'\n",
    "        \n",
    "        x = np.random.randint(0,2,problem.meta_data.n_variables)\n",
    "        val = problem(x)\n",
    "        for _ in range(self.n):\n",
    "            index_to_flip = np.random.randint(0,problem.meta_data.n_variables)\n",
    "            y = x\n",
    "            y[index_to_flip] = 1 - y[index_to_flip]\n",
    "            val_y = problem(y)\n",
    "            if val_y > val:\n",
    "                x = y\n",
    "                val = val_y"
   ]
  },
  {
   "cell_type": "code",
   "execution_count": null,
   "id": "7ca72e38",
   "metadata": {},
   "outputs": [],
   "source": [
    "max_coverage.reset()\n",
    "r = RandomLocalSearch(nb_it)\n",
    "r(max_coverage)\n",
    "print(max_coverage.state.evaluations, max_coverage.state.y_unconstrained, max_coverage.state.y_unconstrained_best)"
   ]
  },
  {
   "cell_type": "code",
   "execution_count": null,
   "id": "8e5e816c",
   "metadata": {},
   "outputs": [],
   "source": [
    "max_cut.reset()\n",
    "r = RandomLocalSearch(nb_it)\n",
    "r(max_cut)\n",
    "print(max_cut.state.evaluations, max_cut.state.y_unconstrained, max_cut.state.y_unconstrained_best)"
   ]
  },
  {
   "cell_type": "markdown",
   "id": "62c84335",
   "metadata": {},
   "source": [
    "# (1+1) EA "
   ]
  },
  {
   "cell_type": "code",
   "execution_count": null,
   "id": "d563e4a1",
   "metadata": {},
   "outputs": [],
   "source": [
    "class EA_1p1:\n",
    "    '(1+1)-EA'\n",
    "    def __init__(self, n: int, p : float):\n",
    "        self.n: int = n\n",
    "        self.p: float = p\n",
    "        \n",
    "    def __call__(self, problem: ioh.ProblemClass.GRAPH) -> None:\n",
    "        x = np.random.randint(0,2,problem.meta_data.n_variables)\n",
    "        val = problem(x)\n",
    "        for _ in range(self.n):\n",
    "            y = x.copy()\n",
    "            for ind in range(len(x)):\n",
    "                y[ind] = 1 - y[ind] if np.random.binomial(1,self.p) else y[ind]\n",
    "            val_y = problem(y)\n",
    "            if val_y > val:\n",
    "                x = y\n",
    "                val = val_y"
   ]
  },
  {
   "cell_type": "code",
   "execution_count": null,
   "id": "405ede91",
   "metadata": {},
   "outputs": [],
   "source": [
    "max_coverage.reset()\n",
    "ea_11 = EA_1p1(nb_it, 1/max_coverage.meta_data.n_variables)\n",
    "ea_11(max_coverage)\n",
    "print(max_coverage.state.evaluations, max_coverage.state.y_unconstrained, max_coverage.state.y_unconstrained_best)"
   ]
  },
  {
   "cell_type": "code",
   "execution_count": null,
   "id": "ea318881",
   "metadata": {},
   "outputs": [],
   "source": [
    "max_cut.reset()\n",
    "ea_11 = EA_1p1(nb_it, np.log(max_cut.meta_data.n_variables)/max_cut.meta_data.n_variables)\n",
    "ea_11(max_cut)\n",
    "print(max_cut.state.evaluations, max_cut.state.y_unconstrained, max_cut.state.y_unconstrained_best)"
   ]
  },
  {
   "cell_type": "markdown",
   "id": "16f12129",
   "metadata": {},
   "source": [
    "# (1+($\\lambda, \\lambda$)) EA "
   ]
  },
  {
   "cell_type": "code",
   "execution_count": null,
   "id": "c6e94680-f128-473e-a169-8679e3153d6c",
   "metadata": {},
   "outputs": [],
   "source": [
    "max_cut.reset()"
   ]
  },
  {
   "cell_type": "code",
   "execution_count": null,
   "id": "8accd9ad",
   "metadata": {},
   "outputs": [],
   "source": [
    "import random\n",
    "\n",
    "class EA_1plamlam:\n",
    "    '(1+(lam,lam))-EA'\n",
    "    def __init__(self, n: int, lam : int, p : float, c : float):\n",
    "        self.n: int = n\n",
    "        self.lam: int = lam\n",
    "        self.p: float = p\n",
    "        self.c: float = c\n",
    "        \n",
    "    def __call__(self, problem: ioh.ProblemClass.GRAPH) -> None:\n",
    "        length_x = problem.meta_data.n_variables\n",
    "        x = np.random.randint(0,2,length_x)\n",
    "        val = problem(x)\n",
    "        for _ in range(self.n):\n",
    "            L = np.random.binomial(length_x, self.p)\n",
    "            xp = None\n",
    "            best_val = None # we allow for worse values than x\n",
    "            for _ in range(self.lam):\n",
    "                bits_to_flip = random.sample(range(length_x), L)\n",
    "                new_xp = x.copy()\n",
    "                for i in bits_to_flip:\n",
    "                    new_xp[i] = 1 - new_xp[i] if np.random.binomial(1, self.p) else new_xp[i]\n",
    "            val_new_xp = problem(new_xp)\n",
    "            if best_val is None or val_new_xp > best_val:\n",
    "                xp = new_xp\n",
    "                best_val = val_new_xp \n",
    "            y = x.copy()\n",
    "            best_val = None\n",
    "            for _ in range(self.lam):\n",
    "                new_y = x.copy()\n",
    "                for i in range(length_x):\n",
    "                    if np.random.binomial(1,self.c):\n",
    "                        new_y[i] = xp[i]\n",
    "                val_new_y = problem(new_y)\n",
    "                if best_val is None or val_new_y > best_val:\n",
    "                    y = new_y\n",
    "                    best_val = val_new_y\n",
    "            if best_val > val:\n",
    "                x = y\n",
    "                val = best_val"
   ]
  },
  {
   "cell_type": "code",
   "execution_count": null,
   "id": "e3c305bd",
   "metadata": {},
   "outputs": [],
   "source": [
    "import math\n",
    "max_coverage.reset()\n",
    "dim_pb = max_coverage.meta_data.n_variables\n",
    "ea_1lamlam = EA_1plamlam(math.ceil(nb_it / (10)), 10, 1/dim_pb, 1/dim_pb)\n",
    "ea_1lamlam(max_coverage)\n",
    "print(max_coverage.state.evaluations, max_coverage.state.y_unconstrained, max_coverage.state.y_unconstrained_best)"
   ]
  },
  {
   "cell_type": "code",
   "execution_count": null,
   "id": "77714957",
   "metadata": {},
   "outputs": [],
   "source": [
    "import math\n",
    "max_cut.reset()\n",
    "dim_pb = max_cut.meta_data.n_variables\n",
    "ea_1lamlam = EA_1plamlam(math.ceil(nb_it / (10)), 10, 1/dim_pb, 1/dim_pb)\n",
    "ea_1lamlam(max_cut)\n",
    "print(max_cut.state.evaluations, max_cut.state.y_unconstrained, max_cut.state.y_unconstrained_best)"
   ]
  },
  {
   "cell_type": "markdown",
   "id": "5c1585f2",
   "metadata": {},
   "source": [
    "# First idea \n",
    "as dealing with submodular functions, we may want to select the arguments that make it grow \"the most at first\" --> as when adding more elements we face diminishing returns\n",
    "so from a solution x -> we build lam xs turning off L bits of uar and keeping the best -> we then build lam ys by flipping on L' bits of the best xs uniformly at random and keeping the best y --> then we turn on each bit present in y and not in x\n",
    "\n",
    "problem: solution x keeps growing?\n",
    "how to stop that?"
   ]
  },
  {
   "cell_type": "code",
   "execution_count": null,
   "id": "0ed627ea",
   "metadata": {},
   "outputs": [],
   "source": [
    "import random\n",
    "class OffAndOn:\n",
    "    def __init__(self, n: int, lam : int, p_off : float, p_on : float, init_a_0 : bool, c : float, pc : float):\n",
    "        self.n: int = n\n",
    "        self.p_off: int = p_off\n",
    "        self.p_on: int = p_on\n",
    "        self.lam: float = lam\n",
    "        self.c: bool = c\n",
    "        self.pc: bool = pc\n",
    "        self.init_a_0: bool = init_a_0\n",
    "        \n",
    "        \n",
    "    def __call__(self, problem: ioh.ProblemClass.GRAPH) -> None:\n",
    "        dim = problem.meta_data.n_variables\n",
    "\n",
    "        if self.init_a_0:\n",
    "            x = np.zeros(dim, dtype=int)\n",
    "            val = problem(x)\n",
    "        else:\n",
    "            x = np.random.randint(0, 2, dim)\n",
    "            val = problem(x)\n",
    "        \n",
    "        for _ in range(self.n):\n",
    "            L = np.random.binomial(dim, self.p_off)\n",
    "            \n",
    "            xp = None\n",
    "            best_val = None \n",
    "            # for _ in range(self.lam):\n",
    "            for _ in range(1):\n",
    "                # mutation 1 : we turn off L bits \n",
    "                bits_to_flip = np.array(random.sample(range(dim), L))\n",
    "                new_xp = np.array(x.copy())\n",
    "                new_xp[bits_to_flip] = 0\n",
    "                val_new_xp = problem(new_xp)\n",
    "                if best_val is None or val_new_xp > best_val:\n",
    "                    xp = new_xp\n",
    "                    best_val = val_new_xp \n",
    "\n",
    "            L = np.random.binomial(dim, self.p_on)\n",
    "            y = xp.copy()\n",
    "            best_val = None\n",
    "            for _ in range(self.lam):\n",
    "                # mutation 2 : we turn on L bits\n",
    "                new_y = xp.copy()\n",
    "                bits_to_flip = np.array(random.sample(range(dim), L))\n",
    "                new_y[bits_to_flip] = 1\n",
    "                val_new_y = problem(new_y)\n",
    "                if best_val is None or val_new_y > best_val:\n",
    "                    y = new_y\n",
    "                    best_val = val_new_y\n",
    "            \n",
    "            mix = [(1 if y[i] else (y[i] if np.random.binomial(1, self.c) else x[i])) \n",
    "                   for i in range(dim)]\n",
    "            val_mix = problem(mix)\n",
    "            if val_mix > val:\n",
    "                x = mix\n",
    "                val = val_mix\n",
    "                # self.p_on = max(10/dim, self.p_on / self.pc)\n",
    "                self.p_off = max(10/dim, self.p_off / self.pc)\n",
    "                # self.c = max(10/dim, self.c / self.pc)\n",
    "            "
   ]
  },
  {
   "cell_type": "code",
   "execution_count": null,
   "id": "2654b399",
   "metadata": {},
   "outputs": [],
   "source": [
    "import math\n",
    "max_cut.reset()\n",
    "dim_pb = max_cut.meta_data.n_variables\n",
    "lam = 10\n",
    "offandon = OffAndOn(1000, lam, 1/4, 10/dim_pb, False, 1/2, 2)\n",
    "offandon(max_cut)\n",
    "print(max_cut.state.evaluations, max_cut.state.y_unconstrained_best)"
   ]
  },
  {
   "cell_type": "code",
   "execution_count": null,
   "id": "adbbaa52",
   "metadata": {},
   "outputs": [],
   "source": [
    "import math\n",
    "max_coverage.reset()\n",
    "dim_pb = max_coverage.meta_data.n_variables\n",
    "lam = 8\n",
    "offandon = OffAndOn(1200, lam, 1/8, 10/dim_pb, True, 1/4, 1.05)\n",
    "offandon(max_coverage)\n",
    "print(max_coverage.state.evaluations, max_coverage.state.y_unconstrained_best)"
   ]
  },
  {
   "cell_type": "markdown",
   "id": "eafbc0d2",
   "metadata": {},
   "source": [
    "# Second idea:\n",
    "\n",
    "from x:\n",
    " - generate lam children by flipping bits randomly \n",
    " - take the lam2 best and do the intersection --> those are the \"best elements to keep\"\n",
    " - combine x and the intersection"
   ]
  },
  {
   "cell_type": "code",
   "execution_count": null,
   "id": "a3e5e48b",
   "metadata": {},
   "outputs": [],
   "source": [
    "class IntersectAndCombine:\n",
    "    def __init__(self, n: int, lam: int, lam2: int, p: float, c: float, pc: float, init_a_0 : bool):\n",
    "        self.n: int = n\n",
    "        self.p: int = p\n",
    "        self.c: int = c\n",
    "        self.lam: float = lam\n",
    "        self.lam2: float = lam2\n",
    "        self.init_a_0: float = init_a_0\n",
    "        self.pc: float = pc\n",
    "\n",
    "    def generate_child(self, x):\n",
    "        y = x.copy()\n",
    "        for ind in range(len(x)):\n",
    "            y[ind] = 1 - y[ind] if np.random.binomial(1,self.p) else y[ind]\n",
    "        return y\n",
    "\n",
    "    def intersection(self, x, y):\n",
    "        return np.logical_and(x, y).astype(int)\n",
    "\n",
    "    def union(self, x, y):\n",
    "        return np.logical_or(x, y).astype(int)\n",
    "\n",
    "    def __call__(self, problem: ioh.ProblemClass.GRAPH) -> None:\n",
    "        if self.init_a_0:\n",
    "            x = np.zeros(problem.meta_data.n_variables, dtype=int)\n",
    "            val = problem(x)\n",
    "        else:\n",
    "            x = np.random.randint(0, 2, problem.meta_data.n_variables)\n",
    "            val = problem(x)\n",
    "        for tour in range(self.n):\n",
    "            values = []\n",
    "            children = []\n",
    "            for _ in range(self.lam):\n",
    "                x_ = self.generate_child(x)\n",
    "                values.append(problem(x_))\n",
    "                children.append(x_)\n",
    "\n",
    "            children = np.array(children)\n",
    "            sorted_inds = np.argsort(values)[-self.lam2:]\n",
    "            children = children[sorted_inds]\n",
    "            intersection = np.logical_and.reduce(children).astype(int) # intersection will be small\n",
    "\n",
    "            mix = [(1 if intersection[i] else (intersection[i] if np.random.binomial(1, self.c) else x[i])) \n",
    "                   for i in range(problem.meta_data.n_variables)]\n",
    "            val_mix = problem(mix)\n",
    "\n",
    "            union = self.union(intersection.copy(),x.copy())\n",
    "            val_u = problem(union)\n",
    "\n",
    "            elems = [x, mix, union]\n",
    "            vals = [val, val_mix, val_u]\n",
    "\n",
    "            ind = np.argmax(vals)\n",
    "            \n",
    "            val = vals[ind]\n",
    "            x = elems[ind]  \n",
    "            if (ind != 0):\n",
    "                self.p = max(10/problem.meta_data.n_variables, self.p / self.pc)\n",
    "                self.c = max(10/problem.meta_data.n_variables, self.c / self.pc)\n",
    "                print(tour, \"update\", self.p, \"  ind \", ind) "
   ]
  },
  {
   "cell_type": "code",
   "execution_count": null,
   "id": "95a4450a",
   "metadata": {},
   "outputs": [],
   "source": [
    "import math\n",
    "max_cut.reset()\n",
    "dim_pb = max_cut.meta_data.n_variables\n",
    "lam = 8\n",
    "intcomb = IntersectAndCombine(1000, lam, 3, 1/4, 1/4, 1.005, False)\n",
    "intcomb(max_cut)\n",
    "print(max_cut.state.evaluations, max_cut.state.y_unconstrained_best)"
   ]
  },
  {
   "cell_type": "code",
   "execution_count": null,
   "id": "3e7b4585",
   "metadata": {},
   "outputs": [],
   "source": [
    "import math\n",
    "max_coverage.reset()\n",
    "dim_pb = max_coverage.meta_data.n_variables\n",
    "lam = 8\n",
    "intcomb = IntersectAndCombine(1000, lam, 5, 1/4, 10/dim_pb, 1.005, True)\n",
    "intcomb(max_coverage)\n",
    "print(max_coverage.state.evaluations, max_coverage.state.y_unconstrained_best)"
   ]
  },
  {
   "cell_type": "markdown",
   "id": "b4a51840",
   "metadata": {},
   "source": [
    "# Third idea (QB):\n",
    "\n",
    "from x:\n",
    " - generate lam children by flipping bits randomly \n",
    " - take the lam2 best and build a prob distr proportionnally to their obj values (TODO: see how to integrate sol x)\n",
    " - \"crossover\"?"
   ]
  },
  {
   "cell_type": "code",
   "execution_count": null,
   "id": "8e2d61ad",
   "metadata": {},
   "outputs": [],
   "source": [
    "class ProbDistr:\n",
    "    def __init__(self, n: int, lam: int, p: float, c: float, pc: float, init_a_0 : bool):\n",
    "        self.n: int = n\n",
    "        self.p: int = p\n",
    "        self.c: int = c\n",
    "        self.pc: int = pc\n",
    "        self.lam: float = lam\n",
    "        self.init_a_0: float = init_a_0\n",
    "\n",
    "    def generate_child(self, x):\n",
    "        y = x.copy()\n",
    "        for ind in range(len(x)):\n",
    "            y[ind] = 1 - y[ind] if np.random.binomial(1,self.p) else y[ind]\n",
    "        return y\n",
    "\n",
    "    def get_new_from_children(self, children, values, dim):\n",
    "        values = np.array(list(map(lambda x : max(x,0), values)))\n",
    "        if (not values.all()): # means all values are negative\n",
    "            values = np.array([1/len(children)]*(len(children)))\n",
    "        sum = np.sum(values)\n",
    "        p = [v/sum for v in values]\n",
    "        new_x = np.zeros(dim).astype(int)\n",
    "        for ind in range(dim):\n",
    "            chosen_child = np.random.choice(np.arange(0, len(children)), p=p) \n",
    "            new_x[ind] = children[chosen_child][ind]\n",
    "        return new_x\n",
    "\n",
    "    def __call__(self, problem: ioh.ProblemClass.GRAPH) -> None:\n",
    "        if self.init_a_0:\n",
    "            x = np.zeros(problem.meta_data.n_variables, dtype=int)\n",
    "            val = problem(x)\n",
    "        else:\n",
    "            x = np.random.randint(0, 2, problem.meta_data.n_variables)\n",
    "            val = problem(x)\n",
    "        for tour in range(self.n):\n",
    "            values = []\n",
    "            children = []\n",
    "            for _ in range(self.lam):\n",
    "                x_ = self.generate_child(x)\n",
    "                values.append(problem(x_))\n",
    "                children.append(x_)\n",
    "\n",
    "            new_x = self.get_new_from_children(np.array(children), np.array(values), problem.meta_data.n_variables)\n",
    "            val_new_x = problem(new_x)\n",
    "\n",
    "            # children.append(x)\n",
    "            # values.append(val)\n",
    "            # crossed_x_new_way = self.get_new_from_children(np.array(children), np.array(values), problem.meta_data.n_variables)\n",
    "            # val_crossed_x_new_way = problem(crossed_x_new_way)\n",
    "\n",
    "            mix = [new_x[i] if np.random.binomial(1, self.c) else x[i] for i in range(problem.meta_data.n_variables)]\n",
    "            val_mix = problem(mix)\n",
    "\n",
    "            # ind = np.argmax([val, val_mix, val_new_x, val_crossed_x_new_way])\n",
    "            ind = np.argmax([val, val_mix, val_new_x])\n",
    "            \n",
    "            # val = [val, val_mix, val_new_x, val_crossed_x_new_way][ind]\n",
    "            val = [val, val_mix, val_new_x][ind]\n",
    "            # x = [x, mix, new_x, crossed_x_new_way][ind]  \n",
    "            x = [x, mix, new_x][ind]  \n",
    "            if (ind != 0):\n",
    "                self.p = max(10/problem.meta_data.n_variables, self.p / self.pc)\n",
    "                self.c = max(10/problem.meta_data.n_variables, self.c / self.pc)\n",
    "                print(tour, \"update\", self.p, \"  ind \", ind) "
   ]
  },
  {
   "cell_type": "code",
   "execution_count": null,
   "id": "053405ed",
   "metadata": {},
   "outputs": [],
   "source": [
    "import math\n",
    "max_cut.reset()\n",
    "dim_pb = max_cut.meta_data.n_variables\n",
    "lam = 10\n",
    "pd = ProbDistr(1000, lam, 1/4, 10/dim_pb, 1.005, False)\n",
    "pd(max_cut)\n",
    "print(max_cut.state.evaluations, max_cut.state.y_unconstrained_best)"
   ]
  },
  {
   "cell_type": "code",
   "execution_count": null,
   "id": "250acc05",
   "metadata": {},
   "outputs": [],
   "source": [
    "import math\n",
    "max_coverage.reset()\n",
    "dim_pb = max_coverage.meta_data.n_variables\n",
    "lam = 8\n",
    "pd = ProbDistr(1200, lam, 1/4, 10/dim_pb, True)\n",
    "pd(max_coverage)\n",
    "print(max_coverage.state.evaluations, max_coverage.state.y_unconstrained_best)"
   ]
  },
  {
   "cell_type": "markdown",
   "id": "3536c5f2",
   "metadata": {},
   "source": [
    "# Algo par croissance"
   ]
  },
  {
   "cell_type": "code",
   "execution_count": null,
   "id": "d8f318c8",
   "metadata": {},
   "outputs": [],
   "source": [
    "class ParCroissance:\n",
    "\n",
    "    def __init__(self, n: int, s: int, k: int, init_a_0: bool, pc : float):\n",
    "        self.n: int = n  # nb d'itérations\n",
    "        self.s: int = s  # population size\n",
    "        self.k: int = k  # taux de croissance\n",
    "        self.pc: int = pc  # taux de croissance\n",
    "        self.init_a_0: int = init_a_0  # taux de croissance\n",
    "\n",
    "    def flip(self, x, l):\n",
    "        positions = np.random.choice(np.arange(0, len(x)), l, replace=False)\n",
    "        y = x.copy()\n",
    "        y[positions] = 1 - y[positions]\n",
    "        return y\n",
    "\n",
    "    def __call__(self, problem: ioh.ProblemClass.GRAPH) -> None:\n",
    "        dim = problem.meta_data.n_variables\n",
    "\n",
    "        # Initialization\n",
    "        if self.init_a_0:\n",
    "            x = np.zeros(dim, dtype=int)\n",
    "            y = problem(x)\n",
    "        else:\n",
    "            x = np.random.randint(0, 2, dim)\n",
    "            y = problem(x)\n",
    "\n",
    "        # Optimization\n",
    "        for t in range(self.n-1):\n",
    "            # On tire k échantillons et on garde celui qui fait le plus croitre la fonction\n",
    "            pop = []\n",
    "            for i in range(self.s):\n",
    "                xx = self.flip(x, self.k)\n",
    "                yy = problem(xx)\n",
    "                pop.append((xx, yy))\n",
    "            pop.sort(key=lambda x: x[1])\n",
    "            if pop[self.s-1][1] > y:\n",
    "                x = pop[self.s-1][0]\n",
    "                y = pop[self.s-1][1]\n",
    "            else:\n",
    "                self.k = max(int(self.k * self.pc), 1)\n",
    "                if (self.k == 1):\n",
    "                    print(t,\"1\")"
   ]
  },
  {
   "cell_type": "code",
   "execution_count": null,
   "id": "38791b59",
   "metadata": {},
   "outputs": [],
   "source": [
    "import math\n",
    "pb = ioh.get_problem(2004, problem_class=ioh.ProblemClass.GRAPH)\n",
    "pb.reset()\n",
    "dim_pb = pb.meta_data.n_variables\n",
    "pc = ParCroissance(1500, 8, 30, False, 3/4)\n",
    "pc(pb)\n",
    "print(pb.state.evaluations, pb.state.y_unconstrained_best)"
   ]
  },
  {
   "cell_type": "code",
   "execution_count": null,
   "id": "a9b67e8c",
   "metadata": {},
   "outputs": [],
   "source": [
    "import math\n",
    "max_coverage.reset()\n",
    "dim_pb = max_cut.meta_data.n_variables\n",
    "pc = ParCroissance(1000, 10, 30, True, 5/6)\n",
    "pc(max_coverage)\n",
    "print(max_coverage.state.evaluations, max_coverage.state.y_unconstrained_best)"
   ]
  },
  {
   "cell_type": "markdown",
   "id": "4371d27e",
   "metadata": {},
   "source": [
    "# Fast Greedy"
   ]
  },
  {
   "cell_type": "code",
   "execution_count": 236,
   "id": "009c11a7",
   "metadata": {},
   "outputs": [],
   "source": [
    "import queue\n",
    "\n",
    "\n",
    "class FastGreedy:\n",
    "\n",
    "    def __init__(self, budget: int, num_1_start: int):\n",
    "        self.num_1_start = num_1_start\n",
    "        self.budget = budget\n",
    "\n",
    "    def __call__(self, problem: ioh.ProblemClass.GRAPH) -> None:\n",
    "        dim = problem.meta_data.n_variables\n",
    "        x = np.zeros(dim).astype(int)\n",
    "        if (self.num_1_start > 0):\n",
    "            x[np.array(random.sample(range(dim), self.num_1_start))] = 1\n",
    "        val = problem(x)\n",
    "\n",
    "        evals = 0\n",
    "\n",
    "        pq = queue.PriorityQueue()  # elems have type (marginal gain of elem index,index)\n",
    "        for e in np.where(x == 0)[0]:\n",
    "            x[e] = 1\n",
    "            # - to retrieve elems with highest marginal gain\n",
    "            pq.put((-problem(x)+val, e))\n",
    "            evals += 1\n",
    "            x[e] = 0\n",
    "\n",
    "        while (evals <= self.budget and not pq.empty()):\n",
    "            first_e = pq.get()\n",
    "            # print(first_e)\n",
    "            x[first_e[1]] = 1\n",
    "            new_val = -problem(x)+val\n",
    "            evals += 1\n",
    "            x[first_e[1]] = 0\n",
    "            pq.put((new_val, first_e[1]))\n",
    "            current_best = first_e[1]\n",
    "            elem = pq.get()\n",
    "            while (elem[0] < new_val and evals <= self.budget and not pq.empty()):\n",
    "                x[elem[1]] = 1\n",
    "                aux = -problem(x)+val\n",
    "                evals += 1\n",
    "                x[elem[1]] = 0\n",
    "                pq.put((aux, elem[1]))\n",
    "                if aux < new_val:\n",
    "                    new_val = aux\n",
    "                    current_best = elem[1]\n",
    "                elem = pq.get()\n",
    "            x[current_best] = 1\n",
    "            val = problem(x)\n",
    "            # print(val)"
   ]
  },
  {
   "cell_type": "code",
   "execution_count": 246,
   "id": "20e9c2dc",
   "metadata": {},
   "outputs": [
    {
     "name": "stdout",
     "output_type": "stream",
     "text": [
      "7737 11304.0\n"
     ]
    }
   ],
   "source": [
    "import math\n",
    "pb = ioh.get_problem(2000, problem_class=ioh.ProblemClass.GRAPH)\n",
    "pb.reset()\n",
    "dim_pb = max_cut.meta_data.n_variables\n",
    "pc = FastGreedy(10000, 0)\n",
    "pc(pb)\n",
    "print(pb.state.evaluations, pb.state.y_unconstrained_best)"
   ]
  },
  {
   "cell_type": "code",
   "execution_count": 238,
   "id": "65dc440c",
   "metadata": {},
   "outputs": [
    {
     "name": "stdout",
     "output_type": "stream",
     "text": [
      "2460 389.0\n"
     ]
    }
   ],
   "source": [
    "import math\n",
    "max_coverage.reset()\n",
    "dim_pb = max_cut.meta_data.n_variables\n",
    "pc = FastGreedy(10000, 0)\n",
    "pc(max_coverage)\n",
    "print(max_coverage.state.evaluations, max_coverage.state.y_unconstrained_best)"
   ]
  },
  {
   "cell_type": "markdown",
   "id": "4f6b7c3d",
   "metadata": {},
   "source": [
    "# Utils"
   ]
  },
  {
   "cell_type": "code",
   "execution_count": null,
   "id": "9c9739f1",
   "metadata": {},
   "outputs": [],
   "source": [
    "def run_experiment(problem, algorithm, n_runs=5,s=\"problem:\"):\n",
    "    for run in range(n_runs):\n",
    "        algorithm(problem)\n",
    "        print(s,problem.state.evaluations, problem.state.y_unconstrained_best)\n",
    "        problem.reset()"
   ]
  },
  {
   "cell_type": "code",
   "execution_count": null,
   "id": "c2f2e1b3",
   "metadata": {},
   "outputs": [],
   "source": [
    "import os\n",
    "\n",
    "logger_on_off = ioh.logger.Analyzer(\n",
    "    root=os.getcwd(),                  # Store data in the current working directory\n",
    "    folder_name=\"test_data\",       # in a folder named: 'my-experiment'\n",
    "    algorithm_name=\"on_off\",    # meta-data for the algorithm used to generate these results\n",
    "    store_positions=True               # store x-variables in the logged files\n",
    ")\n",
    "\n",
    "ioh.ProblemClass.GRAPH.problems\n",
    "max_cut = ioh.get_problem(2000, problem_class=ioh.ProblemClass.GRAPH)\n",
    "max_coverage = ioh.get_problem(2100, problem_class=ioh.ProblemClass.GRAPH)\n",
    "\n",
    "for i in range(2000,2005):\n",
    "    problem = ioh.get_problem(i, problem_class=ioh.ProblemClass.GRAPH)\n",
    "    problem.attach_logger(logger_on_off)\n",
    "    dim_pb = problem.meta_data.n_variables\n",
    "    lam = 10\n",
    "    offandon = OffAndOn(math.ceil(nb_it / (lam + 1)), lam, lam/dim_pb, 1/dim_pb, True, lam/dim_pb)\n",
    "    run_experiment(problem, offandon, n_runs=1)\n",
    "\n",
    "logger_on_off.close()"
   ]
  },
  {
   "cell_type": "code",
   "execution_count": null,
   "id": "0fc5ebb4",
   "metadata": {},
   "outputs": [],
   "source": [
    "logger_int_comb = ioh.logger.Analyzer(\n",
    "    root=os.getcwd(),                  \n",
    "    folder_name=\"test_data_int_comb\",       \n",
    "    algorithm_name=\"int_comb\",    \n",
    "    store_positions=True               \n",
    ")\n",
    "\n",
    "logger_int_comb\n",
    "\n",
    "print(max_coverage.state.evaluations, max_coverage.state.y_unconstrained_best)\n",
    "for i in range(2100,2128):\n",
    "    problem = ioh.get_problem(i, problem_class=ioh.ProblemClass.GRAPH)\n",
    "    problem.attach_logger(logger_int_comb)\n",
    "    dim_pb = max_coverage.meta_data.n_variables\n",
    "    lam = 20\n",
    "    intcomb = IntersectAndCombine(500, lam, 5, 1/4, 10/dim_pb, True)\n",
    "    run_experiment(problem, intcomb, n_runs=1)\n",
    "\n",
    "logger_int_comb.close()"
   ]
  },
  {
   "cell_type": "code",
   "execution_count": null,
   "id": "f46d5c03",
   "metadata": {},
   "outputs": [],
   "source": [
    "logger_int_comb_max_cut = ioh.logger.Analyzer(\n",
    "    root=os.getcwd(),                  \n",
    "    folder_name=\"test_data_int_comb_max_cut\",       \n",
    "    algorithm_name=\"int_comb\",    \n",
    "    store_positions=True               \n",
    ")\n",
    "\n",
    "logger_int_comb_max_cut\n",
    "\n",
    "for i in range(2000,2005):\n",
    "    problem = ioh.get_problem(i, problem_class=ioh.ProblemClass.GRAPH)\n",
    "    problem.attach_logger(logger_int_comb_max_cut)\n",
    "    dim_pb = max_coverage.meta_data.n_variables\n",
    "    lam = 20\n",
    "    intcomb = IntersectAndCombine(500, lam, 5, 1/4, 10/dim_pb, True)\n",
    "    run_experiment(problem, offandon, n_runs=1)\n",
    "\n",
    "logger_int_comb_max_cut.close()"
   ]
  },
  {
   "cell_type": "code",
   "execution_count": null,
   "id": "d60392c7",
   "metadata": {},
   "outputs": [],
   "source": [
    "# 2300-2304 pachwhiletravel\n",
    "for i in range(2300,2305):\n",
    "    problem = ioh.get_problem(i, problem_class=ioh.ProblemClass.GRAPH)\n",
    "    dim_pb = problem.meta_data.n_variables\n",
    "    lam = 20\n",
    "    intcomb = IntersectAndCombine(500, lam, 5, 1/4, 10/dim_pb, True)\n",
    "    run_experiment(problem, intcomb, n_runs=1,s=\"intcomb:\")\n",
    "    problem.reset()\n",
    "    ea = EA_1p1(nb_it, 1/dim_pb)\n",
    "    run_experiment(problem, ea, n_runs=1,s=\"ea:\")\n",
    "    problem.reset()"
   ]
  },
  {
   "cell_type": "code",
   "execution_count": null,
   "id": "4b7c60f8",
   "metadata": {},
   "outputs": [],
   "source": [
    "#maxinfluence\n",
    "for i in range(2200,2205):\n",
    "    problem = ioh.get_problem(i, problem_class=ioh.ProblemClass.GRAPH)\n",
    "    dim_pb = problem.meta_data.n_variables\n",
    "    lam = 20\n",
    "    intcomb = IntersectAndCombine(500, lam, 5, 1/4, 10/dim_pb, True)\n",
    "    run_experiment(problem, intcomb, n_runs=1,s=\"intcomb:\")\n",
    "    problem.reset()\n",
    "    ea = EA_1p1(nb_it, 1/dim_pb)\n",
    "    run_experiment(problem, ea, n_runs=1,s=\"ea:\")\n",
    "    problem.reset()"
   ]
  }
 ],
 "metadata": {
  "kernelspec": {
   "display_name": "Python 3 (ipykernel)",
   "language": "python",
   "name": "python3"
  },
  "language_info": {
   "codemirror_mode": {
    "name": "ipython",
    "version": 3
   },
   "file_extension": ".py",
   "mimetype": "text/x-python",
   "name": "python",
   "nbconvert_exporter": "python",
   "pygments_lexer": "ipython3",
   "version": "3.9.6"
  }
 },
 "nbformat": 4,
 "nbformat_minor": 5
}
