{
 "cells": [
  {
   "cell_type": "code",
   "execution_count": null,
   "id": "825dc90f",
   "metadata": {},
   "outputs": [],
   "source": [
    "import numpy as np\n",
    "import ioh"
   ]
  },
  {
   "cell_type": "code",
   "execution_count": null,
   "id": "01404810",
   "metadata": {},
   "outputs": [],
   "source": [
    "ioh.ProblemClass.GRAPH.problems"
   ]
  },
  {
   "cell_type": "code",
   "execution_count": null,
   "id": "616b30e5",
   "metadata": {},
   "outputs": [],
   "source": [
    "max_cut = ioh.get_problem(2000, problem_class=ioh.ProblemClass.GRAPH)\n",
    "max_coverage = ioh.get_problem(2100, problem_class=ioh.ProblemClass.GRAPH)"
   ]
  },
  {
   "cell_type": "code",
   "execution_count": null,
   "id": "931a6308",
   "metadata": {},
   "outputs": [],
   "source": [
    "print(max_cut.meta_data)\n",
    "print(max_coverage.meta_data)"
   ]
  },
  {
   "cell_type": "code",
   "execution_count": null,
   "id": "21158393",
   "metadata": {},
   "outputs": [],
   "source": [
    "nb_it = 10000"
   ]
  },
  {
   "cell_type": "code",
   "execution_count": null,
   "id": "bcc6354e",
   "metadata": {},
   "outputs": [],
   "source": [
    "x_mcov = cut = np.random.randint(0,2,max_coverage.meta_data.n_variables)\n",
    "val = max_coverage(x_mcov)\n",
    "# help(max_coverage.optimum)\n",
    "for ind in ioh.ProblemClass.GRAPH.problems:\n",
    "    p = ioh.get_problem(ind, problem_class=ioh.ProblemClass.GRAPH)\n",
    "    if np.any(p.optimum.x):\n",
    "        print(p.meta_data)"
   ]
  },
  {
   "cell_type": "markdown",
   "id": "71183e84-451f-4cf1-a382-250fea68ac4d",
   "metadata": {},
   "source": [
    "# 1/2-approximation for MaxCut"
   ]
  },
  {
   "cell_type": "markdown",
   "id": "75700e20-5143-4c4c-b45e-e4ffeabd13f0",
   "metadata": {},
   "source": [
    "Proof in Bertrand Meyer's Advanced Algorithms lecture"
   ]
  },
  {
   "cell_type": "code",
   "execution_count": null,
   "id": "9109a21f-84fc-4af2-b665-131af94ad99c",
   "metadata": {},
   "outputs": [],
   "source": [
    "max_cut.reset()"
   ]
  },
  {
   "cell_type": "code",
   "execution_count": null,
   "id": "e558ad49-fee1-4839-9db5-c9fce347f7cf",
   "metadata": {},
   "outputs": [],
   "source": [
    "cut = np.random.randint(0,2,max_cut.meta_data.n_variables)\n",
    "max_cut(cut)\n",
    "print(max_cut.state)"
   ]
  },
  {
   "cell_type": "markdown",
   "id": "299c3603",
   "metadata": {},
   "source": [
    "# RLS"
   ]
  },
  {
   "cell_type": "code",
   "execution_count": null,
   "id": "c64b1486",
   "metadata": {},
   "outputs": [],
   "source": [
    "import numpy as np\n",
    "\n",
    "class RandomLocalSearch:\n",
    "    'Random local search algorithm'\n",
    "    def __init__(self, n: int):\n",
    "        self.n: int = n\n",
    "        \n",
    "    def __call__(self, problem: ioh.ProblemClass.GRAPH) -> None:\n",
    "        'For each it flip 1 bit chosen uar and keep the best of both'\n",
    "        \n",
    "        x = np.random.randint(0,2,problem.meta_data.n_variables)\n",
    "        val = problem(x)\n",
    "        for _ in range(self.n):\n",
    "            index_to_flip = np.random.randint(0,problem.meta_data.n_variables)\n",
    "            y = x\n",
    "            y[index_to_flip] = 1 - y[index_to_flip]\n",
    "            val_y = problem(y)\n",
    "            if val_y > val:\n",
    "                x = y\n",
    "                val = val_y"
   ]
  },
  {
   "cell_type": "code",
   "execution_count": null,
   "id": "7ca72e38",
   "metadata": {},
   "outputs": [],
   "source": [
    "max_coverage.reset()\n",
    "r = RandomLocalSearch(nb_it)\n",
    "r(max_coverage)\n",
    "print(max_coverage.state.evaluations, max_coverage.state.y_unconstrained, max_coverage.state.y_unconstrained_best)"
   ]
  },
  {
   "cell_type": "code",
   "execution_count": null,
   "id": "8e5e816c",
   "metadata": {},
   "outputs": [],
   "source": [
    "max_cut.reset()\n",
    "r = RandomLocalSearch(nb_it)\n",
    "r(max_cut)\n",
    "print(max_cut.state.evaluations, max_cut.state.y_unconstrained, max_cut.state.y_unconstrained_best)"
   ]
  },
  {
   "cell_type": "markdown",
   "id": "62c84335",
   "metadata": {},
   "source": [
    "# (1+1) EA "
   ]
  },
  {
   "cell_type": "code",
   "execution_count": null,
   "id": "d563e4a1",
   "metadata": {},
   "outputs": [],
   "source": [
    "class EA_1p1:\n",
    "    '(1+1)-EA'\n",
    "    def __init__(self, n: int, p : float):\n",
    "        self.n: int = n\n",
    "        self.p: float = p\n",
    "        \n",
    "    def __call__(self, problem: ioh.ProblemClass.GRAPH) -> None:\n",
    "        x = np.random.randint(0,2,problem.meta_data.n_variables)\n",
    "        val = problem(x)\n",
    "        for _ in range(self.n):\n",
    "            y = x.copy()\n",
    "            for ind in range(len(x)):\n",
    "                y[ind] = 1 - y[ind] if np.random.binomial(1,self.p) else y[ind]\n",
    "            val_y = problem(y)\n",
    "            if val_y > val:\n",
    "                x = y\n",
    "                val = val_y"
   ]
  },
  {
   "cell_type": "code",
   "execution_count": 732,
   "id": "405ede91",
   "metadata": {},
   "outputs": [
    {
     "name": "stdout",
     "output_type": "stream",
     "text": [
      "10001 -3.0 416.0\n"
     ]
    }
   ],
   "source": [
    "max_coverage.reset()\n",
    "ea_11 = EA_1p1(nb_it, 1/max_coverage.meta_data.n_variables)\n",
    "ea_11(max_coverage)\n",
    "print(max_coverage.state.evaluations, max_coverage.state.y_unconstrained, max_coverage.state.y_unconstrained_best)"
   ]
  },
  {
   "cell_type": "code",
   "execution_count": 733,
   "id": "ea318881",
   "metadata": {},
   "outputs": [
    {
     "name": "stdout",
     "output_type": "stream",
     "text": [
      "10001 10984.0 11001.0\n"
     ]
    }
   ],
   "source": [
    "max_cut.reset()\n",
    "ea_11 = EA_1p1(nb_it, np.log(max_cut.meta_data.n_variables)/max_cut.meta_data.n_variables)\n",
    "ea_11(max_cut)\n",
    "print(max_cut.state.evaluations, max_cut.state.y_unconstrained, max_cut.state.y_unconstrained_best)"
   ]
  },
  {
   "cell_type": "markdown",
   "id": "16f12129",
   "metadata": {},
   "source": [
    "# (1+($\\lambda, \\lambda$)) EA "
   ]
  },
  {
   "cell_type": "code",
   "execution_count": null,
   "id": "c6e94680-f128-473e-a169-8679e3153d6c",
   "metadata": {},
   "outputs": [],
   "source": [
    "max_cut.reset()"
   ]
  },
  {
   "cell_type": "code",
   "execution_count": null,
   "id": "8accd9ad",
   "metadata": {},
   "outputs": [],
   "source": [
    "import random\n",
    "\n",
    "class EA_1plamlam:\n",
    "    '(1+(lam,lam))-EA'\n",
    "    def __init__(self, n: int, lam : int, p : float, c : float):\n",
    "        self.n: int = n\n",
    "        self.lam: int = lam\n",
    "        self.p: float = p\n",
    "        self.c: float = c\n",
    "        \n",
    "    def __call__(self, problem: ioh.ProblemClass.GRAPH) -> None:\n",
    "        length_x = problem.meta_data.n_variables\n",
    "        x = np.random.randint(0,2,length_x)\n",
    "        val = problem(x)\n",
    "        for _ in range(self.n):\n",
    "            L = np.random.binomial(length_x, self.p)\n",
    "            xp = None\n",
    "            best_val = None # we allow for worse values than x\n",
    "            for _ in range(self.lam):\n",
    "                bits_to_flip = random.sample(range(length_x), L)\n",
    "                new_xp = x.copy()\n",
    "                for i in bits_to_flip:\n",
    "                    new_xp[i] = 1 - new_xp[i] if np.random.binomial(1, self.p) else new_xp[i]\n",
    "            val_new_xp = problem(new_xp)\n",
    "            if best_val is None or val_new_xp > best_val:\n",
    "                xp = new_xp\n",
    "                best_val = val_new_xp \n",
    "            y = x.copy()\n",
    "            best_val = None\n",
    "            for _ in range(self.lam):\n",
    "                new_y = x.copy()\n",
    "                for i in range(length_x):\n",
    "                    if np.random.binomial(1,self.c):\n",
    "                        new_y[i] = xp[i]\n",
    "                val_new_y = problem(new_y)\n",
    "                if best_val is None or val_new_y > best_val:\n",
    "                    y = new_y\n",
    "                    best_val = val_new_y\n",
    "            if best_val > val:\n",
    "                x = y\n",
    "                val = best_val"
   ]
  },
  {
   "cell_type": "code",
   "execution_count": 728,
   "id": "e3c305bd",
   "metadata": {},
   "outputs": [
    {
     "name": "stdout",
     "output_type": "stream",
     "text": [
      "11001 -223.0 -222.0\n"
     ]
    }
   ],
   "source": [
    "import math\n",
    "max_coverage.reset()\n",
    "dim_pb = max_coverage.meta_data.n_variables\n",
    "ea_1lamlam = EA_1plamlam(math.ceil(nb_it / (10)), 10, 1/dim_pb, 1/dim_pb)\n",
    "ea_1lamlam(max_coverage)\n",
    "print(max_coverage.state.evaluations, max_coverage.state.y_unconstrained, max_coverage.state.y_unconstrained_best)"
   ]
  },
  {
   "cell_type": "code",
   "execution_count": 729,
   "id": "77714957",
   "metadata": {},
   "outputs": [
    {
     "name": "stdout",
     "output_type": "stream",
     "text": [
      "11001 9541.0 9541.0\n"
     ]
    }
   ],
   "source": [
    "import math\n",
    "max_cut.reset()\n",
    "dim_pb = max_cut.meta_data.n_variables\n",
    "ea_1lamlam = EA_1plamlam(math.ceil(nb_it / (10)), 10, 1/dim_pb, 1/dim_pb)\n",
    "ea_1lamlam(max_cut)\n",
    "print(max_cut.state.evaluations, max_cut.state.y_unconstrained, max_cut.state.y_unconstrained_best)"
   ]
  },
  {
   "cell_type": "markdown",
   "id": "5c1585f2",
   "metadata": {},
   "source": [
    "# First idea \n",
    "as dealing with submodular functions, we may want to select the arguments that make it grow \"the most at first\" --> as when adding more elements we face diminishing returns\n",
    "so from a solution x -> we build lam xs turning off L bits of uar and keeping the best -> we then build lam ys by flipping on L' bits of the best xs uniformly at random and keeping the best y --> then we turn on each bit present in y and not in x\n",
    "\n",
    "problem: solution x keeps growing?\n",
    "how to stop that?"
   ]
  },
  {
   "cell_type": "code",
   "execution_count": null,
   "id": "0ed627ea",
   "metadata": {},
   "outputs": [],
   "source": [
    "class OffAndOn:\n",
    "    def __init__(self, n: int, lam : int, p_off : float, p_on : float, c : float):\n",
    "        self.n: int = n\n",
    "        self.p_off: int = p_off\n",
    "        self.p_on: int = p_on\n",
    "        self.lam: float = lam\n",
    "        self.c: bool = c\n",
    "        \n",
    "        \n",
    "    def __call__(self, problem: ioh.ProblemClass.GRAPH) -> None:\n",
    "        x = np.zeros(problem.meta_data.n_variables, dtype=int)\n",
    "        val = problem(x)\n",
    "        x_ = np.random.randint(0,2,problem.meta_data.n_variables)\n",
    "        val_ = problem(x)\n",
    "        if val_ > val:\n",
    "            x = x_\n",
    "        for _ in range(self.n):\n",
    "            L = np.random.binomial(problem.meta_data.n_variables, self.p_off)\n",
    "            xp = None\n",
    "            best_val = None \n",
    "            for _ in range(self.lam):\n",
    "                # mutation 1 : we turn off L bits \n",
    "                bits_to_flip = random.sample(range(problem.meta_data.n_variables), L)\n",
    "                new_xp = x.copy()\n",
    "                for i in bits_to_flip:\n",
    "                    new_xp[i] = 0\n",
    "            val_new_xp = problem(new_xp)\n",
    "            if best_val is None or val_new_xp > best_val:\n",
    "                xp = new_xp\n",
    "                best_val = val_new_xp \n",
    "            L = np.random.binomial(problem.meta_data.n_variables, self.p_on)\n",
    "            y = xp.copy()\n",
    "            best_val = None\n",
    "            for _ in range(self.lam):\n",
    "                # mutation 2 : we turn on L bits\n",
    "                new_y = x.copy()\n",
    "                bits_to_flip = random.sample(range(problem.meta_data.n_variables), L)\n",
    "                for i in bits_to_flip:\n",
    "                    new_y[i] = 1\n",
    "                val_new_y = problem(new_y)\n",
    "                if best_val is None or val_new_y > best_val:\n",
    "                    y = new_y\n",
    "                    best_val = val_new_y\n",
    "            # mix:\n",
    "            # if bit in y and not in x then I turn it on \n",
    "            mix = [0] * problem.meta_data.n_variables\n",
    "            for i in range(problem.meta_data.n_variables):\n",
    "                pc = np.random.binomial(1, self.c)\n",
    "                if y[i] and not x[i]:\n",
    "                    mix[i] = 1 if not pc else 0\n",
    "                else:\n",
    "                    mix[i] = x[i] if not pc else y[i]\n",
    "            val_new = problem(mix)\n",
    "            if val_new > val:\n",
    "                x = mix\n",
    "                val = best_val\n",
    "            "
   ]
  },
  {
   "cell_type": "code",
   "execution_count": 701,
   "id": "2654b399",
   "metadata": {},
   "outputs": [
    {
     "name": "stdout",
     "output_type": "stream",
     "text": [
      "10921 10017.0\n"
     ]
    }
   ],
   "source": [
    "import math\n",
    "max_cut.reset()\n",
    "dim_pb = max_cut.meta_data.n_variables\n",
    "lam = 10\n",
    "offandon = OffAndOn(math.ceil(nb_it / (lam + 1)), lam, lam/dim_pb, 1/dim_pb, False, lam/dim_pb)\n",
    "offandon(max_cut)\n",
    "print(max_cut.state.evaluations, max_cut.state.y_unconstrained_best)"
   ]
  },
  {
   "cell_type": "code",
   "execution_count": 727,
   "id": "adbbaa52",
   "metadata": {},
   "outputs": [
    {
     "name": "stdout",
     "output_type": "stream",
     "text": [
      "10921 417.0\n"
     ]
    }
   ],
   "source": [
    "import math\n",
    "max_coverage.reset()\n",
    "dim_pb = max_coverage.meta_data.n_variables\n",
    "lam = 10\n",
    "offandon = OffAndOn(math.ceil(nb_it / (lam + 1)), lam, lam/dim_pb, 1/dim_pb, True, lam/dim_pb)\n",
    "offandon(max_coverage)\n",
    "print(max_coverage.state.evaluations, max_coverage.state.y_unconstrained_best)"
   ]
  },
  {
   "cell_type": "markdown",
   "id": "eafbc0d2",
   "metadata": {},
   "source": [
    "# Second idea:\n",
    "\n",
    "from x:\n",
    " - generate lam children by flipping bits randomly \n",
    " - take the lam2 best and do the intersection --> those are the \"best elements to keep\"\n",
    " - combine x and the intersection"
   ]
  },
  {
   "cell_type": "code",
   "execution_count": 707,
   "id": "a3e5e48b",
   "metadata": {},
   "outputs": [],
   "source": [
    "class IntersectAndCombine:\n",
    "    def __init__(self, n: int, lam: int, lam2: int, p: float, c: float, init_a_0 : bool):\n",
    "        self.n: int = n\n",
    "        self.p: int = p\n",
    "        self.c: int = c\n",
    "        self.lam: float = lam\n",
    "        self.lam2: float = lam2\n",
    "        self.init_a_0: float = init_a_0\n",
    "\n",
    "    def generate_child(self, x):\n",
    "        y = x.copy()\n",
    "        for ind in range(len(x)):\n",
    "            y[ind] = 1 - y[ind] if np.random.binomial(1,self.p) else y[ind]\n",
    "        return y\n",
    "\n",
    "    def intersection(self, x, y):\n",
    "        return np.logical_and(x, y).astype(int)\n",
    "\n",
    "    def union(self, x, y):\n",
    "        return np.logical_or(x, y).astype(int)\n",
    "\n",
    "    def __call__(self, problem: ioh.ProblemClass.GRAPH) -> None:\n",
    "        if self.init_a_0:\n",
    "            x = np.zeros(problem.meta_data.n_variables, dtype=int)\n",
    "            val = problem(x)\n",
    "        else:\n",
    "            x = np.random.randint(0, 2, problem.meta_data.n_variables)\n",
    "            val = problem(x)\n",
    "        for tour in range(self.n):\n",
    "            values = []\n",
    "            children = []\n",
    "            for _ in range(self.lam):\n",
    "                x_ = self.generate_child(x)\n",
    "                values.append(problem(x_))\n",
    "                children.append(x_)\n",
    "\n",
    "            children = np.array(children)\n",
    "            sorted_inds = np.argsort(values)[:self.lam2]\n",
    "            children = children[sorted_inds]\n",
    "            intersection = np.logical_and.reduce(children).astype(int) # intersection will be small\n",
    "\n",
    "            mix = [1 if intersection[i] else (intersection[i] if np.random.binomial(\n",
    "                1, self.c) else x[i]) for i in range(problem.meta_data.n_variables)]\n",
    "            val_mix = problem(mix)\n",
    "\n",
    "            union = self.union(mix.copy(),x.copy())\n",
    "            val_u = problem(union)\n",
    "\n",
    "            ind = np.argmax([val, val_mix, val_u])\n",
    "            \n",
    "            val = [val, val_mix, val_u][ind]\n",
    "            x = [x, mix, union][ind]  \n",
    "            if (ind != 0):\n",
    "                self.p = max(10/problem.meta_data.n_variables, self.p / 1.01)\n",
    "                print(tour, \"update\", self.p) "
   ]
  },
  {
   "cell_type": "code",
   "execution_count": 718,
   "id": "95a4450a",
   "metadata": {},
   "outputs": [
    {
     "name": "stdout",
     "output_type": "stream",
     "text": [
      "2 update 0.24752475247524752\n",
      "5 update 0.2450740123517302\n",
      "7 update 0.2426475369819111\n",
      "8 update 0.24024508612070405\n",
      "11 update 0.2378664219016872\n",
      "12 update 0.23551130881355167\n",
      "14 update 0.23317951367678383\n",
      "19 update 0.23087080562057805\n",
      "25 update 0.22858495605997825\n",
      "34 update 0.2263217386732458\n",
      "35 update 0.22408092937945126\n",
      "39 update 0.22186230631628837\n",
      "40 update 0.2196656498181073\n",
      "48 update 0.21749074239416563\n",
      "60 update 0.2153373687070947\n",
      "64 update 0.2132053155515789\n",
      "67 update 0.21109437183324645\n",
      "76 update 0.20900432854776876\n",
      "79 update 0.2069349787601671\n",
      "80 update 0.20488611758432385\n",
      "89 update 0.20285754216269689\n",
      "94 update 0.20084905164623454\n",
      "95 update 0.19886044717448964\n",
      "97 update 0.19689153185593034\n",
      "101 update 0.19494211074844586\n",
      "103 update 0.19301199084004542\n",
      "105 update 0.19110098102974793\n",
      "106 update 0.18920889210866132\n",
      "107 update 0.18733553674124884\n",
      "109 update 0.185480729446781\n",
      "112 update 0.1836442865809713\n",
      "118 update 0.18182602631779335\n",
      "121 update 0.18002576863147857\n",
      "124 update 0.17824333527869166\n",
      "125 update 0.17647854978088282\n",
      "128 update 0.17473123740681468\n",
      "131 update 0.17300122515526206\n",
      "132 update 0.17128834173788324\n",
      "140 update 0.16959241756226062\n",
      "142 update 0.16791328471510952\n",
      "146 update 0.166250776945653\n",
      "147 update 0.16460472964916137\n",
      "149 update 0.16297497985065482\n",
      "150 update 0.16136136618876715\n",
      "154 update 0.15976372889976945\n",
      "166 update 0.15818190980175192\n",
      "176 update 0.1566157522789623\n",
      "191 update 0.1550651012662993\n",
      "196 update 0.1535298032339597\n",
      "198 update 0.15200970617223733\n",
      "201 update 0.1505046595764726\n",
      "203 update 0.14901451443215108\n",
      "206 update 0.14753912320014959\n",
      "207 update 0.1460783398021283\n",
      "209 update 0.14463201960606764\n",
      "220 update 0.14320001941194815\n",
      "230 update 0.14178219743757242\n",
      "238 update 0.14037841330452716\n",
      "246 update 0.13898852802428432\n",
      "250 update 0.1376124039844399\n",
      "253 update 0.136249904935089\n",
      "260 update 0.13490089597533567\n",
      "262 update 0.1335652435399363\n",
      "264 update 0.13224281538607555\n",
      "267 update 0.13093348058027282\n",
      "272 update 0.12963710948541862\n",
      "276 update 0.12835357374793924\n",
      "278 update 0.12708274628508837\n",
      "286 update 0.12582450127236472\n",
      "291 update 0.12457871413105417\n",
      "292 update 0.12334526151589523\n",
      "298 update 0.12212402130286656\n",
      "300 update 0.12091487257709561\n",
      "302 update 0.11971769562088674\n",
      "305 update 0.11853237190186806\n",
      "306 update 0.11735878406125551\n",
      "308 update 0.11619681590223317\n",
      "311 update 0.11504635237844868\n",
      "314 update 0.11390727958262245\n",
      "315 update 0.11277948473526975\n",
      "328 update 0.1116628561735344\n",
      "331 update 0.11055728334013307\n",
      "333 update 0.10946265677240898\n",
      "334 update 0.10837886809149404\n",
      "339 update 0.10730580999157825\n",
      "340 update 0.1062433762292854\n",
      "341 update 0.10519146161315386\n",
      "347 update 0.10414996199322164\n",
      "350 update 0.1031187742507145\n",
      "353 update 0.10209779628783613\n",
      "354 update 0.10108692701765953\n",
      "357 update 0.10008606635411835\n",
      "371 update 0.09909511520209738\n",
      "373 update 0.09811397544762117\n",
      "375 update 0.09714254994813977\n",
      "376 update 0.09618074252291066\n",
      "388 update 0.0952284579434759\n",
      "403 update 0.09428560192423356\n",
      "420 update 0.09335208111310253\n",
      "424 update 0.09242780308227973\n",
      "436 update 0.09151267631908884\n",
      "438 update 0.09060661021691964\n",
      "458 update 0.08970951506625707\n",
      "464 update 0.08882130204579908\n",
      "468 update 0.08794188321366245\n",
      "475 update 0.08707117149867569\n",
      "495 update 0.0862090806917581\n",
      "499 update 0.08535552543738426\n",
      "506 update 0.08451042122513293\n",
      "509 update 0.08367368438131972\n",
      "515 update 0.08284523206071259\n",
      "555 update 0.0820249822383293\n",
      "572 update 0.08121285370131613\n",
      "575 update 0.08040876604090706\n",
      "596 update 0.07961263964446244\n",
      "615 update 0.07882439568758658\n",
      "658 update 0.07804395612632334\n",
      "677 update 0.07727124368942904\n",
      "691 update 0.07650618187072182\n",
      "703 update 0.07574869492150675\n",
      "705 update 0.074998707843076\n",
      "724 update 0.07425614637928317\n",
      "732 update 0.07352093700919125\n",
      "734 update 0.07279300693979332\n",
      "791 update 0.07207228409880527\n",
      "814 update 0.07135869712752997\n",
      "817 update 0.07065217537379205\n",
      "853 update 0.06995264888494263\n",
      "854 update 0.06926004840093329\n",
      "858 update 0.0685743053474587\n",
      "863 update 0.06789535182916703\n",
      "878 update 0.06722312062293766\n",
      "881 update 0.0665575451712254\n",
      "929 update 0.0658985595754707\n",
      "946 update 0.06524609858957495\n",
      "982 update 0.06460009761344054\n",
      "1004 update 0.06396049268657479\n",
      "1006 update 0.06332722048175722\n",
      "1007 update 0.06270021829876953\n",
      "1009 update 0.06207942405818765\n",
      "1015 update 0.06146477629523529\n",
      "1070 update 0.06085621415369831\n",
      "1071 update 0.06025367737989932\n",
      "1079 update 0.059657106316731996\n",
      "1092 update 0.05906644189775445\n",
      "1111 update 0.05848162564134104\n",
      "1113 update 0.05790259964489212\n",
      "1138 update 0.057329306579101104\n",
      "1150 update 0.05676168968227832\n",
      "1203 update 0.05619969275473101\n",
      "1225 update 0.055643260153199016\n",
      "1232 update 0.05509233678534556\n",
      "1237 update 0.05454686810430253\n",
      "1271 update 0.05400680010326983\n",
      "1298 update 0.05347207931016815\n",
      "1299 update 0.0529426527823447\n",
      "13001 10660.0\n"
     ]
    }
   ],
   "source": [
    "import math\n",
    "max_cut.reset()\n",
    "dim_pb = max_cut.meta_data.n_variables\n",
    "lam = 8\n",
    "intcomb = IntersectAndCombine(1300, lam, 3, 1/4, 10/dim_pb, False)\n",
    "intcomb(max_cut)\n",
    "print(max_cut.state.evaluations, max_cut.state.y_unconstrained_best)"
   ]
  },
  {
   "cell_type": "code",
   "execution_count": 726,
   "id": "3e7b4585",
   "metadata": {},
   "outputs": [
    {
     "name": "stdout",
     "output_type": "stream",
     "text": [
      "0 update 0.24752475247524752\n",
      "1 update 0.2450740123517302\n",
      "5 update 0.2426475369819111\n",
      "6 update 0.24024508612070405\n",
      "9 update 0.2378664219016872\n",
      "10 update 0.23551130881355167\n",
      "11 update 0.23317951367678383\n",
      "15 update 0.23087080562057805\n",
      "41 update 0.22858495605997825\n",
      "53 update 0.2263217386732458\n",
      "87 update 0.22408092937945126\n",
      "300 update 0.22186230631628837\n",
      "315 update 0.2196656498181073\n",
      "481 update 0.21749074239416563\n",
      "11901 427.0\n"
     ]
    }
   ],
   "source": [
    "import math\n",
    "max_coverage.reset()\n",
    "dim_pb = max_coverage.meta_data.n_variables\n",
    "lam = 15\n",
    "intcomb = IntersectAndCombine(700, lam, 5, 1/4, 10/dim_pb, True)\n",
    "intcomb(max_coverage)\n",
    "print(max_coverage.state.evaluations, max_coverage.state.y_unconstrained_best)"
   ]
  }
 ],
 "metadata": {
  "kernelspec": {
   "display_name": "Python 3 (ipykernel)",
   "language": "python",
   "name": "python3"
  },
  "language_info": {
   "codemirror_mode": {
    "name": "ipython",
    "version": 3
   },
   "file_extension": ".py",
   "mimetype": "text/x-python",
   "name": "python",
   "nbconvert_exporter": "python",
   "pygments_lexer": "ipython3",
   "version": "3.8.10"
  }
 },
 "nbformat": 4,
 "nbformat_minor": 5
}
