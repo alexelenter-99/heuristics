{
 "cells": [
  {
   "cell_type": "code",
   "execution_count": 80,
   "id": "825dc90f",
   "metadata": {},
   "outputs": [],
   "source": [
    "import numpy as np\n",
    "import ioh"
   ]
  },
  {
   "cell_type": "code",
   "execution_count": 81,
   "id": "01404810",
   "metadata": {},
   "outputs": [
    {
     "data": {
      "text/plain": [
       "{2000: 'MaxCut2000',\n",
       " 2001: 'MaxCut2001',\n",
       " 2002: 'MaxCut2002',\n",
       " 2003: 'MaxCut2003',\n",
       " 2004: 'MaxCut2004',\n",
       " 2100: 'MaxCoverage2100',\n",
       " 2101: 'MaxCoverage2101',\n",
       " 2102: 'MaxCoverage2102',\n",
       " 2103: 'MaxCoverage2103',\n",
       " 2104: 'MaxCoverage2104',\n",
       " 2105: 'MaxCoverage2105',\n",
       " 2106: 'MaxCoverage2106',\n",
       " 2107: 'MaxCoverage2107',\n",
       " 2108: 'MaxCoverage2108',\n",
       " 2109: 'MaxCoverage2109',\n",
       " 2110: 'MaxCoverage2110',\n",
       " 2111: 'MaxCoverage2111',\n",
       " 2112: 'MaxCoverage2112',\n",
       " 2113: 'MaxCoverage2113',\n",
       " 2114: 'MaxCoverage2114',\n",
       " 2115: 'MaxCoverage2115',\n",
       " 2116: 'MaxCoverage2116',\n",
       " 2117: 'MaxCoverage2117',\n",
       " 2118: 'MaxCoverage2118',\n",
       " 2119: 'MaxCoverage2119',\n",
       " 2120: 'MaxCoverage2120',\n",
       " 2121: 'MaxCoverage2121',\n",
       " 2122: 'MaxCoverage2122',\n",
       " 2123: 'MaxCoverage2123',\n",
       " 2124: 'MaxCoverage2124',\n",
       " 2125: 'MaxCoverage2125',\n",
       " 2126: 'MaxCoverage2126',\n",
       " 2127: 'MaxCoverage2127',\n",
       " 2200: 'MaxInfluence2200',\n",
       " 2201: 'MaxInfluence2201',\n",
       " 2202: 'MaxInfluence2202',\n",
       " 2203: 'MaxInfluence2203',\n",
       " 2204: 'MaxInfluence2204',\n",
       " 2205: 'MaxInfluence2205',\n",
       " 2206: 'MaxInfluence2206',\n",
       " 2207: 'MaxInfluence2207',\n",
       " 2208: 'MaxInfluence2208',\n",
       " 2209: 'MaxInfluence2209',\n",
       " 2210: 'MaxInfluence2210',\n",
       " 2211: 'MaxInfluence2211',\n",
       " 2212: 'MaxInfluence2212',\n",
       " 2213: 'MaxInfluence2213',\n",
       " 2214: 'MaxInfluence2214',\n",
       " 2215: 'MaxInfluence2215',\n",
       " 2216: 'MaxInfluence2216',\n",
       " 2217: 'MaxInfluence2217',\n",
       " 2218: 'MaxInfluence2218',\n",
       " 2219: 'MaxInfluence2219',\n",
       " 2220: 'MaxInfluence2220',\n",
       " 2221: 'MaxInfluence2221',\n",
       " 2222: 'MaxInfluence2222',\n",
       " 2223: 'MaxInfluence2223',\n",
       " 2300: 'PackWhileTravel2300',\n",
       " 2301: 'PackWhileTravel2301',\n",
       " 2302: 'PackWhileTravel2302',\n",
       " 2303: 'PackWhileTravel2303',\n",
       " 2304: 'PackWhileTravel2304',\n",
       " 2305: 'PackWhileTravel2305',\n",
       " 2306: 'PackWhileTravel2306',\n",
       " 2307: 'PackWhileTravel2307',\n",
       " 2308: 'PackWhileTravel2308'}"
      ]
     },
     "execution_count": 81,
     "metadata": {},
     "output_type": "execute_result"
    }
   ],
   "source": [
    "ioh.ProblemClass.GRAPH.problems"
   ]
  },
  {
   "cell_type": "code",
   "execution_count": 267,
   "id": "616b30e5",
   "metadata": {},
   "outputs": [],
   "source": [
    "max_cut = ioh.get_problem(2003, problem_class=ioh.ProblemClass.GRAPH)\n",
    "max_coverage = ioh.get_problem(2101, problem_class=ioh.ProblemClass.GRAPH)"
   ]
  },
  {
   "cell_type": "code",
   "execution_count": 83,
   "id": "931a6308",
   "metadata": {},
   "outputs": [
    {
     "name": "stdout",
     "output_type": "stream",
     "text": [
      "<MetaData: MaxCut2000 id: 2000 iid: 1 dim: 800>\n",
      "<MetaData: MaxCoverage2100 id: 2100 iid: 1 dim: 450>\n"
     ]
    }
   ],
   "source": [
    "print(max_cut.meta_data)\n",
    "print(max_coverage.meta_data)"
   ]
  },
  {
   "cell_type": "code",
   "execution_count": 137,
   "id": "21158393",
   "metadata": {},
   "outputs": [],
   "source": [
    "nb_it = 10000"
   ]
  },
  {
   "cell_type": "code",
   "execution_count": 117,
   "id": "bcc6354e",
   "metadata": {},
   "outputs": [],
   "source": [
    "x_mcov = cut = np.random.randint(0,2,max_coverage.meta_data.n_variables)\n",
    "val = max_coverage(x_mcov)\n",
    "# help(max_coverage.optimum)\n",
    "for ind in ioh.ProblemClass.GRAPH.problems:\n",
    "    p = ioh.get_problem(ind, problem_class=ioh.ProblemClass.GRAPH)\n",
    "    if np.any(p.optimum.x):\n",
    "        print(p.meta_data)"
   ]
  },
  {
   "cell_type": "markdown",
   "id": "71183e84-451f-4cf1-a382-250fea68ac4d",
   "metadata": {},
   "source": [
    "# 1/2-approximation for MaxCut"
   ]
  },
  {
   "cell_type": "markdown",
   "id": "75700e20-5143-4c4c-b45e-e4ffeabd13f0",
   "metadata": {},
   "source": [
    "Proof in Bertrand Meyer's Advanced Algorithms lecture"
   ]
  },
  {
   "cell_type": "code",
   "execution_count": 85,
   "id": "9109a21f-84fc-4af2-b665-131af94ad99c",
   "metadata": {},
   "outputs": [],
   "source": [
    "max_cut.reset()"
   ]
  },
  {
   "cell_type": "code",
   "execution_count": 98,
   "id": "e558ad49-fee1-4839-9db5-c9fce347f7cf",
   "metadata": {},
   "outputs": [
    {
     "name": "stdout",
     "output_type": "stream",
     "text": [
      "<State evaluations: 1 optimum_found: false current_best: <Solution x: [0, 1, 0, 0, 1, 0, 0, 0, 0, 1, 1, 0, 0, 0, 0, 1, 1, 0, 0, 0, 1, 1, 1, 1, 1, 1, 1, 1, 1, 1, 1, 1, 0, 0, 1, 1, 0, 0, 0, 0, 0, 1, 0, 1, 1, 1, 1, 0, 1, 1, 1, 0, 0, 0, 1, 1, 0, 0, 0, 1, 1, 1, 1, 0, 0, 0, 1, 1, 0, 0, 1, 0, 0, 0, 1, 0, 1, 0, 1, 1, 1, 0, 0, 1, 1, 0, 1, 1, 1, 0, 1, 0, 0, 0, 1, 1, 1, 0, 0, 1, 0, 0, 0, 0, 0, 0, 1, 0, 1, 1, 1, 0, 1, 1, 0, 1, 1, 0, 0, 0, 1, 1, 0, 0, 0, 1, 0, 1, 0, 1, 1, 0, 1, 1, 0, 0, 1, 1, 1, 0, 1, 0, 1, 1, 1, 0, 0, 1, 0, 1, 1, 0, 1, 1, 1, 1, 0, 0, 1, 1, 1, 0, 0, 1, 0, 1, 0, 1, 1, 1, 1, 1, 1, 0, 0, 0, 1, 0, 1, 0, 0, 0, 0, 1, 0, 0, 0, 0, 0, 1, 1, 1, 0, 0, 0, 1, 1, 1, 1, 0, 0, 0, 0, 0, 0, 1, 0, 0, 0, 1, 0, 0, 0, 1, 1, 1, 0, 0, 1, 1, 0, 0, 1, 1, 1, 0, 0, 0, 1, 1, 0, 0, 0, 0, 0, 0, 1, 1, 0, 1, 1, 1, 1, 1, 1, 1, 0, 1, 0, 0, 1, 0, 0, 1, 1, 1, 1, 1, 0, 1, 1, 0, 1, 0, 0, 0, 0, 1, 1, 1, 0, 1, 1, 1, 0, 0, 0, 1, 1, 0, 1, 0, 0, 1, 1, 0, 1, 1, 0, 0, 0, 1, 1, 0, 0, 0, 1, 1, 0, 0, 1, 1, 1, 0, 0, 1, 0, 0, 0, 1, 0, 0, 1, 1, 1, 1, 1, 0, 0, 0, 0, 0, 1, 0, 0, 0, 0, 0, 1, 0, 0, 0, 1, 1, 0, 0, 0, 0, 0, 0, 1, 1, 0, 1, 0, 0, 0, 1, 0, 0, 0, 0, 1, 1, 0, 0, 1, 0, 0, 1, 0, 0, 0, 0, 0, 1, 0, 1, 0, 0, 1, 0, 0, 0, 0, 1, 1, 1, 0, 1, 1, 0, 0, 0, 1, 0, 1, 1, 1, 1, 0, 1, 0, 1, 0, 0, 1, 0, 1, 0, 1, 0, 1, 0, 0, 0, 0, 1, 0, 0, 0, 1, 1, 1, 0, 1, 1, 1, 0, 0, 0, 1, 1, 0, 0, 1, 1, 0, 0, 1, 1, 0, 1, 1, 0, 0, 0, 1, 0, 0, 0, 1, 0, 1, 0, 1, 0, 1, 1, 0, 1, 1, 0, 1, 1, 0, 0, 1, 0, 0, 0, 0, 0, 1, 1, 0, 0, 0, 0, 1, 0, 0, 1, 1, 1, 1, 0, 0, 0, 1, 0, 0, 1, 1, 0, 1, 1, 0, 1, 1, 1, 0, 1, 0, 0, 1, 0, 0, 1, 1, 1, 0, 1, 1, 1, 0, 1, 1, 1, 1, 0, 1, 0, 0, 1, 0, 0, 0, 0, 0, 0, 0, 0, 1, 1, 0, 1, 0, 1, 1, 1, 1, 1, 1, 1, 1, 1, 0, 0, 1, 1, 0, 0, 1, 0, 1, 1, 1, 1, 1, 1, 0, 0, 1, 0, 0, 0, 0, 1, 1, 0, 1, 0, 1, 1, 1, 0, 0, 0, 1, 1, 1, 1, 1, 0, 1, 1, 0, 0, 0, 1, 0, 0, 1, 0, 1, 1, 1, 0, 1, 1, 1, 0, 0, 1, 1, 1, 1, 0, 0, 1, 1, 0, 1, 0, 1, 1, 0, 0, 1, 0, 0, 1, 1, 1, 0, 1, 1, 0, 0, 0, 1, 1, 0, 1, 1, 1, 1, 0, 0, 0, 1, 1, 0, 1, 1, 0, 0, 1, 0, 0, 1, 0, 1, 0, 0, 0, 1, 1, 1, 1, 1, 0, 1, 1, 1, 1, 0, 1, 0, 1, 0, 0, 1, 0, 0, 0, 0, 1, 0, 0, 1, 0, 0, 0, 0, 1, 1, 0, 0, 0, 0, 1, 1, 0, 1, 1, 0, 0, 1, 0, 1, 0, 0, 0, 1, 1, 0, 0, 0, 1, 0, 0, 0, 1, 0, 0, 1, 0, 0, 0, 1, 1, 1, 1, 0, 0, 0, 0, 1, 0, 1, 1, 1, 0, 0, 1, 1, 1, 1, 1, 1, 1, 0, 1, 0, 0, 1, 1, 1, 0, 0, 0, 1, 1, 1, 0, 0, 1, 0, 0, 1, 1, 1, 1, 1, 0, 0, 1, 1, 0, 1, 0, 0, 1, 1, 0, 0, 1, 1, 0, 1, 0, 0, 0, 1, 0, 0, 0, 0, 0, 0, 0, 1, 1, 1, 1, 1, 1, 1, 1, 1, 0, 1, 0, 0, 0, 1, 1, 0] y: 9635>>\n"
     ]
    }
   ],
   "source": [
    "cut = np.random.randint(0,2,max_cut.meta_data.n_variables)\n",
    "max_cut(cut)\n",
    "print(max_cut.state)"
   ]
  },
  {
   "cell_type": "markdown",
   "id": "299c3603",
   "metadata": {},
   "source": [
    "# RLS"
   ]
  },
  {
   "cell_type": "code",
   "execution_count": 135,
   "id": "c64b1486",
   "metadata": {},
   "outputs": [],
   "source": [
    "import numpy as np\n",
    "\n",
    "class RandomLocalSearch:\n",
    "    'Random local search algorithm'\n",
    "    def __init__(self, n: int):\n",
    "        self.n: int = n\n",
    "        \n",
    "    def __call__(self, problem: ioh.ProblemClass.GRAPH) -> None:\n",
    "        'For each it flip 1 bit chosen uar and keep the best of both'\n",
    "        \n",
    "        x = np.random.randint(0,2,problem.meta_data.n_variables)\n",
    "        val = problem(x)\n",
    "        for _ in range(self.n):\n",
    "            index_to_flip = np.random.randint(0,problem.meta_data.n_variables)\n",
    "            y = x\n",
    "            y[index_to_flip] = 1 - y[index_to_flip]\n",
    "            val_y = problem(y)\n",
    "            if val_y > val:\n",
    "                x = y\n",
    "                val = val_y"
   ]
  },
  {
   "cell_type": "code",
   "execution_count": 232,
   "id": "7ca72e38",
   "metadata": {},
   "outputs": [
    {
     "name": "stdout",
     "output_type": "stream",
     "text": [
      "10001 -226.0 -183.0\n"
     ]
    }
   ],
   "source": [
    "max_coverage.reset()\n",
    "r = RandomLocalSearch(nb_it)\n",
    "r(max_coverage)\n",
    "print(max_coverage.state.evaluations, max_coverage.state.y_unconstrained, max_coverage.state.y_unconstrained_best)"
   ]
  },
  {
   "cell_type": "code",
   "execution_count": 198,
   "id": "8e5e816c",
   "metadata": {},
   "outputs": [
    {
     "name": "stdout",
     "output_type": "stream",
     "text": [
      "10001 9576.0 9781.0\n"
     ]
    }
   ],
   "source": [
    "max_cut.reset()\n",
    "r = RandomLocalSearch(nb_it)\n",
    "r(max_cut)\n",
    "print(max_cut.state.evaluations, max_cut.state.y_unconstrained, max_cut.state.y_unconstrained_best)"
   ]
  },
  {
   "cell_type": "markdown",
   "id": "62c84335",
   "metadata": {},
   "source": [
    "# (1+1) EA "
   ]
  },
  {
   "cell_type": "code",
   "execution_count": 144,
   "id": "d563e4a1",
   "metadata": {},
   "outputs": [],
   "source": [
    "class EA_1p1:\n",
    "    '(1+1)-EA'\n",
    "    def __init__(self, n: int, p : float):\n",
    "        self.n: int = n\n",
    "        self.p: float = p\n",
    "        \n",
    "    def __call__(self, problem: ioh.ProblemClass.GRAPH) -> None:\n",
    "        x = np.random.randint(0,2,problem.meta_data.n_variables)\n",
    "        val = problem(x)\n",
    "        for _ in range(self.n):\n",
    "            y = x.copy()\n",
    "            for ind in range(len(x)):\n",
    "                y[ind] = 1 - y[ind] if np.random.binomial(1,self.p) else y[ind]\n",
    "            val_y = problem(y)\n",
    "            if val_y > val:\n",
    "                x = y\n",
    "                val = val_y"
   ]
  },
  {
   "cell_type": "code",
   "execution_count": 261,
   "id": "405ede91",
   "metadata": {},
   "outputs": [
    {
     "name": "stdout",
     "output_type": "stream",
     "text": [
      "0 -inf -inf\n"
     ]
    }
   ],
   "source": [
    "max_coverage.reset()\n",
    "ea_11 = EA_1p1(nb_it, 1/max_coverage.meta_data.n_variables)\n",
    "ea_11(max_coverage)\n",
    "print(max_cut.state.evaluations, max_cut.state.y_unconstrained, max_cut.state.y_unconstrained_best)"
   ]
  },
  {
   "cell_type": "code",
   "execution_count": 170,
   "id": "ea318881",
   "metadata": {},
   "outputs": [
    {
     "name": "stdout",
     "output_type": "stream",
     "text": [
      "<State evaluations: 10001 optimum_found: false current_best: <Solution x: [0, 0, 1, 0, 1, 1, 0, 1, 1, 1, 1, 0, 0, 0, 1, 1, 0, 0, 0, 1, 0, 1, 0, 1, 0, 0, 0, 1, 0, 1, 1, 1, 0, 1, 1, 1, 0, 0, 0, 1, 1, 0, 1, 1, 0, 1, 0, 0, 0, 0, 0, 1, 1, 1, 1, 1, 0, 0, 0, 0, 0, 1, 1, 0, 0, 0, 1, 1, 0, 1, 1, 1, 1, 0, 0, 0, 0, 1, 0, 1, 1, 1, 0, 1, 0, 1, 1, 1, 0, 0, 0, 1, 1, 1, 0, 0, 1, 1, 0, 1, 1, 1, 0, 1, 1, 1, 0, 1, 1, 0, 1, 1, 0, 1, 0, 1, 0, 0, 1, 1, 0, 0, 1, 1, 1, 0, 1, 1, 1, 1, 0, 1, 0, 1, 1, 1, 0, 1, 0, 1, 0, 0, 1, 1, 1, 1, 1, 1, 0, 0, 0, 1, 1, 1, 0, 0, 1, 1, 0, 0, 0, 0, 0, 1, 0, 0, 0, 0, 0, 1, 1, 0, 0, 1, 1, 1, 1, 1, 0, 1, 0, 1, 1, 1, 0, 0, 1, 1, 1, 1, 0, 1, 0, 0, 0, 1, 0, 0, 0, 0, 1, 0, 1, 0, 0, 0, 0, 1, 0, 1, 1, 0, 1, 1, 0, 0, 0, 0, 1, 0, 1, 0, 1, 0, 0, 0, 1, 1, 1, 0, 1, 0, 1, 0, 0, 1, 1, 0, 1, 0, 0, 1, 0, 1, 0, 0, 0, 0, 0, 1, 0, 1, 0, 1, 1, 1, 0, 1, 0, 0, 1, 1, 1, 0, 1, 1, 1, 0, 1, 0, 1, 0, 1, 0, 0, 1, 1, 0, 0, 0, 1, 1, 0, 1, 0, 1, 0, 0, 1, 0, 0, 1, 1, 1, 0, 1, 0, 0, 1, 1, 1, 0, 0, 0, 0, 1, 1, 0, 0, 0, 0, 0, 1, 1, 1, 1, 0, 0, 0, 1, 1, 0, 0, 0, 1, 0, 1, 1, 1, 0, 0, 0, 1, 1, 1, 0, 0, 0, 1, 1, 1, 0, 1, 0, 0, 1, 0, 1, 0, 0, 0, 1, 0, 1, 0, 1, 0, 1, 0, 1, 1, 0, 0, 1, 1, 1, 0, 1, 0, 0, 0, 1, 1, 1, 0, 0, 1, 1, 1, 0, 0, 1, 1, 1, 1, 0, 0, 1, 1, 1, 0, 0, 0, 1, 0, 0, 1, 1, 0, 1, 0, 0, 0, 1, 1, 1, 0, 0, 1, 1, 1, 0, 1, 1, 1, 0, 0, 1, 1, 0, 0, 1, 1, 1, 1, 0, 0, 1, 1, 0, 1, 0, 1, 0, 0, 1, 0, 0, 1, 0, 1, 0, 1, 1, 1, 1, 0, 0, 0, 0, 1, 0, 0, 0, 0, 0, 0, 0, 1, 1, 1, 1, 0, 0, 0, 0, 0, 1, 0, 0, 1, 1, 1, 0, 1, 0, 0, 0, 1, 1, 1, 1, 0, 1, 1, 0, 1, 0, 0, 1, 0, 0, 0, 0, 1, 0, 0, 1, 1, 1, 0, 0, 1, 1, 0, 1, 0, 0, 1, 1, 1, 0, 1, 1, 0, 0, 1, 1, 1, 1, 0, 0, 0, 0, 1, 0, 0, 1, 1, 1, 0, 1, 1, 1, 0, 1, 0, 0, 0, 1, 1, 0, 1, 1, 1, 1, 1, 0, 1, 0, 1, 0, 0, 1, 1, 1, 1, 0, 0, 1, 0, 1, 1, 0, 0, 1, 0, 1, 0, 1, 1, 0, 1, 1, 1, 0, 0, 1, 1, 0, 0, 1, 0, 1, 1, 1, 1, 0, 1, 0, 1, 0, 1, 1, 1, 1, 1, 0, 0, 0, 1, 0, 1, 1, 1, 1, 1, 1, 0, 1, 0, 1, 1, 0, 0, 1, 0, 1, 1, 1, 0, 1, 0, 1, 0, 1, 1, 0, 0, 0, 1, 0, 0, 1, 1, 0, 0, 0, 1, 1, 0, 1, 1, 0, 0, 1, 0, 1, 0, 1, 0, 1, 1, 0, 0, 1, 0, 0, 0, 1, 1, 0, 1, 0, 1, 1, 0, 0, 1, 1, 1, 1, 0, 1, 0, 1, 1, 0, 1, 1, 1, 1, 0, 1, 1, 1, 1, 1, 1, 0, 0, 0, 0, 1, 1, 0, 0, 0, 1, 0, 1, 1, 0, 1, 0, 1, 0, 1, 0, 0, 1, 0, 0, 0, 0, 1, 0, 1, 0, 0, 0, 0, 0, 1, 1, 1, 0, 1, 0, 0, 1, 1, 0, 1, 1, 1, 0, 1, 0, 0, 0, 0, 1, 1, 0, 1, 0, 1, 0, 0, 0, 0, 1, 0, 0, 1, 1, 0, 1, 0, 1, 0, 1, 0, 1, 1, 1, 1, 0, 0, 0, 0, 1, 0, 0, 1, 0, 0, 1, 1, 0, 1, 0, 1, 0, 0, 0, 0, 1, 1, 1, 1, 0, 1, 0, 1, 0, 0, 0, 0] y: 11058>>\n"
     ]
    }
   ],
   "source": [
    "max_cut.reset()\n",
    "ea_11 = EA_1p1(nb_it, np.log(max_cut.meta_data.n_variables)/max_cut.meta_data.n_variables)\n",
    "ea_11(max_cut)\n",
    "print(max_cut.state)"
   ]
  },
  {
   "cell_type": "markdown",
   "id": "16f12129",
   "metadata": {},
   "source": [
    "# (1+($\\lambda, \\lambda$)) EA "
   ]
  },
  {
   "cell_type": "code",
   "execution_count": 92,
   "id": "c6e94680-f128-473e-a169-8679e3153d6c",
   "metadata": {},
   "outputs": [],
   "source": [
    "max_cut.reset()"
   ]
  },
  {
   "cell_type": "code",
   "execution_count": 146,
   "id": "8accd9ad",
   "metadata": {},
   "outputs": [],
   "source": [
    "import random\n",
    "\n",
    "class EA_1plamlam:\n",
    "    '(1+(lam,lam))-EA'\n",
    "    def __init__(self, n: int, lam : int, p : float, c : float):\n",
    "        self.n: int = n\n",
    "        self.lam: int = lam\n",
    "        self.p: float = p\n",
    "        self.c: float = c\n",
    "        \n",
    "    def __call__(self, problem: ioh.ProblemClass.GRAPH) -> None:\n",
    "        length_x = problem.meta_data.n_variables\n",
    "        x = np.random.randint(0,2,length_x)\n",
    "        val = problem(x)\n",
    "        for _ in range(self.n):\n",
    "            L = np.random.binomial(length_x, self.p)\n",
    "            xp = None\n",
    "            best_val = None # we allow for worse values than x\n",
    "            for _ in range(self.lam):\n",
    "                bits_to_flip = random.sample(range(length_x), L)\n",
    "                new_xp = x.copy()\n",
    "                for i in bits_to_flip:\n",
    "                    new_xp[i] = 1 - new_xp[i] if np.random.binomial(1, self.p) else new_xp[i]\n",
    "            val_new_xp = problem(new_xp)\n",
    "            if best_val is None or val_new_xp > best_val:\n",
    "                xp = new_xp\n",
    "                best_val = val_new_xp \n",
    "            y = x.copy()\n",
    "            best_val = None\n",
    "            for _ in range(self.lam):\n",
    "                new_y = x.copy()\n",
    "                for i in range(length_x):\n",
    "                    if np.random.binomial(1,self.c):\n",
    "                        new_y[i] = xp[i]\n",
    "                val_new_y = problem(new_y)\n",
    "                if best_val is None or val_new_y > best_val:\n",
    "                    y = new_y\n",
    "                    best_val = val_new_y\n",
    "            if best_val > val:\n",
    "                x = y\n",
    "                val = best_val"
   ]
  },
  {
   "cell_type": "code",
   "execution_count": 270,
   "id": "e3c305bd",
   "metadata": {},
   "outputs": [
    {
     "name": "stdout",
     "output_type": "stream",
     "text": [
      "11001 -232.0 -232.0\n"
     ]
    }
   ],
   "source": [
    "import math\n",
    "max_coverage.reset()\n",
    "dim_pb = max_coverage.meta_data.n_variables\n",
    "ea_1lamlam = EA_1plamlam(math.ceil(nb_it / (10)), 10, 1/dim_pb, 1/dim_pb)\n",
    "ea_1lamlam(max_coverage)\n",
    "print(max_coverage.state.evaluations, max_coverage.state.y_unconstrained, max_coverage.state.y_unconstrained_best)"
   ]
  },
  {
   "cell_type": "code",
   "execution_count": 172,
   "id": "77714957",
   "metadata": {},
   "outputs": [
    {
     "name": "stdout",
     "output_type": "stream",
     "text": [
      "11001 9602.0 9609.0\n"
     ]
    }
   ],
   "source": [
    "import math\n",
    "max_cut.reset()\n",
    "dim_pb = max_cut.meta_data.n_variables\n",
    "ea_1lamlam = EA_1plamlam(math.ceil(nb_it / (10)), 10, 1/dim_pb, 1/dim_pb)\n",
    "ea_1lamlam(max_cut)\n",
    "print(max_cut.state.evaluations, max_cut.state.y_unconstrained, max_cut.state.y_unconstrained_best)"
   ]
  },
  {
   "cell_type": "markdown",
   "id": "5c1585f2",
   "metadata": {},
   "source": [
    "# First idea \n",
    "as dealing with submodular functions, we may want to select the arguments that make it grow \"the most at first\" --> as when adding more elements we face diminishing returns\n",
    "so from a solution x -> we build lam xs turning off L bits of uar and keeping the best -> we then build lam ys by flipping on L' bits of the best xs uniformly at random and keeping the best y --> then we turn on each bit present in y and not in x\n",
    "\n",
    "problem: solution x keeps growing?\n",
    "how to stop that?"
   ]
  },
  {
   "cell_type": "code",
   "execution_count": 265,
   "id": "0ed627ea",
   "metadata": {},
   "outputs": [],
   "source": [
    "class OffAndOn:\n",
    "    def __init__(self, n: int, lam : int, p_off : float, p_on : float, x_init_0 : bool):\n",
    "        self.n: int = n\n",
    "        self.p_off: int = p_off\n",
    "        self.p_on: int = p_on\n",
    "        self.lam: float = lam\n",
    "        self.x_init_0: bool = x_init_0\n",
    "        \n",
    "        \n",
    "    def __call__(self, problem: ioh.ProblemClass.GRAPH) -> None:\n",
    "        if self.x_init_0:\n",
    "            x = np.zeros(problem.meta_data.n_variables, dtype=int)\n",
    "        else:\n",
    "            x = np.random.randint(0,2,problem.meta_data.n_variables)\n",
    "        val = problem(x)\n",
    "        for _ in range(self.n):\n",
    "            L = np.random.binomial(problem.meta_data.n_variables, self.p_off)\n",
    "            xp = None\n",
    "            best_val = None \n",
    "            for _ in range(self.lam):\n",
    "                # mutation 1 : we turn off L bits \n",
    "                bits_to_flip = random.sample(range(problem.meta_data.n_variables), L)\n",
    "                new_xp = x.copy()\n",
    "                for i in bits_to_flip:\n",
    "                    new_xp[i] = 0\n",
    "            val_new_xp = problem(new_xp)\n",
    "            if best_val is None or val_new_xp > best_val:\n",
    "                xp = new_xp\n",
    "                best_val = val_new_xp \n",
    "            L = np.random.binomial(problem.meta_data.n_variables, self.p_on)\n",
    "            y = xp.copy()\n",
    "            best_val = None\n",
    "            for _ in range(self.lam):\n",
    "                # mutation 2 : we turn on L bits\n",
    "                new_y = x.copy()\n",
    "                bits_to_flip = random.sample(range(problem.meta_data.n_variables), L)\n",
    "                for i in bits_to_flip:\n",
    "                    new_y[i] = 1\n",
    "                val_new_y = problem(new_y)\n",
    "                if best_val is None or val_new_y > best_val:\n",
    "                    y = new_y\n",
    "                    best_val = val_new_y\n",
    "            # mix:\n",
    "            # if bit in y and not in x then I turn it on \n",
    "            mix = x.copy()\n",
    "            for i in range(problem.meta_data.n_variables):\n",
    "                if y[i] and not x[i]:\n",
    "                    mix[i] = 1\n",
    "            val_new = problem(mix)\n",
    "            if val_new > val:\n",
    "                x = mix\n",
    "                val = best_val\n",
    "            "
   ]
  },
  {
   "cell_type": "code",
   "execution_count": 248,
   "id": "2654b399",
   "metadata": {},
   "outputs": [
    {
     "name": "stdout",
     "output_type": "stream",
     "text": [
      "10921 10768.0\n"
     ]
    }
   ],
   "source": [
    "import math\n",
    "max_cut.reset()\n",
    "dim_pb = max_cut.meta_data.n_variables\n",
    "lam = 10\n",
    "offandon = OffAndOn(math.ceil(nb_it / (lam + 1)), lam, lam/dim_pb, 1/dim_pb, False)\n",
    "offandon(max_cut)\n",
    "print(max_cut.state.evaluations, max_cut.state.y_unconstrained_best)"
   ]
  },
  {
   "cell_type": "code",
   "execution_count": 269,
   "id": "adbbaa52",
   "metadata": {},
   "outputs": [
    {
     "name": "stdout",
     "output_type": "stream",
     "text": [
      "10921 416.0\n"
     ]
    }
   ],
   "source": [
    "import math\n",
    "max_coverage.reset()\n",
    "dim_pb = max_coverage.meta_data.n_variables\n",
    "lam = 10\n",
    "offandon = OffAndOn(math.ceil(nb_it / (lam + 1)), lam, lam/dim_pb, 1/dim_pb, True)\n",
    "offandon(max_coverage)\n",
    "print(max_coverage.state.evaluations, max_coverage.state.y_unconstrained_best)"
   ]
  }
 ],
 "metadata": {
  "kernelspec": {
   "display_name": "Python 3 (ipykernel)",
   "language": "python",
   "name": "python3"
  },
  "language_info": {
   "codemirror_mode": {
    "name": "ipython",
    "version": 3
   },
   "file_extension": ".py",
   "mimetype": "text/x-python",
   "name": "python",
   "nbconvert_exporter": "python",
   "pygments_lexer": "ipython3",
   "version": "3.8.10"
  }
 },
 "nbformat": 4,
 "nbformat_minor": 5
}
